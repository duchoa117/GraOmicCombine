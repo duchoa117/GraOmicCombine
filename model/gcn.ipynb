{
 "cells": [
  {
   "cell_type": "code",
   "execution_count": 1,
   "metadata": {},
   "outputs": [],
   "source": [
    "import os\n",
    "os.chdir(\"../\")"
   ]
  },
  {
   "cell_type": "code",
   "execution_count": 2,
   "metadata": {},
   "outputs": [
    {
     "name": "stdout",
     "output_type": "stream",
     "text": [
      "create_data.ipynb  \u001b[0m\u001b[01;34mmodel\u001b[0m/    \u001b[01;34m__pycache__\u001b[0m/              temp.csv  utils_test.py\n",
      "\u001b[01;34mdata\u001b[0m/              mut_dict  split_process_data.ipynb  utils.py\n"
     ]
    }
   ],
   "source": [
    "ls"
   ]
  },
  {
   "cell_type": "code",
   "execution_count": 3,
   "metadata": {
    "id": "Hr2OuKpCq839"
   },
   "outputs": [],
   "source": [
    "import numpy as np\n",
    "import pandas as pd\n",
    "import sys, os\n",
    "from random import shuffle\n",
    "import torch\n",
    "import torch.nn as nn\n",
    "import torch.nn.functional as F\n",
    "from torch.nn import Sequential, Linear, ReLU\n",
    "from torch_geometric.nn import GINConv, global_add_pool\n",
    "from torch_geometric.nn import global_mean_pool as gap, global_max_pool as gmp\n",
    "from utils import *\n",
    "import datetime\n",
    "import matplotlib.pyplot as plt\n",
    "import pickle\n",
    "from tqdm.notebook import tqdm"
   ]
  },
  {
   "cell_type": "code",
   "execution_count": 4,
   "metadata": {
    "id": "QmkPZtF6NoAr"
   },
   "outputs": [],
   "source": [
    "data_path = \"data\"\n",
    "data_processed_path = \"data/processed/\""
   ]
  },
  {
   "cell_type": "markdown",
   "metadata": {
    "id": "MPBpKDG_NgwF"
   },
   "source": [
    "#Define model"
   ]
  },
  {
   "cell_type": "code",
   "execution_count": 5,
   "metadata": {
    "id": "zIKk0zrkrF5A"
   },
   "outputs": [],
   "source": [
    "from torch.nn import Sequential, Linear, ReLU\n",
    "from torch_geometric.nn import GINConv, global_add_pool\n",
    "from torch_geometric.nn import global_mean_pool as gap, global_max_pool as gmp\n",
    "from torch_geometric.nn import GCNConv, global_max_pool as gmp\n",
    "\n",
    "# GINConv model\n",
    "class GCNConvNet(torch.nn.Module):\n",
    "    def __init__(self, n_output=1,num_features_xd=78, num_features_xt=25,\n",
    "                 n_filters=32, embed_dim=128, output_dim=128, dropout=0.2, out_tissue_d=13):\n",
    "\n",
    "        super(GCNConvNet, self).__init__()\n",
    "\n",
    "        dim = 32\n",
    "        self.dropout = nn.Dropout(dropout)\n",
    "        self.relu = nn.ReLU()\n",
    "        self.n_output = n_output\n",
    "        # convolution layers\n",
    "        self.conv1 = GCNConv(num_features_xd, num_features_xd)\n",
    "        self.conv2 = GCNConv(num_features_xd, num_features_xd*2)\n",
    "        self.conv3 = GCNConv(num_features_xd*2, num_features_xd * 4)\n",
    "        self.fc_g1 = torch.nn.Linear(num_features_xd*4, 1024)\n",
    "        self.fc_g2 = torch.nn.Linear(1024, output_dim)\n",
    "        self.relu = nn.ReLU()\n",
    "        self.dropout = nn.Dropout(dropout)\n",
    "\n",
    "        # cell line feature\n",
    "        self.target_cnv_block = Sequential(\n",
    "            nn.Conv1d(in_channels=1, out_channels=n_filters, kernel_size=8, stride=2),\n",
    "            nn.MaxPool1d(3),\n",
    "            nn.Conv1d(in_channels=n_filters, out_channels=n_filters, kernel_size=8, stride=2),\n",
    "            nn.MaxPool1d(3),\n",
    "            nn.Conv1d(in_channels=n_filters, out_channels=n_filters*2, kernel_size=4),\n",
    "            nn.MaxPool1d(3),\n",
    "            nn.Conv1d(in_channels=n_filters*2, out_channels=n_filters*2, kernel_size=4),\n",
    "            nn.MaxPool1d(2),\n",
    "            nn.Conv1d(in_channels=n_filters*2, out_channels=n_filters*4, kernel_size=4),\n",
    "            nn.MaxPool1d(2),\n",
    "            nn.Conv1d(in_channels=n_filters*4, out_channels=n_filters*4, kernel_size=2),\n",
    "            nn.MaxPool1d(2),\n",
    "            nn.Conv1d(in_channels=n_filters*4, out_channels=n_filters*2, kernel_size=2),\n",
    "            nn.MaxPool1d(2), \n",
    "        )\n",
    "        self.fc1_xt = nn.Linear(512, output_dim)\n",
    "\n",
    "        # combined layers\n",
    "        self.fc1 = nn.Linear(3*output_dim, 1024)\n",
    "        self.fc2 = nn.Linear(1024, 128)\n",
    "        self.out = nn.Linear(128, n_output)\n",
    "\n",
    "        # activation and regularization\n",
    "        self.relu = nn.ReLU()\n",
    "        self.dropout = nn.Dropout(0.5)\n",
    "\n",
    "    def forward(self, data):\n",
    "#         Batch(c_size_1=[1024], c_size_2=[1024], edge_index_1=[2, 67864], edge_index_2=[2, 68244],\n",
    "#               target=[1024, 735], x_1=[31406, 78], x_1_batch=[31406], x_2=[31559, 78], x_2_batch=[31559], y=[1024])\n",
    "        x_1_batch = data.x_1_batch\n",
    "        x_1, edge_index_1,  = data.x_1, data.edge_index_1\n",
    "        x_2_batch = data.x_2_batch\n",
    "        x_2, edge_index_2,  = data.x_2, data.edge_index_2\n",
    "        \n",
    "#         drug 1\n",
    "        x_1 = self.conv1(x_1, edge_index_1)\n",
    "        x_1 = self.relu(x_1)\n",
    "\n",
    "        x_1 = self.conv2(x_1, edge_index_1)\n",
    "        x_1 = self.relu(x_1)\n",
    "\n",
    "        x_1 = self.conv3(x_1, edge_index_1)\n",
    "        x_1 = self.relu(x_1)\n",
    "        x_1 = gmp(x_1, x_1_batch)       # global max pooling\n",
    "\n",
    "        # flatten\n",
    "        x_1 = self.relu(self.fc_g1(x_1))\n",
    "        x_1 = self.dropout(x_1)\n",
    "        x_1 = self.fc_g2(x_1)\n",
    "        x_1 = self.dropout(x_1)\n",
    "#         drug 2\n",
    "        x_2 = self.conv1(x_2, edge_index_2)\n",
    "        x_2 = self.relu(x_2)\n",
    "\n",
    "        x_2 = self.conv2(x_2, edge_index_2)\n",
    "        x_2 = self.relu(x_2)\n",
    "\n",
    "        x_2 = self.conv3(x_2, edge_index_2)\n",
    "        x_2 = self.relu(x_2)\n",
    "        x_2 = gmp(x_2, x_2_batch)       # global max pooling\n",
    "\n",
    "        # flatten\n",
    "        x_2 = self.relu(self.fc_g1(x_2))\n",
    "        x_2 = self.dropout(x_2)\n",
    "        x_2 = self.fc_g2(x_2)\n",
    "        x_2 = self.dropout(x_2)\n",
    "        \n",
    "        # protein input feed-forward:\n",
    "        target = data.target\n",
    "        target = target[:,None,:]\n",
    "#         print(target.shape)\n",
    "\n",
    "        # 1d conv layers\n",
    "        conv_xt = self.target_cnv_block(target)\n",
    "#         print(conv_xt.shape)\n",
    "        # flatten\n",
    "        xt = conv_xt.view(-1, conv_xt.shape[1] * conv_xt.shape[2])\n",
    "        xt = self.fc1_xt(xt)\n",
    "        \n",
    "        # concat\n",
    "        xc = torch.cat((x_1, x_2, xt), 1)\n",
    "        # add some dense layers\n",
    "        xc = self.fc1(xc)\n",
    "        xc = self.relu(xc)\n",
    "        xc = self.dropout(xc)\n",
    "        xc = self.fc2(xc)\n",
    "        xc = self.relu(xc)\n",
    "        xc = self.dropout(xc)\n",
    "        out = self.out(xc)\n",
    "        \n",
    "        return out"
   ]
  },
  {
   "cell_type": "code",
   "execution_count": 6,
   "metadata": {
    "id": "jqz2LGdQuRQ_"
   },
   "outputs": [],
   "source": [
    "# training function at each epoch\n",
    "import timeit\n",
    "\n",
    "def train(model, device, train_loader, optimizer, epoch, log_interval):\n",
    "    print('Training on {} samples...'.format(len(train_loader.dataset)))\n",
    "    model.train()\n",
    "    loss_fn = nn.MSELoss()\n",
    "    avg_loss = []\n",
    "    loop = tqdm(enumerate(train_loader))\n",
    "    for batch_idx, data in loop:\n",
    "        data = data.to(device)\n",
    "        optimizer.zero_grad()\n",
    "        output = model(data)\n",
    "        loss = loss_fn(output, data.y.view(-1, 1).float().to(device))\n",
    "        loss.backward()\n",
    "        optimizer.step()\n",
    "        avg_loss.append(loss.item())\n",
    "       \n",
    "        text = 'Train epoch: {} [{}/{} ({:.0f}%)]\\tLoss: {:.6f}'.format(epoch,\n",
    "                                                                           batch_idx * len(data.x_1),\n",
    "                                                                           len(train_loader.dataset),\n",
    "                                                                           100. * batch_idx / len(train_loader),\n",
    "                                                                           loss.item())\n",
    "        \n",
    "        loop.set_description(text)\n",
    "        loop.refresh() # to show immediately the update\n",
    "    return sum(avg_loss)/len(avg_loss)"
   ]
  },
  {
   "cell_type": "code",
   "execution_count": 7,
   "metadata": {
    "id": "2Iqc09aCuZKQ"
   },
   "outputs": [],
   "source": [
    "def predicting(model, device, loader):\n",
    "    model.eval()\n",
    "    total_preds = torch.Tensor()\n",
    "    total_labels = torch.Tensor()\n",
    "    print('Make prediction for {} samples...'.format(len(loader.dataset)))\n",
    "    with torch.no_grad():\n",
    "        for data in loader:\n",
    "            data = data.to(device)\n",
    "            output = model(data)\n",
    "            total_preds = torch.cat((total_preds, output.cpu()), 0)\n",
    "            total_labels = torch.cat((total_labels, data.y.view(-1, 1).cpu()), 0)\n",
    "    return total_labels.numpy().flatten(),total_preds.numpy().flatten()"
   ]
  },
  {
   "cell_type": "code",
   "execution_count": 8,
   "metadata": {
    "id": "6Vn8jKcosUEA"
   },
   "outputs": [],
   "source": [
    "def draw(list_, label, y_label, title):\n",
    "    plt.figure()\n",
    "    plt.plot(list_, label=label)\n",
    "    plt.title(title)\n",
    "    plt.xlabel('Epoch')\n",
    "    plt.ylabel(y_label)\n",
    "    plt.legend()\n",
    "    # save image\n",
    "    plt.savefig(title+\".png\")  # should before show method"
   ]
  },
  {
   "cell_type": "markdown",
   "metadata": {
    "id": "Rth4mZ0BN4bn"
   },
   "source": [
    "#Load data"
   ]
  },
  {
   "cell_type": "code",
   "execution_count": 9,
   "metadata": {
    "id": "8qktZ2NoN3nN"
   },
   "outputs": [],
   "source": [
    "model_st = \"GCNConvNet\"\n",
    "dataset = 'GDSC'\n",
    "train_batch = 512\n",
    "val_batch = 512\n",
    "test_batch = 512\n",
    "log_interval = 20"
   ]
  },
  {
   "cell_type": "code",
   "execution_count": 10,
   "metadata": {
    "colab": {
     "base_uri": "https://localhost:8080/"
    },
    "executionInfo": {
     "elapsed": 413434,
     "status": "ok",
     "timestamp": 1620975636023,
     "user": {
      "displayName": "Hoa D. Vu",
      "photoUrl": "https://lh3.googleusercontent.com/a-/AOh14Gi5xuU4jP5haCTK9aB8EdlS9KLrsyHO0J5s60I0xg=s64",
      "userId": "01639392045271123699"
     },
     "user_tz": -420
    },
    "id": "VNOa4SEM-bL4",
    "outputId": "27d073bf-a428-4530-bf5f-094f5221f473"
   },
   "outputs": [
    {
     "name": "stdout",
     "output_type": "stream",
     "text": [
      "\n",
      "running on  GCNConvNet_GDSC\n",
      "Pre-processed data found: data/processed/GDSC_train_dc.pt, loading ...\n",
      "Pre-processed data found: data/processed/GDSC_val_dc.pt, loading ...\n",
      "Pre-processed data found: data/processed/GDSC_test_dc.pt, loading ...\n",
      "Pre-processed data found: data/processed/GDSC_mix_val.pt, loading ...\n",
      "Pre-processed data found: data/processed/GDSC_blind_cell_val.pt, loading ...\n",
      "Pre-processed data found: data/processed/GDSC_blind_1_drug_val.pt, loading ...\n",
      "Pre-processed data found: data/processed/GDSC_blind_1_drug_cell_val.pt, loading ...\n",
      "Pre-processed data found: data/processed/GDSC_blind_2_drug_val.pt, loading ...\n",
      "Pre-processed data found: data/processed/GDSC_blind_all_val.pt, loading ...\n",
      "Pre-processed data found: data/processed/GDSC_mix_test.pt, loading ...\n",
      "Pre-processed data found: data/processed/GDSC_blind_cell_test.pt, loading ...\n",
      "Pre-processed data found: data/processed/GDSC_blind_1_drug_test.pt, loading ...\n",
      "Pre-processed data found: data/processed/GDSC_blind_1_drug_cell_test.pt, loading ...\n",
      "Pre-processed data found: data/processed/GDSC_blind_2_drug_test.pt, loading ...\n",
      "Pre-processed data found: data/processed/GDSC_blind_all_test.pt, loading ...\n"
     ]
    }
   ],
   "source": [
    "print('\\nrunning on ', model_st + '_' + dataset )\n",
    "train_data = TestbedDataset(root=data_path, dataset=dataset+\"_\"+'train_dc')\n",
    "val_data = TestbedDataset(root=data_path, dataset=dataset+\"_\"+'val_dc')\n",
    "test_data = TestbedDataset(root=data_path, dataset=dataset+\"_\"+'test_dc')\n",
    "\n",
    "val_mix_dc = TestbedDataset(root=data_path, dataset=dataset+\"_\"+'mix_val')\n",
    "val_blind_cell = TestbedDataset(root=data_path, dataset=dataset+\"_\"+'blind_cell_val')\n",
    "val_blind_1_drug = TestbedDataset(root=data_path, dataset=dataset+\"_\"+'blind_1_drug_val')\n",
    "val_blind_1_drug_cell = TestbedDataset(root=data_path, dataset=dataset+\"_\"+'blind_1_drug_cell_val')\n",
    "val_blind_2_drug = TestbedDataset(root=data_path, dataset=dataset+\"_\"+'blind_2_drug_val')\n",
    "val_blind_all = TestbedDataset(root=data_path, dataset=dataset+\"_\"+'blind_all_val')\n",
    "\n",
    "\n",
    "test_mix_dc = TestbedDataset(root=data_path, dataset=dataset+\"_\"+'mix_test')\n",
    "test_blind_cell = TestbedDataset(root=data_path, dataset=dataset+\"_\"+'blind_cell_test')\n",
    "test_blind_1_drug = TestbedDataset(root=data_path, dataset=dataset+\"_\"+'blind_1_drug_test')\n",
    "test_blind_1_drug_cell = TestbedDataset(root=data_path, dataset=dataset+\"_\"+'blind_1_drug_cell_test')\n",
    "test_blind_2_drug = TestbedDataset(root=data_path, dataset=dataset+\"_\"+'blind_2_drug_test')\n",
    "test_blind_all = TestbedDataset(root=data_path, dataset=dataset+\"_\"+'blind_all_test')"
   ]
  },
  {
   "cell_type": "code",
   "execution_count": 11,
   "metadata": {
    "colab": {
     "base_uri": "https://localhost:8080/"
    },
    "executionInfo": {
     "elapsed": 413432,
     "status": "ok",
     "timestamp": 1620975636028,
     "user": {
      "displayName": "Hoa D. Vu",
      "photoUrl": "https://lh3.googleusercontent.com/a-/AOh14Gi5xuU4jP5haCTK9aB8EdlS9KLrsyHO0J5s60I0xg=s64",
      "userId": "01639392045271123699"
     },
     "user_tz": -420
    },
    "id": "K1NjTIkT-TEo",
    "outputId": "1b4ce363-7a2d-4f43-98ad-33bf1e77a8c7"
   },
   "outputs": [
    {
     "name": "stdout",
     "output_type": "stream",
     "text": [
      "CPU/GPU:  True\n"
     ]
    }
   ],
   "source": [
    "# make data PyTorch\n",
    "# mini-batch processing ready\n",
    "train_loader = DataLoader(train_data, batch_size=train_batch, shuffle=True, follow_batch=['x_1', 'x_2'])\n",
    "val_loader = DataLoader(val_data, batch_size=val_batch, shuffle=False, follow_batch=['x_1', 'x_2'])\n",
    "test_loader = DataLoader(test_data, batch_size=test_batch, shuffle=False, follow_batch=['x_1', 'x_2'])\n",
    "\n",
    "val_mix_dc_loader = DataLoader(val_mix_dc, batch_size=test_batch, shuffle=False, follow_batch=['x_1', 'x_2'])\n",
    "val_blind_cell_loader = DataLoader(val_blind_cell, batch_size=test_batch, shuffle=False, follow_batch=['x_1', 'x_2'])\n",
    "val_blind_1_drug_loader = DataLoader(val_blind_1_drug, batch_size=test_batch, shuffle=False, follow_batch=['x_1', 'x_2'])\n",
    "val_blind_1_drug_cell_loader = DataLoader(val_blind_1_drug_cell, batch_size=test_batch, shuffle=False, follow_batch=['x_1', 'x_2'])\n",
    "val_blind_2_drug_loader = DataLoader(val_blind_2_drug, batch_size=test_batch, shuffle=False, follow_batch=['x_1', 'x_2'])\n",
    "val_blind_all_loader = DataLoader(val_blind_all, batch_size=test_batch, shuffle=False, follow_batch=['x_1', 'x_2'])\n",
    "\n",
    "test_mix_dc_loader = DataLoader(test_mix_dc, batch_size=test_batch, shuffle=False, follow_batch=['x_1', 'x_2'])\n",
    "test_blind_cell_loader = DataLoader(test_blind_cell, batch_size=test_batch, shuffle=False, follow_batch=['x_1', 'x_2'])\n",
    "test_blind_1_drug_loader = DataLoader(test_blind_1_drug, batch_size=test_batch, shuffle=False, follow_batch=['x_1', 'x_2'])\n",
    "test_blind_1_drug_cell_loader = DataLoader(test_blind_1_drug_cell, batch_size=test_batch, shuffle=False, follow_batch=['x_1', 'x_2'])\n",
    "test_blind_2_drug_loader = DataLoader(test_blind_2_drug, batch_size=test_batch, shuffle=False, follow_batch=['x_1', 'x_2'])\n",
    "test_blind_all_loader = DataLoader(test_blind_all, batch_size=test_batch, shuffle=False, follow_batch=['x_1', 'x_2'])\n",
    "\n",
    "\n",
    "print(\"CPU/GPU: \", torch.cuda.is_available())"
   ]
  },
  {
   "cell_type": "markdown",
   "metadata": {
    "id": "bMQ9mAaHN7Rs"
   },
   "source": [
    "#Training"
   ]
  },
  {
   "cell_type": "markdown",
   "metadata": {
    "id": "aDi7b574PBzl"
   },
   "source": [
    "##Init model"
   ]
  },
  {
   "cell_type": "code",
   "execution_count": 12,
   "metadata": {
    "colab": {
     "base_uri": "https://localhost:8080/"
    },
    "executionInfo": {
     "elapsed": 413425,
     "status": "ok",
     "timestamp": 1620975636029,
     "user": {
      "displayName": "Hoa D. Vu",
      "photoUrl": "https://lh3.googleusercontent.com/a-/AOh14Gi5xuU4jP5haCTK9aB8EdlS9KLrsyHO0J5s60I0xg=s64",
      "userId": "01639392045271123699"
     },
     "user_tz": -420
    },
    "id": "eChUZinTPIsl",
    "outputId": "b7d5795d-5cac-4444-ab87-4d6598c3f618"
   },
   "outputs": [
    {
     "name": "stdout",
     "output_type": "stream",
     "text": [
      "cuda\n"
     ]
    }
   ],
   "source": [
    "device = torch.device(\"cuda\" if torch.cuda.is_available() else \"cpu\")\n",
    "print(device)\n",
    "modeling = GCNConvNet\n",
    "model = modeling().to(device)"
   ]
  },
  {
   "cell_type": "markdown",
   "metadata": {
    "id": "c-fGib0aPW5H"
   },
   "source": [
    "##Define paramters"
   ]
  },
  {
   "cell_type": "code",
   "execution_count": 13,
   "metadata": {
    "colab": {
     "base_uri": "https://localhost:8080/"
    },
    "executionInfo": {
     "elapsed": 413417,
     "status": "ok",
     "timestamp": 1620975636029,
     "user": {
      "displayName": "Hoa D. Vu",
      "photoUrl": "https://lh3.googleusercontent.com/a-/AOh14Gi5xuU4jP5haCTK9aB8EdlS9KLrsyHO0J5s60I0xg=s64",
      "userId": "01639392045271123699"
     },
     "user_tz": -420
    },
    "id": "KvyarP1DJP4U",
    "outputId": "6f3012c7-6ca3-4a4c-e216-f81e20a5dc6f",
    "tags": []
   },
   "outputs": [
    {
     "name": "stdout",
     "output_type": "stream",
     "text": [
      "Learning rate:  0.001\n",
      "Epochs:  300\n"
     ]
    }
   ],
   "source": [
    "lr = 0.001\n",
    "num_epoch = 300\n",
    "best_ret_test = None\n",
    "print('Learning rate: ', lr)\n",
    "print('Epochs: ', num_epoch)"
   ]
  },
  {
   "cell_type": "code",
   "execution_count": 14,
   "metadata": {
    "id": "C08SzL4WPWXE"
   },
   "outputs": [],
   "source": [
    "train_losses = []\n",
    "val_losses = []\n",
    "val_pearsons = []\n",
    "\n",
    "val_mix_dc_losses = []\n",
    "val_blind_cell_losses = []\n",
    "val_blind_1_drug_losses = []\n",
    "val_blind_1_drug_cell_losses = []\n",
    "val_blind_2_drug_losses = []\n",
    "val_blind_all_losses = []\n",
    "\n",
    "val_mix_dc_pearsons = []\n",
    "val_blind_cell_pearsons = []\n",
    "val_blind_1_drug_pearsons = []\n",
    "val_blind_1_drug_cell_pearsons = []\n",
    "val_blind_2_drug_pearsons = []\n",
    "val_blind_all_pearsons = []"
   ]
  },
  {
   "cell_type": "markdown",
   "metadata": {
    "id": "VniJdvO-PJ89"
   },
   "source": [
    "##Train model"
   ]
  },
  {
   "cell_type": "code",
   "execution_count": 15,
   "metadata": {
    "id": "apGwAOJw5E50"
   },
   "outputs": [],
   "source": [
    "save_path = \"model/save_model/\" + \"GCN\" + \"/\"\n",
    "\n",
    "optimizer = torch.optim.Adam(model.parameters(), lr=lr)\n",
    "best_mse = 1000\n",
    "best_pearson = 1\n",
    "best_epoch = -1\n",
    "\n",
    "best_val_losses = 1000\n",
    "best_val_mix_dc_losses = 1000\n",
    "best_val_blind_cell_losses = 1000\n",
    "best_val_blind_1_drug_losses = 1000\n",
    "best_val_blind_1_drug_cell_losses = 1000\n",
    "best_val_blind_2_drug_losses = 1000\n",
    "best_val_blind_all_losses = 1000\n",
    "\n",
    "\n",
    "ret_test_save = None\n",
    "ret_test_mix_dc_save = None \n",
    "ret_test_blind_cell_save = None\n",
    "ret_test_blind_1_drug_save = None\n",
    "ret_test_blind_1_drug_cell_save = None\n",
    "ret_test_blind_2_drug_save = None\n",
    "ret_test_blind_all_save = None\n",
    "\n",
    "\n",
    "model_file_name = save_path + 'model_' + model_st + '_' + dataset +  '.model'\n",
    "current_file_model = save_path + 'current_model_' + model_st + '_' + dataset +  '.model'\n",
    "\n",
    "result_file_name = save_path + 'result_' + model_st + '_' + dataset +  '.csv'\n",
    "\n",
    "loss_fig_name = save_path + 'model_' + model_st + '_' + dataset + '_loss'\n",
    "pearson_fig_name = save_path + 'model_' + model_st + '_' + dataset + '_pearson'\n",
    "\n",
    "loss_fig_name_mix_dc = save_path + 'model_' + model_st + '_' + dataset + '_loss_mix_dc'\n",
    "pearson_fig_name_mix_dc = save_path + 'model_' + model_st + '_' + dataset + '_pearson_mix_dc'\n",
    "\n",
    "loss_fig_name_blind_cell = save_path + 'model_' + model_st + '_' + dataset + '_loss_blind_cell'\n",
    "pearson_fig_name_blind_cell = save_path + 'model_' + model_st + '_' + dataset + '_pearson_blind_cell'\n",
    "\n",
    "loss_fig_name_blind_1_drug = save_path + 'model_' + model_st + '_' + dataset + '_loss_blind_1_drug'\n",
    "pearson_fig_name_blind_1_drug = save_path + 'model_' + model_st + '_' + dataset + '_pearson_blind_1_drug'\n",
    "\n",
    "loss_fig_name_blind_1_drug_cell = save_path + 'model_' + model_st + '_' + dataset + '_loss_blind_1_drug_cell'\n",
    "pearson_fig_name_blind_1_drug_cell = save_path + 'model_' + model_st + '_' + dataset + '_pearson_blind_1_drug_cell'\n",
    "\n",
    "loss_fig_name_blind_2_drug = save_path + 'model_' + model_st + '_' + dataset + '_loss_blind_2_drug'\n",
    "pearson_fig_name_blind_2_drug = save_path + 'model_' + model_st + '_' + dataset + '_pearson_blind_2_drug'\n",
    "\n",
    "loss_fig_name_blind_all = save_path + 'model_' + model_st + '_' + dataset + '_loss_blind_all'\n",
    "pearson_fig_name_blind_all = save_path + 'model_' + model_st + '_' + dataset + '_pearson_blind_all'"
   ]
  },
  {
   "cell_type": "code",
   "execution_count": 16,
   "metadata": {},
   "outputs": [],
   "source": [
    "val_mix_dc_losses = []\n",
    "val_blind_cell_losses = []\n",
    "val_blind_1_drug_losses = []\n",
    "val_blind_1_drug_cell_losses = []\n",
    "val_blind_2_drug_losses = []\n",
    "val_blind_all_losses = []\n",
    "\n",
    "val_mix_dc_pearsons = []\n",
    "val_blind_cell_pearsons = []\n",
    "val_blind_1_drug_pearsons = []\n",
    "val_blind_1_drug_cell_pearsons = []\n",
    "val_blind_2_drug_pearsons = []\n",
    "val_blind_all_pearsons = []"
   ]
  },
  {
   "cell_type": "markdown",
   "metadata": {
    "id": "zXRUptKSbb48"
   },
   "source": [
    "\n",
    "#Continue Training"
   ]
  },
  {
   "cell_type": "code",
   "execution_count": 17,
   "metadata": {
    "id": "ouFIl9iPbg4M"
   },
   "outputs": [],
   "source": [
    "#load model\n",
    "if os.path.exists(current_file_model):\n",
    "  model.load_state_dict(torch.load(current_file_model))\n",
    "  with open(save_path+ \"log.pickle\", \"rb\") as f:\n",
    "    log = pickle.load(f)\n",
    "  train_losses, val_losses,\\\n",
    "  val_mix_dc_losses, val_blind_cell_losses,\\\n",
    "  val_blind_1_drug_losses, val_blind_1_drug_cell_losses,\\\n",
    "  val_blind_2_drug_losses, val_blind_all_losses,\\\n",
    "  val_mix_dc_pearsons, val_blind_cell_pearsons,\\\n",
    "  val_blind_1_drug_pearsons, val_blind_1_drug_cell_pearsons,\\\n",
    "  val_blind_2_drug_pearsons, val_blind_all_pearsons = log\n",
    "  best_mse = min(val_losses)\n",
    "  best_pearson = 1\n",
    "  best_epoch = -1\n",
    "  print(\"load previous model\")"
   ]
  },
  {
   "cell_type": "code",
   "execution_count": 18,
   "metadata": {},
   "outputs": [],
   "source": [
    "def return_ret(G, P):\n",
    "    return [rmse(G,P),mse(G,P),pearson(G,P),spearman(G,P)]"
   ]
  },
  {
   "cell_type": "code",
   "execution_count": 19,
   "metadata": {
    "id": "EH8vCq03cXSG",
    "tags": []
   },
   "outputs": [
    {
     "name": "stdout",
     "output_type": "stream",
     "text": [
      "Training on 18037 samples...\n",
      "Training on 18037 samples...\n"
     ]
    },
    {
     "data": {
      "application/vnd.jupyter.widget-view+json": {
       "model_id": "66bc6477cb614838934cdf5521286274",
       "version_major": 2,
       "version_minor": 0
      },
      "text/plain": [
       "0it [00:00, ?it/s]"
      ]
     },
     "metadata": {},
     "output_type": "display_data"
    },
    {
     "name": "stdout",
     "output_type": "stream",
     "text": [
      "Make prediction for 8697 samples...\n",
      "Make prediction for 1594 samples...\n",
      "Make prediction for 2126 samples...\n",
      "Make prediction for 3846 samples...\n",
      "Make prediction for 771 samples...\n",
      "Make prediction for 300 samples...\n",
      "Make prediction for 60 samples...\n",
      "Make prediction for 8708 samples...\n",
      "RMSE all test improved\n",
      "Make prediction for 1593 samples...\n",
      "RMSE mix test improved\n",
      "Make prediction for 2126 samples...\n",
      "RMSE blind cell test improved\n",
      "Make prediction for 3858 samples...\n",
      "RMSE blind 1 drug improved\n",
      "Make prediction for 771 samples...\n",
      "RMSE blind 1 drug cell improved\n",
      "Make prediction for 300 samples...\n",
      "RMSE blind 2 drug improved\n",
      "Make prediction for 60 samples...\n",
      "RMSE blind all improved\n",
      "Training on 18037 samples...\n",
      "Training on 18037 samples...\n"
     ]
    },
    {
     "data": {
      "application/vnd.jupyter.widget-view+json": {
       "model_id": "c47f1164983247309cb9993530726c3a",
       "version_major": 2,
       "version_minor": 0
      },
      "text/plain": [
       "0it [00:00, ?it/s]"
      ]
     },
     "metadata": {},
     "output_type": "display_data"
    },
    {
     "name": "stdout",
     "output_type": "stream",
     "text": [
      "Make prediction for 8697 samples...\n",
      "Make prediction for 1594 samples...\n",
      "Make prediction for 2126 samples...\n",
      "Make prediction for 3846 samples...\n",
      "Make prediction for 771 samples...\n",
      "Make prediction for 300 samples...\n",
      "Make prediction for 60 samples...\n",
      "Make prediction for 8708 samples...\n",
      "RMSE all test improved\n",
      "Make prediction for 1593 samples...\n",
      "RMSE mix test improved\n",
      "Make prediction for 2126 samples...\n",
      "RMSE blind cell test improved\n",
      "Make prediction for 3858 samples...\n",
      "RMSE blind 1 drug improved\n",
      "Make prediction for 771 samples...\n",
      "RMSE blind 1 drug cell improved\n",
      "Make prediction for 300 samples...\n",
      "RMSE blind 2 drug improved\n",
      "Make prediction for 60 samples...\n",
      "RMSE blind all improved\n",
      "Training on 18037 samples...\n",
      "Training on 18037 samples...\n"
     ]
    },
    {
     "data": {
      "application/vnd.jupyter.widget-view+json": {
       "model_id": "9ee14275dbfc44538f8585f6191818c1",
       "version_major": 2,
       "version_minor": 0
      },
      "text/plain": [
       "0it [00:00, ?it/s]"
      ]
     },
     "metadata": {},
     "output_type": "display_data"
    },
    {
     "name": "stdout",
     "output_type": "stream",
     "text": [
      "Make prediction for 8697 samples...\n",
      "Make prediction for 1594 samples...\n",
      "Make prediction for 2126 samples...\n",
      "Make prediction for 3846 samples...\n",
      "Make prediction for 771 samples...\n",
      "Make prediction for 300 samples...\n",
      "Make prediction for 60 samples...\n",
      "Make prediction for 8708 samples...\n",
      "RMSE all test improved\n",
      "Make prediction for 1593 samples...\n",
      "RMSE mix test improved\n",
      "Make prediction for 2126 samples...\n",
      "RMSE blind cell test improved\n",
      "Make prediction for 3858 samples...\n",
      "RMSE blind 1 drug improved\n",
      "Make prediction for 771 samples...\n",
      "RMSE blind 1 drug cell improved\n",
      "Make prediction for 300 samples...\n",
      "RMSE blind 2 drug improved\n",
      "Training on 18037 samples...\n",
      "Training on 18037 samples...\n"
     ]
    },
    {
     "data": {
      "application/vnd.jupyter.widget-view+json": {
       "model_id": "844d73f866be406b9fd0a0c4f4fc3aeb",
       "version_major": 2,
       "version_minor": 0
      },
      "text/plain": [
       "0it [00:00, ?it/s]"
      ]
     },
     "metadata": {},
     "output_type": "display_data"
    },
    {
     "name": "stdout",
     "output_type": "stream",
     "text": [
      "Make prediction for 8697 samples...\n",
      "Make prediction for 1594 samples...\n",
      "Make prediction for 2126 samples...\n",
      "Make prediction for 3846 samples...\n",
      "Make prediction for 771 samples...\n",
      "Make prediction for 300 samples...\n",
      "Make prediction for 60 samples...\n",
      "Make prediction for 300 samples...\n",
      "RMSE blind 2 drug improved\n",
      "Make prediction for 60 samples...\n",
      "RMSE blind all improved\n",
      "Training on 18037 samples...\n",
      "Training on 18037 samples...\n"
     ]
    },
    {
     "data": {
      "application/vnd.jupyter.widget-view+json": {
       "model_id": "71cd518333374bf98d4db8b091258274",
       "version_major": 2,
       "version_minor": 0
      },
      "text/plain": [
       "0it [00:00, ?it/s]"
      ]
     },
     "metadata": {},
     "output_type": "display_data"
    },
    {
     "name": "stdout",
     "output_type": "stream",
     "text": [
      "Make prediction for 8697 samples...\n",
      "Make prediction for 1594 samples...\n",
      "Make prediction for 2126 samples...\n",
      "Make prediction for 3846 samples...\n",
      "Make prediction for 771 samples...\n",
      "Make prediction for 300 samples...\n",
      "Make prediction for 60 samples...\n",
      "Make prediction for 8708 samples...\n",
      "RMSE all test improved\n",
      "Make prediction for 1593 samples...\n",
      "RMSE mix test improved\n",
      "Make prediction for 3858 samples...\n",
      "RMSE blind 1 drug improved\n",
      "Make prediction for 771 samples...\n",
      "RMSE blind 1 drug cell improved\n",
      "Training on 18037 samples...\n",
      "Training on 18037 samples...\n"
     ]
    },
    {
     "data": {
      "application/vnd.jupyter.widget-view+json": {
       "model_id": "e08120b0d8f34773ac17aa6dbd45405d",
       "version_major": 2,
       "version_minor": 0
      },
      "text/plain": [
       "0it [00:00, ?it/s]"
      ]
     },
     "metadata": {},
     "output_type": "display_data"
    },
    {
     "name": "stdout",
     "output_type": "stream",
     "text": [
      "Make prediction for 8697 samples...\n",
      "Make prediction for 1594 samples...\n",
      "Make prediction for 2126 samples...\n",
      "Make prediction for 3846 samples...\n",
      "Make prediction for 771 samples...\n",
      "Make prediction for 300 samples...\n",
      "Make prediction for 60 samples...\n",
      "Make prediction for 8708 samples...\n",
      "RMSE all test improved\n",
      "Make prediction for 1593 samples...\n",
      "RMSE mix test improved\n",
      "Make prediction for 3858 samples...\n",
      "RMSE blind 1 drug improved\n",
      "Make prediction for 771 samples...\n",
      "RMSE blind 1 drug cell improved\n",
      "Training on 18037 samples...\n",
      "Training on 18037 samples...\n"
     ]
    },
    {
     "data": {
      "application/vnd.jupyter.widget-view+json": {
       "model_id": "f455dd2977d84f149eb5d75b002b7ebf",
       "version_major": 2,
       "version_minor": 0
      },
      "text/plain": [
       "0it [00:00, ?it/s]"
      ]
     },
     "metadata": {},
     "output_type": "display_data"
    },
    {
     "name": "stdout",
     "output_type": "stream",
     "text": [
      "Make prediction for 8697 samples...\n",
      "Make prediction for 1594 samples...\n",
      "Make prediction for 2126 samples...\n",
      "Make prediction for 3846 samples...\n",
      "Make prediction for 771 samples...\n",
      "Make prediction for 300 samples...\n",
      "Make prediction for 60 samples...\n",
      "Make prediction for 8708 samples...\n",
      "RMSE all test improved\n",
      "Make prediction for 1593 samples...\n",
      "RMSE mix test improved\n",
      "Make prediction for 2126 samples...\n",
      "RMSE blind cell test improved\n",
      "Training on 18037 samples...\n",
      "Training on 18037 samples...\n"
     ]
    },
    {
     "data": {
      "application/vnd.jupyter.widget-view+json": {
       "model_id": "10761737041949279796de252555cf20",
       "version_major": 2,
       "version_minor": 0
      },
      "text/plain": [
       "0it [00:00, ?it/s]"
      ]
     },
     "metadata": {},
     "output_type": "display_data"
    },
    {
     "name": "stdout",
     "output_type": "stream",
     "text": [
      "Make prediction for 8697 samples...\n",
      "Make prediction for 1594 samples...\n",
      "Make prediction for 2126 samples...\n",
      "Make prediction for 3846 samples...\n",
      "Make prediction for 771 samples...\n",
      "Make prediction for 300 samples...\n",
      "Make prediction for 60 samples...\n",
      "Make prediction for 2126 samples...\n",
      "RMSE blind cell test improved\n",
      "Training on 18037 samples...\n",
      "Training on 18037 samples...\n"
     ]
    },
    {
     "data": {
      "application/vnd.jupyter.widget-view+json": {
       "model_id": "4c9bb899fb30434d903d88e0b1d43528",
       "version_major": 2,
       "version_minor": 0
      },
      "text/plain": [
       "0it [00:00, ?it/s]"
      ]
     },
     "metadata": {},
     "output_type": "display_data"
    },
    {
     "name": "stdout",
     "output_type": "stream",
     "text": [
      "Make prediction for 8697 samples...\n",
      "Make prediction for 1594 samples...\n",
      "Make prediction for 2126 samples...\n",
      "Make prediction for 3846 samples...\n",
      "Make prediction for 771 samples...\n",
      "Make prediction for 300 samples...\n",
      "Make prediction for 60 samples...\n",
      "Make prediction for 8708 samples...\n",
      "RMSE all test improved\n",
      "Make prediction for 1593 samples...\n",
      "RMSE mix test improved\n",
      "Make prediction for 2126 samples...\n",
      "RMSE blind cell test improved\n",
      "Training on 18037 samples...\n",
      "Training on 18037 samples...\n"
     ]
    },
    {
     "data": {
      "application/vnd.jupyter.widget-view+json": {
       "model_id": "88427386fc1647c085b66701aa009efa",
       "version_major": 2,
       "version_minor": 0
      },
      "text/plain": [
       "0it [00:00, ?it/s]"
      ]
     },
     "metadata": {},
     "output_type": "display_data"
    },
    {
     "name": "stdout",
     "output_type": "stream",
     "text": [
      "Make prediction for 8697 samples...\n",
      "Make prediction for 1594 samples...\n",
      "Make prediction for 2126 samples...\n",
      "Make prediction for 3846 samples...\n",
      "Make prediction for 771 samples...\n",
      "Make prediction for 300 samples...\n",
      "Make prediction for 60 samples...\n",
      "Training on 18037 samples...\n",
      "Training on 18037 samples...\n"
     ]
    },
    {
     "data": {
      "application/vnd.jupyter.widget-view+json": {
       "model_id": "172a21c0adf64eb682125d46e4ce49c1",
       "version_major": 2,
       "version_minor": 0
      },
      "text/plain": [
       "0it [00:00, ?it/s]"
      ]
     },
     "metadata": {},
     "output_type": "display_data"
    },
    {
     "name": "stdout",
     "output_type": "stream",
     "text": [
      "Make prediction for 8697 samples...\n",
      "Make prediction for 1594 samples...\n",
      "Make prediction for 2126 samples...\n",
      "Make prediction for 3846 samples...\n",
      "Make prediction for 771 samples...\n",
      "Make prediction for 300 samples...\n",
      "Make prediction for 60 samples...\n",
      "Make prediction for 8708 samples...\n",
      "RMSE all test improved\n",
      "Make prediction for 1593 samples...\n",
      "RMSE mix test improved\n",
      "Make prediction for 3858 samples...\n",
      "RMSE blind 1 drug improved\n",
      "Make prediction for 771 samples...\n",
      "RMSE blind 1 drug cell improved\n",
      "Training on 18037 samples...\n",
      "Training on 18037 samples...\n"
     ]
    },
    {
     "data": {
      "application/vnd.jupyter.widget-view+json": {
       "model_id": "3874df0e498547c1ace4b0ba3ac8b3ab",
       "version_major": 2,
       "version_minor": 0
      },
      "text/plain": [
       "0it [00:00, ?it/s]"
      ]
     },
     "metadata": {},
     "output_type": "display_data"
    },
    {
     "name": "stdout",
     "output_type": "stream",
     "text": [
      "Make prediction for 8697 samples...\n",
      "Make prediction for 1594 samples...\n",
      "Make prediction for 2126 samples...\n",
      "Make prediction for 3846 samples...\n",
      "Make prediction for 771 samples...\n",
      "Make prediction for 300 samples...\n",
      "Make prediction for 60 samples...\n",
      "Training on 18037 samples...\n",
      "Training on 18037 samples...\n"
     ]
    },
    {
     "data": {
      "application/vnd.jupyter.widget-view+json": {
       "model_id": "d7ddde177ce0474b954d21b4678c4d1f",
       "version_major": 2,
       "version_minor": 0
      },
      "text/plain": [
       "0it [00:00, ?it/s]"
      ]
     },
     "metadata": {},
     "output_type": "display_data"
    },
    {
     "name": "stdout",
     "output_type": "stream",
     "text": [
      "Make prediction for 8697 samples...\n",
      "Make prediction for 1594 samples...\n",
      "Make prediction for 2126 samples...\n",
      "Make prediction for 3846 samples...\n",
      "Make prediction for 771 samples...\n",
      "Make prediction for 300 samples...\n",
      "Make prediction for 60 samples...\n",
      "Make prediction for 771 samples...\n",
      "RMSE blind 1 drug cell improved\n",
      "Training on 18037 samples...\n",
      "Training on 18037 samples...\n"
     ]
    },
    {
     "data": {
      "application/vnd.jupyter.widget-view+json": {
       "model_id": "2e49b6cf299d4a56b5a0631fabf44352",
       "version_major": 2,
       "version_minor": 0
      },
      "text/plain": [
       "0it [00:00, ?it/s]"
      ]
     },
     "metadata": {},
     "output_type": "display_data"
    },
    {
     "name": "stdout",
     "output_type": "stream",
     "text": [
      "Make prediction for 8697 samples...\n",
      "Make prediction for 1594 samples...\n",
      "Make prediction for 2126 samples...\n",
      "Make prediction for 3846 samples...\n",
      "Make prediction for 771 samples...\n",
      "Make prediction for 300 samples...\n",
      "Make prediction for 60 samples...\n",
      "Make prediction for 1593 samples...\n",
      "RMSE mix test improved\n",
      "Make prediction for 2126 samples...\n",
      "RMSE blind cell test improved\n",
      "Training on 18037 samples...\n",
      "Training on 18037 samples...\n"
     ]
    },
    {
     "data": {
      "application/vnd.jupyter.widget-view+json": {
       "model_id": "90e9b9aefb934e66a699c26bac5d20ad",
       "version_major": 2,
       "version_minor": 0
      },
      "text/plain": [
       "0it [00:00, ?it/s]"
      ]
     },
     "metadata": {},
     "output_type": "display_data"
    },
    {
     "name": "stdout",
     "output_type": "stream",
     "text": [
      "Make prediction for 8697 samples...\n",
      "Make prediction for 1594 samples...\n",
      "Make prediction for 2126 samples...\n",
      "Make prediction for 3846 samples...\n",
      "Make prediction for 771 samples...\n",
      "Make prediction for 300 samples...\n",
      "Make prediction for 60 samples...\n",
      "Make prediction for 1593 samples...\n",
      "RMSE mix test improved\n",
      "Make prediction for 2126 samples...\n",
      "RMSE blind cell test improved\n",
      "Training on 18037 samples...\n",
      "Training on 18037 samples...\n"
     ]
    },
    {
     "data": {
      "application/vnd.jupyter.widget-view+json": {
       "model_id": "d52c93c7f6f844288faa7918b9aa0127",
       "version_major": 2,
       "version_minor": 0
      },
      "text/plain": [
       "0it [00:00, ?it/s]"
      ]
     },
     "metadata": {},
     "output_type": "display_data"
    },
    {
     "name": "stdout",
     "output_type": "stream",
     "text": [
      "Make prediction for 8697 samples...\n",
      "Make prediction for 1594 samples...\n",
      "Make prediction for 2126 samples...\n",
      "Make prediction for 3846 samples...\n",
      "Make prediction for 771 samples...\n",
      "Make prediction for 300 samples...\n",
      "Make prediction for 60 samples...\n",
      "Make prediction for 8708 samples...\n",
      "RMSE all test improved\n",
      "Make prediction for 1593 samples...\n",
      "RMSE mix test improved\n",
      "Make prediction for 3858 samples...\n",
      "RMSE blind 1 drug improved\n",
      "Training on 18037 samples...\n",
      "Training on 18037 samples...\n"
     ]
    },
    {
     "data": {
      "application/vnd.jupyter.widget-view+json": {
       "model_id": "cb61636d61e142a9a03fbc5e287fa034",
       "version_major": 2,
       "version_minor": 0
      },
      "text/plain": [
       "0it [00:00, ?it/s]"
      ]
     },
     "metadata": {},
     "output_type": "display_data"
    },
    {
     "name": "stdout",
     "output_type": "stream",
     "text": [
      "Make prediction for 8697 samples...\n",
      "Make prediction for 1594 samples...\n",
      "Make prediction for 2126 samples...\n",
      "Make prediction for 3846 samples...\n",
      "Make prediction for 771 samples...\n",
      "Make prediction for 300 samples...\n",
      "Make prediction for 60 samples...\n",
      "Make prediction for 8708 samples...\n",
      "RMSE all test improved\n",
      "Make prediction for 1593 samples...\n",
      "RMSE mix test improved\n",
      "Make prediction for 3858 samples...\n",
      "RMSE blind 1 drug improved\n",
      "Training on 18037 samples...\n",
      "Training on 18037 samples...\n"
     ]
    },
    {
     "data": {
      "application/vnd.jupyter.widget-view+json": {
       "model_id": "4b152e6904494dac8bffe887acc7a48a",
       "version_major": 2,
       "version_minor": 0
      },
      "text/plain": [
       "0it [00:00, ?it/s]"
      ]
     },
     "metadata": {},
     "output_type": "display_data"
    },
    {
     "name": "stdout",
     "output_type": "stream",
     "text": [
      "Make prediction for 8697 samples...\n",
      "Make prediction for 1594 samples...\n",
      "Make prediction for 2126 samples...\n",
      "Make prediction for 3846 samples...\n",
      "Make prediction for 771 samples...\n",
      "Make prediction for 300 samples...\n",
      "Make prediction for 60 samples...\n",
      "Make prediction for 8708 samples...\n",
      "RMSE all test improved\n",
      "Make prediction for 1593 samples...\n",
      "RMSE mix test improved\n",
      "Training on 18037 samples...\n",
      "Training on 18037 samples...\n"
     ]
    },
    {
     "data": {
      "application/vnd.jupyter.widget-view+json": {
       "model_id": "a8b68471144b48a8a615bfcb72bec3ff",
       "version_major": 2,
       "version_minor": 0
      },
      "text/plain": [
       "0it [00:00, ?it/s]"
      ]
     },
     "metadata": {},
     "output_type": "display_data"
    },
    {
     "name": "stdout",
     "output_type": "stream",
     "text": [
      "Make prediction for 8697 samples...\n",
      "Make prediction for 1594 samples...\n",
      "Make prediction for 2126 samples...\n",
      "Make prediction for 3846 samples...\n",
      "Make prediction for 771 samples...\n",
      "Make prediction for 300 samples...\n",
      "Make prediction for 60 samples...\n",
      "Make prediction for 8708 samples...\n",
      "RMSE all test improved\n",
      "Make prediction for 1593 samples...\n",
      "RMSE mix test improved\n",
      "Make prediction for 3858 samples...\n",
      "RMSE blind 1 drug improved\n",
      "Training on 18037 samples...\n",
      "Training on 18037 samples...\n"
     ]
    },
    {
     "data": {
      "application/vnd.jupyter.widget-view+json": {
       "model_id": "8b67ff4446b84a5fb2e9ae8ba49f4160",
       "version_major": 2,
       "version_minor": 0
      },
      "text/plain": [
       "0it [00:00, ?it/s]"
      ]
     },
     "metadata": {},
     "output_type": "display_data"
    },
    {
     "name": "stdout",
     "output_type": "stream",
     "text": [
      "Make prediction for 8697 samples...\n",
      "Make prediction for 1594 samples...\n",
      "Make prediction for 2126 samples...\n",
      "Make prediction for 3846 samples...\n",
      "Make prediction for 771 samples...\n",
      "Make prediction for 300 samples...\n",
      "Make prediction for 60 samples...\n",
      "Training on 18037 samples...\n",
      "Training on 18037 samples...\n"
     ]
    },
    {
     "data": {
      "application/vnd.jupyter.widget-view+json": {
       "model_id": "542dca2f51754f5aade4277e331e2055",
       "version_major": 2,
       "version_minor": 0
      },
      "text/plain": [
       "0it [00:00, ?it/s]"
      ]
     },
     "metadata": {},
     "output_type": "display_data"
    },
    {
     "name": "stdout",
     "output_type": "stream",
     "text": [
      "Make prediction for 8697 samples...\n",
      "Make prediction for 1594 samples...\n",
      "Make prediction for 2126 samples...\n",
      "Make prediction for 3846 samples...\n",
      "Make prediction for 771 samples...\n",
      "Make prediction for 300 samples...\n",
      "Make prediction for 60 samples...\n",
      "Make prediction for 8708 samples...\n",
      "RMSE all test improved\n",
      "Make prediction for 1593 samples...\n",
      "RMSE mix test improved\n",
      "Make prediction for 3858 samples...\n",
      "RMSE blind 1 drug improved\n",
      "Training on 18037 samples...\n",
      "Training on 18037 samples...\n"
     ]
    },
    {
     "data": {
      "application/vnd.jupyter.widget-view+json": {
       "model_id": "8d0777efada0405c9b766b8f8d9daf5f",
       "version_major": 2,
       "version_minor": 0
      },
      "text/plain": [
       "0it [00:00, ?it/s]"
      ]
     },
     "metadata": {},
     "output_type": "display_data"
    },
    {
     "name": "stdout",
     "output_type": "stream",
     "text": [
      "Make prediction for 8697 samples...\n",
      "Make prediction for 1594 samples...\n",
      "Make prediction for 2126 samples...\n",
      "Make prediction for 3846 samples...\n",
      "Make prediction for 771 samples...\n",
      "Make prediction for 300 samples...\n",
      "Make prediction for 60 samples...\n",
      "Make prediction for 8708 samples...\n",
      "RMSE all test improved\n",
      "Make prediction for 1593 samples...\n",
      "RMSE mix test improved\n",
      "Make prediction for 3858 samples...\n",
      "RMSE blind 1 drug improved\n",
      "Training on 18037 samples...\n",
      "Training on 18037 samples...\n"
     ]
    },
    {
     "data": {
      "application/vnd.jupyter.widget-view+json": {
       "model_id": "4a458ccaae5c4672ac35341ee78da24f",
       "version_major": 2,
       "version_minor": 0
      },
      "text/plain": [
       "0it [00:00, ?it/s]"
      ]
     },
     "metadata": {},
     "output_type": "display_data"
    },
    {
     "name": "stdout",
     "output_type": "stream",
     "text": [
      "Make prediction for 8697 samples...\n",
      "Make prediction for 1594 samples...\n",
      "Make prediction for 2126 samples...\n",
      "Make prediction for 3846 samples...\n",
      "Make prediction for 771 samples...\n",
      "Make prediction for 300 samples...\n",
      "Make prediction for 60 samples...\n",
      "Make prediction for 60 samples...\n",
      "RMSE blind all improved\n",
      "Training on 18037 samples...\n",
      "Training on 18037 samples...\n"
     ]
    },
    {
     "data": {
      "application/vnd.jupyter.widget-view+json": {
       "model_id": "6afa71e9d36542d5943f14229309ba40",
       "version_major": 2,
       "version_minor": 0
      },
      "text/plain": [
       "0it [00:00, ?it/s]"
      ]
     },
     "metadata": {},
     "output_type": "display_data"
    },
    {
     "name": "stdout",
     "output_type": "stream",
     "text": [
      "Make prediction for 8697 samples...\n",
      "Make prediction for 1594 samples...\n",
      "Make prediction for 2126 samples...\n",
      "Make prediction for 3846 samples...\n",
      "Make prediction for 771 samples...\n",
      "Make prediction for 300 samples...\n",
      "Make prediction for 60 samples...\n",
      "Training on 18037 samples...\n",
      "Training on 18037 samples...\n"
     ]
    },
    {
     "data": {
      "application/vnd.jupyter.widget-view+json": {
       "model_id": "0cb01003c396402a953ee9cb21710615",
       "version_major": 2,
       "version_minor": 0
      },
      "text/plain": [
       "0it [00:00, ?it/s]"
      ]
     },
     "metadata": {},
     "output_type": "display_data"
    },
    {
     "name": "stdout",
     "output_type": "stream",
     "text": [
      "Make prediction for 8697 samples...\n",
      "Make prediction for 1594 samples...\n",
      "Make prediction for 2126 samples...\n",
      "Make prediction for 3846 samples...\n",
      "Make prediction for 771 samples...\n",
      "Make prediction for 300 samples...\n",
      "Make prediction for 60 samples...\n",
      "Make prediction for 2126 samples...\n",
      "RMSE blind cell test improved\n",
      "Training on 18037 samples...\n",
      "Training on 18037 samples...\n"
     ]
    },
    {
     "data": {
      "application/vnd.jupyter.widget-view+json": {
       "model_id": "f2f6841b5ba34cc4bfa162fbfcb0ec32",
       "version_major": 2,
       "version_minor": 0
      },
      "text/plain": [
       "0it [00:00, ?it/s]"
      ]
     },
     "metadata": {},
     "output_type": "display_data"
    },
    {
     "name": "stdout",
     "output_type": "stream",
     "text": [
      "Make prediction for 8697 samples...\n",
      "Make prediction for 1594 samples...\n",
      "Make prediction for 2126 samples...\n",
      "Make prediction for 3846 samples...\n",
      "Make prediction for 771 samples...\n",
      "Make prediction for 300 samples...\n",
      "Make prediction for 60 samples...\n",
      "Training on 18037 samples...\n",
      "Training on 18037 samples...\n"
     ]
    },
    {
     "data": {
      "application/vnd.jupyter.widget-view+json": {
       "model_id": "40be440772df4b569c3a2d3965aaaecb",
       "version_major": 2,
       "version_minor": 0
      },
      "text/plain": [
       "0it [00:00, ?it/s]"
      ]
     },
     "metadata": {},
     "output_type": "display_data"
    },
    {
     "name": "stdout",
     "output_type": "stream",
     "text": [
      "Make prediction for 8697 samples...\n",
      "Make prediction for 1594 samples...\n",
      "Make prediction for 2126 samples...\n",
      "Make prediction for 3846 samples...\n",
      "Make prediction for 771 samples...\n",
      "Make prediction for 300 samples...\n",
      "Make prediction for 60 samples...\n",
      "Make prediction for 8708 samples...\n",
      "RMSE all test improved\n",
      "Make prediction for 2126 samples...\n",
      "RMSE blind cell test improved\n",
      "Training on 18037 samples...\n",
      "Training on 18037 samples...\n"
     ]
    },
    {
     "data": {
      "application/vnd.jupyter.widget-view+json": {
       "model_id": "4ce594ec9c9443959608d73d21c93719",
       "version_major": 2,
       "version_minor": 0
      },
      "text/plain": [
       "0it [00:00, ?it/s]"
      ]
     },
     "metadata": {},
     "output_type": "display_data"
    },
    {
     "name": "stdout",
     "output_type": "stream",
     "text": [
      "Make prediction for 8697 samples...\n",
      "Make prediction for 1594 samples...\n",
      "Make prediction for 2126 samples...\n",
      "Make prediction for 3846 samples...\n",
      "Make prediction for 771 samples...\n",
      "Make prediction for 300 samples...\n",
      "Make prediction for 60 samples...\n",
      "Training on 18037 samples...\n",
      "Training on 18037 samples...\n"
     ]
    },
    {
     "data": {
      "application/vnd.jupyter.widget-view+json": {
       "model_id": "68da21c135f24fd68057beffb56251e6",
       "version_major": 2,
       "version_minor": 0
      },
      "text/plain": [
       "0it [00:00, ?it/s]"
      ]
     },
     "metadata": {},
     "output_type": "display_data"
    },
    {
     "name": "stdout",
     "output_type": "stream",
     "text": [
      "Make prediction for 8697 samples...\n",
      "Make prediction for 1594 samples...\n",
      "Make prediction for 2126 samples...\n",
      "Make prediction for 3846 samples...\n",
      "Make prediction for 771 samples...\n",
      "Make prediction for 300 samples...\n",
      "Make prediction for 60 samples...\n",
      "Training on 18037 samples...\n",
      "Training on 18037 samples...\n"
     ]
    },
    {
     "data": {
      "application/vnd.jupyter.widget-view+json": {
       "model_id": "bd43d7ea13b44a84beee9a3b317b4aed",
       "version_major": 2,
       "version_minor": 0
      },
      "text/plain": [
       "0it [00:00, ?it/s]"
      ]
     },
     "metadata": {},
     "output_type": "display_data"
    },
    {
     "name": "stdout",
     "output_type": "stream",
     "text": [
      "Make prediction for 8697 samples...\n",
      "Make prediction for 1594 samples...\n",
      "Make prediction for 2126 samples...\n",
      "Make prediction for 3846 samples...\n",
      "Make prediction for 771 samples...\n",
      "Make prediction for 300 samples...\n",
      "Make prediction for 60 samples...\n",
      "Make prediction for 1593 samples...\n",
      "RMSE mix test improved\n",
      "Training on 18037 samples...\n",
      "Training on 18037 samples...\n"
     ]
    },
    {
     "data": {
      "application/vnd.jupyter.widget-view+json": {
       "model_id": "8226134dbc8c4b70b9ad2d1949a357e6",
       "version_major": 2,
       "version_minor": 0
      },
      "text/plain": [
       "0it [00:00, ?it/s]"
      ]
     },
     "metadata": {},
     "output_type": "display_data"
    },
    {
     "name": "stdout",
     "output_type": "stream",
     "text": [
      "Make prediction for 8697 samples...\n",
      "Make prediction for 1594 samples...\n",
      "Make prediction for 2126 samples...\n",
      "Make prediction for 3846 samples...\n",
      "Make prediction for 771 samples...\n",
      "Make prediction for 300 samples...\n",
      "Make prediction for 60 samples...\n",
      "Training on 18037 samples...\n",
      "Training on 18037 samples...\n"
     ]
    },
    {
     "data": {
      "application/vnd.jupyter.widget-view+json": {
       "model_id": "2c66d32523d84d03adb75796ee08a3dc",
       "version_major": 2,
       "version_minor": 0
      },
      "text/plain": [
       "0it [00:00, ?it/s]"
      ]
     },
     "metadata": {},
     "output_type": "display_data"
    },
    {
     "name": "stdout",
     "output_type": "stream",
     "text": [
      "Make prediction for 8697 samples...\n",
      "Make prediction for 1594 samples...\n",
      "Make prediction for 2126 samples...\n",
      "Make prediction for 3846 samples...\n",
      "Make prediction for 771 samples...\n",
      "Make prediction for 300 samples...\n",
      "Make prediction for 60 samples...\n",
      "Training on 18037 samples...\n",
      "Training on 18037 samples...\n"
     ]
    },
    {
     "data": {
      "application/vnd.jupyter.widget-view+json": {
       "model_id": "e3ebaca0b4e74df8940c0dfdd77ebe14",
       "version_major": 2,
       "version_minor": 0
      },
      "text/plain": [
       "0it [00:00, ?it/s]"
      ]
     },
     "metadata": {},
     "output_type": "display_data"
    },
    {
     "name": "stdout",
     "output_type": "stream",
     "text": [
      "Make prediction for 8697 samples...\n",
      "Make prediction for 1594 samples...\n",
      "Make prediction for 2126 samples...\n",
      "Make prediction for 3846 samples...\n",
      "Make prediction for 771 samples...\n",
      "Make prediction for 300 samples...\n",
      "Make prediction for 60 samples...\n",
      "Training on 18037 samples...\n",
      "Training on 18037 samples...\n"
     ]
    },
    {
     "data": {
      "application/vnd.jupyter.widget-view+json": {
       "model_id": "62acdf5a7af64f998aeb4b8aed1005b2",
       "version_major": 2,
       "version_minor": 0
      },
      "text/plain": [
       "0it [00:00, ?it/s]"
      ]
     },
     "metadata": {},
     "output_type": "display_data"
    },
    {
     "name": "stdout",
     "output_type": "stream",
     "text": [
      "Make prediction for 8697 samples...\n",
      "Make prediction for 1594 samples...\n",
      "Make prediction for 2126 samples...\n",
      "Make prediction for 3846 samples...\n",
      "Make prediction for 771 samples...\n",
      "Make prediction for 300 samples...\n",
      "Make prediction for 60 samples...\n",
      "Make prediction for 8708 samples...\n",
      "RMSE all test improved\n",
      "Make prediction for 1593 samples...\n",
      "RMSE mix test improved\n",
      "Make prediction for 3858 samples...\n",
      "RMSE blind 1 drug improved\n",
      "Make prediction for 771 samples...\n",
      "RMSE blind 1 drug cell improved\n",
      "Make prediction for 60 samples...\n",
      "RMSE blind all improved\n",
      "Training on 18037 samples...\n",
      "Training on 18037 samples...\n"
     ]
    },
    {
     "data": {
      "application/vnd.jupyter.widget-view+json": {
       "model_id": "bc78501a03284604bfa2338b690610f2",
       "version_major": 2,
       "version_minor": 0
      },
      "text/plain": [
       "0it [00:00, ?it/s]"
      ]
     },
     "metadata": {},
     "output_type": "display_data"
    },
    {
     "name": "stdout",
     "output_type": "stream",
     "text": [
      "Make prediction for 8697 samples...\n",
      "Make prediction for 1594 samples...\n",
      "Make prediction for 2126 samples...\n",
      "Make prediction for 3846 samples...\n",
      "Make prediction for 771 samples...\n",
      "Make prediction for 300 samples...\n",
      "Make prediction for 60 samples...\n",
      "Training on 18037 samples...\n",
      "Training on 18037 samples...\n"
     ]
    },
    {
     "data": {
      "application/vnd.jupyter.widget-view+json": {
       "model_id": "735742582ce6489d8ceecb346dc6c60d",
       "version_major": 2,
       "version_minor": 0
      },
      "text/plain": [
       "0it [00:00, ?it/s]"
      ]
     },
     "metadata": {},
     "output_type": "display_data"
    },
    {
     "name": "stdout",
     "output_type": "stream",
     "text": [
      "Make prediction for 8697 samples...\n",
      "Make prediction for 1594 samples...\n",
      "Make prediction for 2126 samples...\n",
      "Make prediction for 3846 samples...\n",
      "Make prediction for 771 samples...\n",
      "Make prediction for 300 samples...\n",
      "Make prediction for 60 samples...\n",
      "Training on 18037 samples...\n",
      "Training on 18037 samples...\n"
     ]
    },
    {
     "data": {
      "application/vnd.jupyter.widget-view+json": {
       "model_id": "f8247554ed7b42b4acd157f9d97106b4",
       "version_major": 2,
       "version_minor": 0
      },
      "text/plain": [
       "0it [00:00, ?it/s]"
      ]
     },
     "metadata": {},
     "output_type": "display_data"
    },
    {
     "name": "stdout",
     "output_type": "stream",
     "text": [
      "Make prediction for 8697 samples...\n",
      "Make prediction for 1594 samples...\n",
      "Make prediction for 2126 samples...\n",
      "Make prediction for 3846 samples...\n",
      "Make prediction for 771 samples...\n",
      "Make prediction for 300 samples...\n",
      "Make prediction for 60 samples...\n",
      "Make prediction for 1593 samples...\n",
      "RMSE mix test improved\n",
      "Make prediction for 3858 samples...\n",
      "RMSE blind 1 drug improved\n",
      "Training on 18037 samples...\n",
      "Training on 18037 samples...\n"
     ]
    },
    {
     "data": {
      "application/vnd.jupyter.widget-view+json": {
       "model_id": "c73da9d2ff4b42e29e74f36741244fc1",
       "version_major": 2,
       "version_minor": 0
      },
      "text/plain": [
       "0it [00:00, ?it/s]"
      ]
     },
     "metadata": {},
     "output_type": "display_data"
    },
    {
     "name": "stdout",
     "output_type": "stream",
     "text": [
      "Make prediction for 8697 samples...\n",
      "Make prediction for 1594 samples...\n",
      "Make prediction for 2126 samples...\n",
      "Make prediction for 3846 samples...\n",
      "Make prediction for 771 samples...\n",
      "Make prediction for 300 samples...\n",
      "Make prediction for 60 samples...\n",
      "Make prediction for 3858 samples...\n",
      "RMSE blind 1 drug improved\n",
      "Training on 18037 samples...\n",
      "Training on 18037 samples...\n"
     ]
    },
    {
     "data": {
      "application/vnd.jupyter.widget-view+json": {
       "model_id": "6f2e8c0f38fd414c856b6178713afd34",
       "version_major": 2,
       "version_minor": 0
      },
      "text/plain": [
       "0it [00:00, ?it/s]"
      ]
     },
     "metadata": {},
     "output_type": "display_data"
    },
    {
     "name": "stdout",
     "output_type": "stream",
     "text": [
      "Make prediction for 8697 samples...\n",
      "Make prediction for 1594 samples...\n",
      "Make prediction for 2126 samples...\n",
      "Make prediction for 3846 samples...\n",
      "Make prediction for 771 samples...\n",
      "Make prediction for 300 samples...\n",
      "Make prediction for 60 samples...\n",
      "Make prediction for 8708 samples...\n",
      "RMSE all test improved\n",
      "Make prediction for 1593 samples...\n",
      "RMSE mix test improved\n",
      "Make prediction for 3858 samples...\n",
      "RMSE blind 1 drug improved\n",
      "Training on 18037 samples...\n",
      "Training on 18037 samples...\n"
     ]
    },
    {
     "data": {
      "application/vnd.jupyter.widget-view+json": {
       "model_id": "30e5448d53ec43e1850620ad7188cee2",
       "version_major": 2,
       "version_minor": 0
      },
      "text/plain": [
       "0it [00:00, ?it/s]"
      ]
     },
     "metadata": {},
     "output_type": "display_data"
    },
    {
     "name": "stdout",
     "output_type": "stream",
     "text": [
      "Make prediction for 8697 samples...\n",
      "Make prediction for 1594 samples...\n",
      "Make prediction for 2126 samples...\n",
      "Make prediction for 3846 samples...\n",
      "Make prediction for 771 samples...\n",
      "Make prediction for 300 samples...\n",
      "Make prediction for 60 samples...\n",
      "Make prediction for 3858 samples...\n",
      "RMSE blind 1 drug improved\n",
      "Training on 18037 samples...\n",
      "Training on 18037 samples...\n"
     ]
    },
    {
     "data": {
      "application/vnd.jupyter.widget-view+json": {
       "model_id": "53ef0566e6f644d589e90066023beebb",
       "version_major": 2,
       "version_minor": 0
      },
      "text/plain": [
       "0it [00:00, ?it/s]"
      ]
     },
     "metadata": {},
     "output_type": "display_data"
    },
    {
     "name": "stdout",
     "output_type": "stream",
     "text": [
      "Make prediction for 8697 samples...\n",
      "Make prediction for 1594 samples...\n",
      "Make prediction for 2126 samples...\n",
      "Make prediction for 3846 samples...\n",
      "Make prediction for 771 samples...\n",
      "Make prediction for 300 samples...\n",
      "Make prediction for 60 samples...\n",
      "Make prediction for 8708 samples...\n",
      "RMSE all test improved\n",
      "Make prediction for 1593 samples...\n",
      "RMSE mix test improved\n",
      "Make prediction for 3858 samples...\n",
      "RMSE blind 1 drug improved\n",
      "Make prediction for 771 samples...\n",
      "RMSE blind 1 drug cell improved\n",
      "Training on 18037 samples...\n",
      "Training on 18037 samples...\n"
     ]
    },
    {
     "data": {
      "application/vnd.jupyter.widget-view+json": {
       "model_id": "16f6c9a58c6641168799a7254082d19d",
       "version_major": 2,
       "version_minor": 0
      },
      "text/plain": [
       "0it [00:00, ?it/s]"
      ]
     },
     "metadata": {},
     "output_type": "display_data"
    },
    {
     "name": "stdout",
     "output_type": "stream",
     "text": [
      "Make prediction for 8697 samples...\n",
      "Make prediction for 1594 samples...\n",
      "Make prediction for 2126 samples...\n",
      "Make prediction for 3846 samples...\n",
      "Make prediction for 771 samples...\n",
      "Make prediction for 300 samples...\n",
      "Make prediction for 60 samples...\n",
      "Training on 18037 samples...\n",
      "Training on 18037 samples...\n"
     ]
    },
    {
     "data": {
      "application/vnd.jupyter.widget-view+json": {
       "model_id": "f4fe902165474efa8c7c8742a17e4824",
       "version_major": 2,
       "version_minor": 0
      },
      "text/plain": [
       "0it [00:00, ?it/s]"
      ]
     },
     "metadata": {},
     "output_type": "display_data"
    },
    {
     "name": "stdout",
     "output_type": "stream",
     "text": [
      "Make prediction for 8697 samples...\n",
      "Make prediction for 1594 samples...\n",
      "Make prediction for 2126 samples...\n",
      "Make prediction for 3846 samples...\n",
      "Make prediction for 771 samples...\n",
      "Make prediction for 300 samples...\n",
      "Make prediction for 60 samples...\n",
      "Make prediction for 8708 samples...\n",
      "RMSE all test improved\n",
      "Make prediction for 1593 samples...\n",
      "RMSE mix test improved\n",
      "Make prediction for 2126 samples...\n",
      "RMSE blind cell test improved\n",
      "Make prediction for 3858 samples...\n",
      "RMSE blind 1 drug improved\n",
      "Training on 18037 samples...\n",
      "Training on 18037 samples...\n"
     ]
    },
    {
     "data": {
      "application/vnd.jupyter.widget-view+json": {
       "model_id": "d68b4985080b473396dd6582eca17348",
       "version_major": 2,
       "version_minor": 0
      },
      "text/plain": [
       "0it [00:00, ?it/s]"
      ]
     },
     "metadata": {},
     "output_type": "display_data"
    },
    {
     "name": "stdout",
     "output_type": "stream",
     "text": [
      "Make prediction for 8697 samples...\n",
      "Make prediction for 1594 samples...\n",
      "Make prediction for 2126 samples...\n",
      "Make prediction for 3846 samples...\n",
      "Make prediction for 771 samples...\n",
      "Make prediction for 300 samples...\n",
      "Make prediction for 60 samples...\n",
      "Make prediction for 60 samples...\n",
      "RMSE blind all improved\n",
      "Training on 18037 samples...\n",
      "Training on 18037 samples...\n"
     ]
    },
    {
     "data": {
      "application/vnd.jupyter.widget-view+json": {
       "model_id": "c1bb11288d104c0ea2f93b02c1a45b35",
       "version_major": 2,
       "version_minor": 0
      },
      "text/plain": [
       "0it [00:00, ?it/s]"
      ]
     },
     "metadata": {},
     "output_type": "display_data"
    },
    {
     "name": "stdout",
     "output_type": "stream",
     "text": [
      "Make prediction for 8697 samples...\n",
      "Make prediction for 1594 samples...\n",
      "Make prediction for 2126 samples...\n",
      "Make prediction for 3846 samples...\n",
      "Make prediction for 771 samples...\n",
      "Make prediction for 300 samples...\n",
      "Make prediction for 60 samples...\n",
      "Training on 18037 samples...\n",
      "Training on 18037 samples...\n"
     ]
    },
    {
     "data": {
      "application/vnd.jupyter.widget-view+json": {
       "model_id": "e788532a62e94264b69d729a03bf6c6c",
       "version_major": 2,
       "version_minor": 0
      },
      "text/plain": [
       "0it [00:00, ?it/s]"
      ]
     },
     "metadata": {},
     "output_type": "display_data"
    },
    {
     "name": "stdout",
     "output_type": "stream",
     "text": [
      "Make prediction for 8697 samples...\n",
      "Make prediction for 1594 samples...\n",
      "Make prediction for 2126 samples...\n",
      "Make prediction for 3846 samples...\n",
      "Make prediction for 771 samples...\n",
      "Make prediction for 300 samples...\n",
      "Make prediction for 60 samples...\n",
      "Make prediction for 8708 samples...\n",
      "RMSE all test improved\n",
      "Make prediction for 1593 samples...\n",
      "RMSE mix test improved\n",
      "Make prediction for 3858 samples...\n",
      "RMSE blind 1 drug improved\n",
      "Training on 18037 samples...\n",
      "Training on 18037 samples...\n"
     ]
    },
    {
     "data": {
      "application/vnd.jupyter.widget-view+json": {
       "model_id": "003aea4bd30f43deb2db9e56c47daf60",
       "version_major": 2,
       "version_minor": 0
      },
      "text/plain": [
       "0it [00:00, ?it/s]"
      ]
     },
     "metadata": {},
     "output_type": "display_data"
    },
    {
     "name": "stdout",
     "output_type": "stream",
     "text": [
      "Make prediction for 8697 samples...\n",
      "Make prediction for 1594 samples...\n",
      "Make prediction for 2126 samples...\n",
      "Make prediction for 3846 samples...\n",
      "Make prediction for 771 samples...\n",
      "Make prediction for 300 samples...\n",
      "Make prediction for 60 samples...\n",
      "Make prediction for 60 samples...\n",
      "RMSE blind all improved\n",
      "Training on 18037 samples...\n",
      "Training on 18037 samples...\n"
     ]
    },
    {
     "data": {
      "application/vnd.jupyter.widget-view+json": {
       "model_id": "f2af230a848b4df1b0ae817d8e03ab28",
       "version_major": 2,
       "version_minor": 0
      },
      "text/plain": [
       "0it [00:00, ?it/s]"
      ]
     },
     "metadata": {},
     "output_type": "display_data"
    },
    {
     "name": "stdout",
     "output_type": "stream",
     "text": [
      "Make prediction for 8697 samples...\n",
      "Make prediction for 1594 samples...\n",
      "Make prediction for 2126 samples...\n",
      "Make prediction for 3846 samples...\n",
      "Make prediction for 771 samples...\n",
      "Make prediction for 300 samples...\n",
      "Make prediction for 60 samples...\n",
      "Make prediction for 8708 samples...\n",
      "RMSE all test improved\n",
      "Make prediction for 1593 samples...\n",
      "RMSE mix test improved\n",
      "Make prediction for 3858 samples...\n",
      "RMSE blind 1 drug improved\n",
      "Training on 18037 samples...\n",
      "Training on 18037 samples...\n"
     ]
    },
    {
     "data": {
      "application/vnd.jupyter.widget-view+json": {
       "model_id": "f602e6e83398429888777d10ef8e5236",
       "version_major": 2,
       "version_minor": 0
      },
      "text/plain": [
       "0it [00:00, ?it/s]"
      ]
     },
     "metadata": {},
     "output_type": "display_data"
    },
    {
     "name": "stdout",
     "output_type": "stream",
     "text": [
      "Make prediction for 8697 samples...\n",
      "Make prediction for 1594 samples...\n",
      "Make prediction for 2126 samples...\n",
      "Make prediction for 3846 samples...\n",
      "Make prediction for 771 samples...\n",
      "Make prediction for 300 samples...\n",
      "Make prediction for 60 samples...\n",
      "Make prediction for 2126 samples...\n",
      "RMSE blind cell test improved\n",
      "Training on 18037 samples...\n",
      "Training on 18037 samples...\n"
     ]
    },
    {
     "data": {
      "application/vnd.jupyter.widget-view+json": {
       "model_id": "1a1869d857f543968d353d905dce0ff8",
       "version_major": 2,
       "version_minor": 0
      },
      "text/plain": [
       "0it [00:00, ?it/s]"
      ]
     },
     "metadata": {},
     "output_type": "display_data"
    },
    {
     "name": "stdout",
     "output_type": "stream",
     "text": [
      "Make prediction for 8697 samples...\n",
      "Make prediction for 1594 samples...\n",
      "Make prediction for 2126 samples...\n",
      "Make prediction for 3846 samples...\n",
      "Make prediction for 771 samples...\n",
      "Make prediction for 300 samples...\n",
      "Make prediction for 60 samples...\n",
      "Training on 18037 samples...\n",
      "Training on 18037 samples...\n"
     ]
    },
    {
     "data": {
      "application/vnd.jupyter.widget-view+json": {
       "model_id": "89e466f3e8e6432a94f78bf021358fce",
       "version_major": 2,
       "version_minor": 0
      },
      "text/plain": [
       "0it [00:00, ?it/s]"
      ]
     },
     "metadata": {},
     "output_type": "display_data"
    },
    {
     "name": "stdout",
     "output_type": "stream",
     "text": [
      "Make prediction for 8697 samples...\n",
      "Make prediction for 1594 samples...\n",
      "Make prediction for 2126 samples...\n",
      "Make prediction for 3846 samples...\n",
      "Make prediction for 771 samples...\n",
      "Make prediction for 300 samples...\n",
      "Make prediction for 60 samples...\n",
      "Make prediction for 8708 samples...\n",
      "RMSE all test improved\n",
      "Training on 18037 samples...\n",
      "Training on 18037 samples...\n"
     ]
    },
    {
     "data": {
      "application/vnd.jupyter.widget-view+json": {
       "model_id": "9dab97953308477bae3c5dd48b6bb5ad",
       "version_major": 2,
       "version_minor": 0
      },
      "text/plain": [
       "0it [00:00, ?it/s]"
      ]
     },
     "metadata": {},
     "output_type": "display_data"
    },
    {
     "name": "stdout",
     "output_type": "stream",
     "text": [
      "Make prediction for 8697 samples...\n",
      "Make prediction for 1594 samples...\n",
      "Make prediction for 2126 samples...\n",
      "Make prediction for 3846 samples...\n",
      "Make prediction for 771 samples...\n",
      "Make prediction for 300 samples...\n",
      "Make prediction for 60 samples...\n",
      "Make prediction for 8708 samples...\n",
      "RMSE all test improved\n",
      "Make prediction for 1593 samples...\n",
      "RMSE mix test improved\n",
      "Make prediction for 3858 samples...\n",
      "RMSE blind 1 drug improved\n",
      "Training on 18037 samples...\n",
      "Training on 18037 samples...\n"
     ]
    },
    {
     "data": {
      "application/vnd.jupyter.widget-view+json": {
       "model_id": "2c793d80f2b74aada6662d2699f920a1",
       "version_major": 2,
       "version_minor": 0
      },
      "text/plain": [
       "0it [00:00, ?it/s]"
      ]
     },
     "metadata": {},
     "output_type": "display_data"
    },
    {
     "name": "stdout",
     "output_type": "stream",
     "text": [
      "Make prediction for 8697 samples...\n",
      "Make prediction for 1594 samples...\n",
      "Make prediction for 2126 samples...\n",
      "Make prediction for 3846 samples...\n",
      "Make prediction for 771 samples...\n",
      "Make prediction for 300 samples...\n",
      "Make prediction for 60 samples...\n",
      "Make prediction for 8708 samples...\n",
      "RMSE all test improved\n",
      "Make prediction for 1593 samples...\n",
      "RMSE mix test improved\n",
      "Make prediction for 2126 samples...\n",
      "RMSE blind cell test improved\n",
      "Training on 18037 samples...\n",
      "Training on 18037 samples...\n"
     ]
    },
    {
     "data": {
      "application/vnd.jupyter.widget-view+json": {
       "model_id": "c9e5dceb0cb743d1874ea5315ba75432",
       "version_major": 2,
       "version_minor": 0
      },
      "text/plain": [
       "0it [00:00, ?it/s]"
      ]
     },
     "metadata": {},
     "output_type": "display_data"
    },
    {
     "name": "stdout",
     "output_type": "stream",
     "text": [
      "Make prediction for 8697 samples...\n",
      "Make prediction for 1594 samples...\n",
      "Make prediction for 2126 samples...\n",
      "Make prediction for 3846 samples...\n",
      "Make prediction for 771 samples...\n",
      "Make prediction for 300 samples...\n",
      "Make prediction for 60 samples...\n",
      "Make prediction for 1593 samples...\n",
      "RMSE mix test improved\n",
      "Training on 18037 samples...\n",
      "Training on 18037 samples...\n"
     ]
    },
    {
     "data": {
      "application/vnd.jupyter.widget-view+json": {
       "model_id": "a3a952c61391459584de062f0cbe8d99",
       "version_major": 2,
       "version_minor": 0
      },
      "text/plain": [
       "0it [00:00, ?it/s]"
      ]
     },
     "metadata": {},
     "output_type": "display_data"
    },
    {
     "name": "stdout",
     "output_type": "stream",
     "text": [
      "Make prediction for 8697 samples...\n",
      "Make prediction for 1594 samples...\n",
      "Make prediction for 2126 samples...\n",
      "Make prediction for 3846 samples...\n",
      "Make prediction for 771 samples...\n",
      "Make prediction for 300 samples...\n",
      "Make prediction for 60 samples...\n",
      "Make prediction for 8708 samples...\n",
      "RMSE all test improved\n",
      "Make prediction for 3858 samples...\n",
      "RMSE blind 1 drug improved\n",
      "Training on 18037 samples...\n",
      "Training on 18037 samples...\n"
     ]
    },
    {
     "data": {
      "application/vnd.jupyter.widget-view+json": {
       "model_id": "2fac1d700e0146169c0b684862362680",
       "version_major": 2,
       "version_minor": 0
      },
      "text/plain": [
       "0it [00:00, ?it/s]"
      ]
     },
     "metadata": {},
     "output_type": "display_data"
    },
    {
     "name": "stdout",
     "output_type": "stream",
     "text": [
      "Make prediction for 8697 samples...\n",
      "Make prediction for 1594 samples...\n",
      "Make prediction for 2126 samples...\n",
      "Make prediction for 3846 samples...\n",
      "Make prediction for 771 samples...\n",
      "Make prediction for 300 samples...\n",
      "Make prediction for 60 samples...\n",
      "Training on 18037 samples...\n",
      "Training on 18037 samples...\n"
     ]
    },
    {
     "data": {
      "application/vnd.jupyter.widget-view+json": {
       "model_id": "5fcfcbfca7d345e5aa8ef8b25ec32f65",
       "version_major": 2,
       "version_minor": 0
      },
      "text/plain": [
       "0it [00:00, ?it/s]"
      ]
     },
     "metadata": {},
     "output_type": "display_data"
    },
    {
     "name": "stdout",
     "output_type": "stream",
     "text": [
      "Make prediction for 8697 samples...\n",
      "Make prediction for 1594 samples...\n",
      "Make prediction for 2126 samples...\n",
      "Make prediction for 3846 samples...\n",
      "Make prediction for 771 samples...\n",
      "Make prediction for 300 samples...\n",
      "Make prediction for 60 samples...\n",
      "Training on 18037 samples...\n",
      "Training on 18037 samples...\n"
     ]
    },
    {
     "data": {
      "application/vnd.jupyter.widget-view+json": {
       "model_id": "ed5acd7dfefb45658f450aa47e5819e2",
       "version_major": 2,
       "version_minor": 0
      },
      "text/plain": [
       "0it [00:00, ?it/s]"
      ]
     },
     "metadata": {},
     "output_type": "display_data"
    },
    {
     "name": "stdout",
     "output_type": "stream",
     "text": [
      "Make prediction for 8697 samples...\n",
      "Make prediction for 1594 samples...\n",
      "Make prediction for 2126 samples...\n",
      "Make prediction for 3846 samples...\n",
      "Make prediction for 771 samples...\n",
      "Make prediction for 300 samples...\n",
      "Make prediction for 60 samples...\n",
      "Make prediction for 1593 samples...\n",
      "RMSE mix test improved\n",
      "Make prediction for 2126 samples...\n",
      "RMSE blind cell test improved\n",
      "Training on 18037 samples...\n",
      "Training on 18037 samples...\n"
     ]
    },
    {
     "data": {
      "application/vnd.jupyter.widget-view+json": {
       "model_id": "b02e5eed956343a6a5fcf7bbcb01bdd6",
       "version_major": 2,
       "version_minor": 0
      },
      "text/plain": [
       "0it [00:00, ?it/s]"
      ]
     },
     "metadata": {},
     "output_type": "display_data"
    },
    {
     "name": "stdout",
     "output_type": "stream",
     "text": [
      "Make prediction for 8697 samples...\n",
      "Make prediction for 1594 samples...\n",
      "Make prediction for 2126 samples...\n",
      "Make prediction for 3846 samples...\n",
      "Make prediction for 771 samples...\n",
      "Make prediction for 300 samples...\n",
      "Make prediction for 60 samples...\n",
      "Training on 18037 samples...\n",
      "Training on 18037 samples...\n"
     ]
    },
    {
     "data": {
      "application/vnd.jupyter.widget-view+json": {
       "model_id": "26e5415216cc4222886553bf8143b5e3",
       "version_major": 2,
       "version_minor": 0
      },
      "text/plain": [
       "0it [00:00, ?it/s]"
      ]
     },
     "metadata": {},
     "output_type": "display_data"
    },
    {
     "name": "stdout",
     "output_type": "stream",
     "text": [
      "Make prediction for 8697 samples...\n",
      "Make prediction for 1594 samples...\n",
      "Make prediction for 2126 samples...\n",
      "Make prediction for 3846 samples...\n",
      "Make prediction for 771 samples...\n",
      "Make prediction for 300 samples...\n",
      "Make prediction for 60 samples...\n",
      "Training on 18037 samples...\n",
      "Training on 18037 samples...\n"
     ]
    },
    {
     "data": {
      "application/vnd.jupyter.widget-view+json": {
       "model_id": "7dba6e3556ae4e238ce569e206e0aeff",
       "version_major": 2,
       "version_minor": 0
      },
      "text/plain": [
       "0it [00:00, ?it/s]"
      ]
     },
     "metadata": {},
     "output_type": "display_data"
    },
    {
     "name": "stdout",
     "output_type": "stream",
     "text": [
      "Make prediction for 8697 samples...\n",
      "Make prediction for 1594 samples...\n",
      "Make prediction for 2126 samples...\n",
      "Make prediction for 3846 samples...\n",
      "Make prediction for 771 samples...\n",
      "Make prediction for 300 samples...\n",
      "Make prediction for 60 samples...\n",
      "Training on 18037 samples...\n",
      "Training on 18037 samples...\n"
     ]
    },
    {
     "data": {
      "application/vnd.jupyter.widget-view+json": {
       "model_id": "50fdaa1a1a164546badffc9412c5aa3c",
       "version_major": 2,
       "version_minor": 0
      },
      "text/plain": [
       "0it [00:00, ?it/s]"
      ]
     },
     "metadata": {},
     "output_type": "display_data"
    },
    {
     "name": "stdout",
     "output_type": "stream",
     "text": [
      "Make prediction for 8697 samples...\n",
      "Make prediction for 1594 samples...\n",
      "Make prediction for 2126 samples...\n",
      "Make prediction for 3846 samples...\n",
      "Make prediction for 771 samples...\n",
      "Make prediction for 300 samples...\n",
      "Make prediction for 60 samples...\n",
      "Training on 18037 samples...\n",
      "Training on 18037 samples...\n"
     ]
    },
    {
     "data": {
      "application/vnd.jupyter.widget-view+json": {
       "model_id": "610b81fcffee4e4083eb39f1e73eee64",
       "version_major": 2,
       "version_minor": 0
      },
      "text/plain": [
       "0it [00:00, ?it/s]"
      ]
     },
     "metadata": {},
     "output_type": "display_data"
    },
    {
     "name": "stdout",
     "output_type": "stream",
     "text": [
      "Make prediction for 8697 samples...\n",
      "Make prediction for 1594 samples...\n",
      "Make prediction for 2126 samples...\n",
      "Make prediction for 3846 samples...\n",
      "Make prediction for 771 samples...\n",
      "Make prediction for 300 samples...\n",
      "Make prediction for 60 samples...\n",
      "Make prediction for 3858 samples...\n",
      "RMSE blind 1 drug improved\n",
      "Training on 18037 samples...\n",
      "Training on 18037 samples...\n"
     ]
    },
    {
     "data": {
      "application/vnd.jupyter.widget-view+json": {
       "model_id": "4805a3651b074892a51f3a78ea19134d",
       "version_major": 2,
       "version_minor": 0
      },
      "text/plain": [
       "0it [00:00, ?it/s]"
      ]
     },
     "metadata": {},
     "output_type": "display_data"
    },
    {
     "name": "stdout",
     "output_type": "stream",
     "text": [
      "Make prediction for 8697 samples...\n",
      "Make prediction for 1594 samples...\n",
      "Make prediction for 2126 samples...\n",
      "Make prediction for 3846 samples...\n",
      "Make prediction for 771 samples...\n",
      "Make prediction for 300 samples...\n",
      "Make prediction for 60 samples...\n",
      "Make prediction for 8708 samples...\n",
      "RMSE all test improved\n",
      "Make prediction for 1593 samples...\n",
      "RMSE mix test improved\n",
      "Training on 18037 samples...\n",
      "Training on 18037 samples...\n"
     ]
    },
    {
     "data": {
      "application/vnd.jupyter.widget-view+json": {
       "model_id": "2bc8028ba99e49fbaa942f9efe2dd10b",
       "version_major": 2,
       "version_minor": 0
      },
      "text/plain": [
       "0it [00:00, ?it/s]"
      ]
     },
     "metadata": {},
     "output_type": "display_data"
    },
    {
     "name": "stdout",
     "output_type": "stream",
     "text": [
      "Make prediction for 8697 samples...\n",
      "Make prediction for 1594 samples...\n",
      "Make prediction for 2126 samples...\n",
      "Make prediction for 3846 samples...\n",
      "Make prediction for 771 samples...\n",
      "Make prediction for 300 samples...\n",
      "Make prediction for 60 samples...\n",
      "Training on 18037 samples...\n",
      "Training on 18037 samples...\n"
     ]
    },
    {
     "data": {
      "application/vnd.jupyter.widget-view+json": {
       "model_id": "79b4c47882004f1fa1d0acc77f5d1bb2",
       "version_major": 2,
       "version_minor": 0
      },
      "text/plain": [
       "0it [00:00, ?it/s]"
      ]
     },
     "metadata": {},
     "output_type": "display_data"
    },
    {
     "name": "stdout",
     "output_type": "stream",
     "text": [
      "Make prediction for 8697 samples...\n",
      "Make prediction for 1594 samples...\n",
      "Make prediction for 2126 samples...\n",
      "Make prediction for 3846 samples...\n",
      "Make prediction for 771 samples...\n",
      "Make prediction for 300 samples...\n",
      "Make prediction for 60 samples...\n",
      "Training on 18037 samples...\n",
      "Training on 18037 samples...\n"
     ]
    },
    {
     "data": {
      "application/vnd.jupyter.widget-view+json": {
       "model_id": "6efe6ddbcb6e437397cb8be63e8c765e",
       "version_major": 2,
       "version_minor": 0
      },
      "text/plain": [
       "0it [00:00, ?it/s]"
      ]
     },
     "metadata": {},
     "output_type": "display_data"
    },
    {
     "name": "stdout",
     "output_type": "stream",
     "text": [
      "Make prediction for 8697 samples...\n",
      "Make prediction for 1594 samples...\n",
      "Make prediction for 2126 samples...\n",
      "Make prediction for 3846 samples...\n",
      "Make prediction for 771 samples...\n",
      "Make prediction for 300 samples...\n",
      "Make prediction for 60 samples...\n",
      "Make prediction for 3858 samples...\n",
      "RMSE blind 1 drug improved\n",
      "Training on 18037 samples...\n",
      "Training on 18037 samples...\n"
     ]
    },
    {
     "data": {
      "application/vnd.jupyter.widget-view+json": {
       "model_id": "7f8cf4cbd45e4e6aaaa8dbd29e8a7afa",
       "version_major": 2,
       "version_minor": 0
      },
      "text/plain": [
       "0it [00:00, ?it/s]"
      ]
     },
     "metadata": {},
     "output_type": "display_data"
    },
    {
     "name": "stdout",
     "output_type": "stream",
     "text": [
      "Make prediction for 8697 samples...\n",
      "Make prediction for 1594 samples...\n",
      "Make prediction for 2126 samples...\n",
      "Make prediction for 3846 samples...\n",
      "Make prediction for 771 samples...\n",
      "Make prediction for 300 samples...\n",
      "Make prediction for 60 samples...\n",
      "Training on 18037 samples...\n",
      "Training on 18037 samples...\n"
     ]
    },
    {
     "data": {
      "application/vnd.jupyter.widget-view+json": {
       "model_id": "a45de00dee394e8b983b14c8375604ed",
       "version_major": 2,
       "version_minor": 0
      },
      "text/plain": [
       "0it [00:00, ?it/s]"
      ]
     },
     "metadata": {},
     "output_type": "display_data"
    },
    {
     "name": "stdout",
     "output_type": "stream",
     "text": [
      "Make prediction for 8697 samples...\n",
      "Make prediction for 1594 samples...\n",
      "Make prediction for 2126 samples...\n",
      "Make prediction for 3846 samples...\n",
      "Make prediction for 771 samples...\n",
      "Make prediction for 300 samples...\n",
      "Make prediction for 60 samples...\n",
      "Training on 18037 samples...\n",
      "Training on 18037 samples...\n"
     ]
    },
    {
     "data": {
      "application/vnd.jupyter.widget-view+json": {
       "model_id": "63c1f6a551d747d7bcbd45c63e967239",
       "version_major": 2,
       "version_minor": 0
      },
      "text/plain": [
       "0it [00:00, ?it/s]"
      ]
     },
     "metadata": {},
     "output_type": "display_data"
    },
    {
     "name": "stdout",
     "output_type": "stream",
     "text": [
      "Make prediction for 8697 samples...\n",
      "Make prediction for 1594 samples...\n",
      "Make prediction for 2126 samples...\n",
      "Make prediction for 3846 samples...\n",
      "Make prediction for 771 samples...\n",
      "Make prediction for 300 samples...\n",
      "Make prediction for 60 samples...\n",
      "Make prediction for 8708 samples...\n",
      "RMSE all test improved\n",
      "Make prediction for 1593 samples...\n",
      "RMSE mix test improved\n",
      "Make prediction for 3858 samples...\n",
      "RMSE blind 1 drug improved\n",
      "Training on 18037 samples...\n",
      "Training on 18037 samples...\n"
     ]
    },
    {
     "data": {
      "application/vnd.jupyter.widget-view+json": {
       "model_id": "f4eb974de8af4a59acffa3ca553c473f",
       "version_major": 2,
       "version_minor": 0
      },
      "text/plain": [
       "0it [00:00, ?it/s]"
      ]
     },
     "metadata": {},
     "output_type": "display_data"
    },
    {
     "name": "stdout",
     "output_type": "stream",
     "text": [
      "Make prediction for 8697 samples...\n",
      "Make prediction for 1594 samples...\n",
      "Make prediction for 2126 samples...\n",
      "Make prediction for 3846 samples...\n",
      "Make prediction for 771 samples...\n",
      "Make prediction for 300 samples...\n",
      "Make prediction for 60 samples...\n",
      "Training on 18037 samples...\n",
      "Training on 18037 samples...\n"
     ]
    },
    {
     "data": {
      "application/vnd.jupyter.widget-view+json": {
       "model_id": "bea1f236061b478d946652cb48a1db59",
       "version_major": 2,
       "version_minor": 0
      },
      "text/plain": [
       "0it [00:00, ?it/s]"
      ]
     },
     "metadata": {},
     "output_type": "display_data"
    },
    {
     "name": "stdout",
     "output_type": "stream",
     "text": [
      "Make prediction for 8697 samples...\n",
      "Make prediction for 1594 samples...\n",
      "Make prediction for 2126 samples...\n",
      "Make prediction for 3846 samples...\n",
      "Make prediction for 771 samples...\n",
      "Make prediction for 300 samples...\n",
      "Make prediction for 60 samples...\n",
      "Training on 18037 samples...\n",
      "Training on 18037 samples...\n"
     ]
    },
    {
     "data": {
      "application/vnd.jupyter.widget-view+json": {
       "model_id": "ecbf0a2ece5a4afc90b78f3a2045464a",
       "version_major": 2,
       "version_minor": 0
      },
      "text/plain": [
       "0it [00:00, ?it/s]"
      ]
     },
     "metadata": {},
     "output_type": "display_data"
    },
    {
     "name": "stdout",
     "output_type": "stream",
     "text": [
      "Make prediction for 8697 samples...\n",
      "Make prediction for 1594 samples...\n",
      "Make prediction for 2126 samples...\n",
      "Make prediction for 3846 samples...\n",
      "Make prediction for 771 samples...\n",
      "Make prediction for 300 samples...\n",
      "Make prediction for 60 samples...\n",
      "Training on 18037 samples...\n",
      "Training on 18037 samples...\n"
     ]
    },
    {
     "data": {
      "application/vnd.jupyter.widget-view+json": {
       "model_id": "892079344c0849319533bd43b20f9a57",
       "version_major": 2,
       "version_minor": 0
      },
      "text/plain": [
       "0it [00:00, ?it/s]"
      ]
     },
     "metadata": {},
     "output_type": "display_data"
    },
    {
     "name": "stdout",
     "output_type": "stream",
     "text": [
      "Make prediction for 8697 samples...\n",
      "Make prediction for 1594 samples...\n",
      "Make prediction for 2126 samples...\n",
      "Make prediction for 3846 samples...\n",
      "Make prediction for 771 samples...\n",
      "Make prediction for 300 samples...\n",
      "Make prediction for 60 samples...\n",
      "Make prediction for 1593 samples...\n",
      "RMSE mix test improved\n",
      "Training on 18037 samples...\n",
      "Training on 18037 samples...\n"
     ]
    },
    {
     "data": {
      "application/vnd.jupyter.widget-view+json": {
       "model_id": "ea7207a56b7848888e1d0f9e62283cca",
       "version_major": 2,
       "version_minor": 0
      },
      "text/plain": [
       "0it [00:00, ?it/s]"
      ]
     },
     "metadata": {},
     "output_type": "display_data"
    },
    {
     "name": "stdout",
     "output_type": "stream",
     "text": [
      "Make prediction for 8697 samples...\n",
      "Make prediction for 1594 samples...\n",
      "Make prediction for 2126 samples...\n",
      "Make prediction for 3846 samples...\n",
      "Make prediction for 771 samples...\n",
      "Make prediction for 300 samples...\n",
      "Make prediction for 60 samples...\n",
      "Make prediction for 8708 samples...\n",
      "RMSE all test improved\n",
      "Training on 18037 samples...\n",
      "Training on 18037 samples...\n"
     ]
    },
    {
     "data": {
      "application/vnd.jupyter.widget-view+json": {
       "model_id": "9f607add89354ae99516d2c3d6ff9fe8",
       "version_major": 2,
       "version_minor": 0
      },
      "text/plain": [
       "0it [00:00, ?it/s]"
      ]
     },
     "metadata": {},
     "output_type": "display_data"
    },
    {
     "name": "stdout",
     "output_type": "stream",
     "text": [
      "Make prediction for 8697 samples...\n",
      "Make prediction for 1594 samples...\n",
      "Make prediction for 2126 samples...\n",
      "Make prediction for 3846 samples...\n",
      "Make prediction for 771 samples...\n",
      "Make prediction for 300 samples...\n",
      "Make prediction for 60 samples...\n",
      "Training on 18037 samples...\n",
      "Training on 18037 samples...\n"
     ]
    },
    {
     "data": {
      "application/vnd.jupyter.widget-view+json": {
       "model_id": "0a4a3ac5bcc9448b8aac5ac5fe719e92",
       "version_major": 2,
       "version_minor": 0
      },
      "text/plain": [
       "0it [00:00, ?it/s]"
      ]
     },
     "metadata": {},
     "output_type": "display_data"
    },
    {
     "name": "stdout",
     "output_type": "stream",
     "text": [
      "Make prediction for 8697 samples...\n",
      "Make prediction for 1594 samples...\n",
      "Make prediction for 2126 samples...\n",
      "Make prediction for 3846 samples...\n",
      "Make prediction for 771 samples...\n",
      "Make prediction for 300 samples...\n",
      "Make prediction for 60 samples...\n",
      "Make prediction for 8708 samples...\n",
      "RMSE all test improved\n",
      "Make prediction for 2126 samples...\n",
      "RMSE blind cell test improved\n",
      "Make prediction for 771 samples...\n",
      "RMSE blind 1 drug cell improved\n",
      "Training on 18037 samples...\n",
      "Training on 18037 samples...\n"
     ]
    },
    {
     "data": {
      "application/vnd.jupyter.widget-view+json": {
       "model_id": "83909650772f445a8ae40d4c1337b8a0",
       "version_major": 2,
       "version_minor": 0
      },
      "text/plain": [
       "0it [00:00, ?it/s]"
      ]
     },
     "metadata": {},
     "output_type": "display_data"
    },
    {
     "name": "stdout",
     "output_type": "stream",
     "text": [
      "Make prediction for 8697 samples...\n",
      "Make prediction for 1594 samples...\n",
      "Make prediction for 2126 samples...\n",
      "Make prediction for 3846 samples...\n",
      "Make prediction for 771 samples...\n",
      "Make prediction for 300 samples...\n",
      "Make prediction for 60 samples...\n",
      "Make prediction for 3858 samples...\n",
      "RMSE blind 1 drug improved\n",
      "Training on 18037 samples...\n",
      "Training on 18037 samples...\n"
     ]
    },
    {
     "data": {
      "application/vnd.jupyter.widget-view+json": {
       "model_id": "52e9571f6b4043988223ce706925c579",
       "version_major": 2,
       "version_minor": 0
      },
      "text/plain": [
       "0it [00:00, ?it/s]"
      ]
     },
     "metadata": {},
     "output_type": "display_data"
    },
    {
     "name": "stdout",
     "output_type": "stream",
     "text": [
      "Make prediction for 8697 samples...\n",
      "Make prediction for 1594 samples...\n",
      "Make prediction for 2126 samples...\n",
      "Make prediction for 3846 samples...\n",
      "Make prediction for 771 samples...\n",
      "Make prediction for 300 samples...\n",
      "Make prediction for 60 samples...\n",
      "Training on 18037 samples...\n",
      "Training on 18037 samples...\n"
     ]
    },
    {
     "data": {
      "application/vnd.jupyter.widget-view+json": {
       "model_id": "09365a889b50445b9d047470dfd285b7",
       "version_major": 2,
       "version_minor": 0
      },
      "text/plain": [
       "0it [00:00, ?it/s]"
      ]
     },
     "metadata": {},
     "output_type": "display_data"
    },
    {
     "name": "stdout",
     "output_type": "stream",
     "text": [
      "Make prediction for 8697 samples...\n",
      "Make prediction for 1594 samples...\n",
      "Make prediction for 2126 samples...\n",
      "Make prediction for 3846 samples...\n",
      "Make prediction for 771 samples...\n",
      "Make prediction for 300 samples...\n",
      "Make prediction for 60 samples...\n",
      "Make prediction for 1593 samples...\n",
      "RMSE mix test improved\n",
      "Training on 18037 samples...\n",
      "Training on 18037 samples...\n"
     ]
    },
    {
     "data": {
      "application/vnd.jupyter.widget-view+json": {
       "model_id": "afd55eaa9baa494da0688dda85e3cef4",
       "version_major": 2,
       "version_minor": 0
      },
      "text/plain": [
       "0it [00:00, ?it/s]"
      ]
     },
     "metadata": {},
     "output_type": "display_data"
    },
    {
     "name": "stdout",
     "output_type": "stream",
     "text": [
      "Make prediction for 8697 samples...\n",
      "Make prediction for 1594 samples...\n",
      "Make prediction for 2126 samples...\n",
      "Make prediction for 3846 samples...\n",
      "Make prediction for 771 samples...\n",
      "Make prediction for 300 samples...\n",
      "Make prediction for 60 samples...\n",
      "Training on 18037 samples...\n",
      "Training on 18037 samples...\n"
     ]
    },
    {
     "data": {
      "application/vnd.jupyter.widget-view+json": {
       "model_id": "494fb8cdd9854b79b150cbbd99855a69",
       "version_major": 2,
       "version_minor": 0
      },
      "text/plain": [
       "0it [00:00, ?it/s]"
      ]
     },
     "metadata": {},
     "output_type": "display_data"
    },
    {
     "name": "stdout",
     "output_type": "stream",
     "text": [
      "Make prediction for 8697 samples...\n",
      "Make prediction for 1594 samples...\n",
      "Make prediction for 2126 samples...\n",
      "Make prediction for 3846 samples...\n",
      "Make prediction for 771 samples...\n",
      "Make prediction for 300 samples...\n",
      "Make prediction for 60 samples...\n",
      "Training on 18037 samples...\n",
      "Training on 18037 samples...\n"
     ]
    },
    {
     "data": {
      "application/vnd.jupyter.widget-view+json": {
       "model_id": "386241c9060340688219350e38984961",
       "version_major": 2,
       "version_minor": 0
      },
      "text/plain": [
       "0it [00:00, ?it/s]"
      ]
     },
     "metadata": {},
     "output_type": "display_data"
    },
    {
     "name": "stdout",
     "output_type": "stream",
     "text": [
      "Make prediction for 8697 samples...\n",
      "Make prediction for 1594 samples...\n",
      "Make prediction for 2126 samples...\n",
      "Make prediction for 3846 samples...\n",
      "Make prediction for 771 samples...\n",
      "Make prediction for 300 samples...\n",
      "Make prediction for 60 samples...\n",
      "Make prediction for 1593 samples...\n",
      "RMSE mix test improved\n",
      "Make prediction for 3858 samples...\n",
      "RMSE blind 1 drug improved\n",
      "Training on 18037 samples...\n",
      "Training on 18037 samples...\n"
     ]
    },
    {
     "data": {
      "application/vnd.jupyter.widget-view+json": {
       "model_id": "9472a6df56f146be9bf6b5a8f81d19f0",
       "version_major": 2,
       "version_minor": 0
      },
      "text/plain": [
       "0it [00:00, ?it/s]"
      ]
     },
     "metadata": {},
     "output_type": "display_data"
    },
    {
     "name": "stdout",
     "output_type": "stream",
     "text": [
      "Make prediction for 8697 samples...\n",
      "Make prediction for 1594 samples...\n",
      "Make prediction for 2126 samples...\n",
      "Make prediction for 3846 samples...\n",
      "Make prediction for 771 samples...\n",
      "Make prediction for 300 samples...\n",
      "Make prediction for 60 samples...\n",
      "Training on 18037 samples...\n",
      "Training on 18037 samples...\n"
     ]
    },
    {
     "data": {
      "application/vnd.jupyter.widget-view+json": {
       "model_id": "9814ed0e94b14ca98ca350ff3f10ca7d",
       "version_major": 2,
       "version_minor": 0
      },
      "text/plain": [
       "0it [00:00, ?it/s]"
      ]
     },
     "metadata": {},
     "output_type": "display_data"
    },
    {
     "name": "stdout",
     "output_type": "stream",
     "text": [
      "Make prediction for 8697 samples...\n",
      "Make prediction for 1594 samples...\n",
      "Make prediction for 2126 samples...\n",
      "Make prediction for 3846 samples...\n",
      "Make prediction for 771 samples...\n",
      "Make prediction for 300 samples...\n",
      "Make prediction for 60 samples...\n",
      "Make prediction for 8708 samples...\n",
      "RMSE all test improved\n",
      "Make prediction for 3858 samples...\n",
      "RMSE blind 1 drug improved\n",
      "Training on 18037 samples...\n",
      "Training on 18037 samples...\n"
     ]
    },
    {
     "data": {
      "application/vnd.jupyter.widget-view+json": {
       "model_id": "ba32a4a3ee08450a857d39068458484e",
       "version_major": 2,
       "version_minor": 0
      },
      "text/plain": [
       "0it [00:00, ?it/s]"
      ]
     },
     "metadata": {},
     "output_type": "display_data"
    },
    {
     "name": "stdout",
     "output_type": "stream",
     "text": [
      "Make prediction for 8697 samples...\n",
      "Make prediction for 1594 samples...\n",
      "Make prediction for 2126 samples...\n",
      "Make prediction for 3846 samples...\n",
      "Make prediction for 771 samples...\n",
      "Make prediction for 300 samples...\n",
      "Make prediction for 60 samples...\n",
      "Make prediction for 8708 samples...\n",
      "RMSE all test improved\n",
      "Training on 18037 samples...\n",
      "Training on 18037 samples...\n"
     ]
    },
    {
     "data": {
      "application/vnd.jupyter.widget-view+json": {
       "model_id": "7c6d33f55a124f5290f85a34205633b5",
       "version_major": 2,
       "version_minor": 0
      },
      "text/plain": [
       "0it [00:00, ?it/s]"
      ]
     },
     "metadata": {},
     "output_type": "display_data"
    },
    {
     "name": "stdout",
     "output_type": "stream",
     "text": [
      "Make prediction for 8697 samples...\n",
      "Make prediction for 1594 samples...\n",
      "Make prediction for 2126 samples...\n",
      "Make prediction for 3846 samples...\n",
      "Make prediction for 771 samples...\n",
      "Make prediction for 300 samples...\n",
      "Make prediction for 60 samples...\n",
      "Training on 18037 samples...\n",
      "Training on 18037 samples...\n"
     ]
    },
    {
     "data": {
      "application/vnd.jupyter.widget-view+json": {
       "model_id": "c89f22af605447eb83d1330524b310eb",
       "version_major": 2,
       "version_minor": 0
      },
      "text/plain": [
       "0it [00:00, ?it/s]"
      ]
     },
     "metadata": {},
     "output_type": "display_data"
    },
    {
     "name": "stdout",
     "output_type": "stream",
     "text": [
      "Make prediction for 8697 samples...\n",
      "Make prediction for 1594 samples...\n",
      "Make prediction for 2126 samples...\n",
      "Make prediction for 3846 samples...\n",
      "Make prediction for 771 samples...\n",
      "Make prediction for 300 samples...\n",
      "Make prediction for 60 samples...\n",
      "Training on 18037 samples...\n",
      "Training on 18037 samples...\n"
     ]
    },
    {
     "data": {
      "application/vnd.jupyter.widget-view+json": {
       "model_id": "3a3e0dd753c7489f9b58d39b156a0bba",
       "version_major": 2,
       "version_minor": 0
      },
      "text/plain": [
       "0it [00:00, ?it/s]"
      ]
     },
     "metadata": {},
     "output_type": "display_data"
    },
    {
     "name": "stdout",
     "output_type": "stream",
     "text": [
      "Make prediction for 8697 samples...\n",
      "Make prediction for 1594 samples...\n",
      "Make prediction for 2126 samples...\n",
      "Make prediction for 3846 samples...\n",
      "Make prediction for 771 samples...\n",
      "Make prediction for 300 samples...\n",
      "Make prediction for 60 samples...\n",
      "Training on 18037 samples...\n",
      "Training on 18037 samples...\n"
     ]
    },
    {
     "data": {
      "application/vnd.jupyter.widget-view+json": {
       "model_id": "0933408f34684803a1a910df8875ba3b",
       "version_major": 2,
       "version_minor": 0
      },
      "text/plain": [
       "0it [00:00, ?it/s]"
      ]
     },
     "metadata": {},
     "output_type": "display_data"
    },
    {
     "name": "stdout",
     "output_type": "stream",
     "text": [
      "Make prediction for 8697 samples...\n",
      "Make prediction for 1594 samples...\n",
      "Make prediction for 2126 samples...\n",
      "Make prediction for 3846 samples...\n",
      "Make prediction for 771 samples...\n",
      "Make prediction for 300 samples...\n",
      "Make prediction for 60 samples...\n",
      "Training on 18037 samples...\n",
      "Training on 18037 samples...\n"
     ]
    },
    {
     "data": {
      "application/vnd.jupyter.widget-view+json": {
       "model_id": "4155c40583994557a320a79217ca6114",
       "version_major": 2,
       "version_minor": 0
      },
      "text/plain": [
       "0it [00:00, ?it/s]"
      ]
     },
     "metadata": {},
     "output_type": "display_data"
    },
    {
     "name": "stdout",
     "output_type": "stream",
     "text": [
      "Make prediction for 8697 samples...\n",
      "Make prediction for 1594 samples...\n",
      "Make prediction for 2126 samples...\n",
      "Make prediction for 3846 samples...\n",
      "Make prediction for 771 samples...\n",
      "Make prediction for 300 samples...\n",
      "Make prediction for 60 samples...\n",
      "Training on 18037 samples...\n",
      "Training on 18037 samples...\n"
     ]
    },
    {
     "data": {
      "application/vnd.jupyter.widget-view+json": {
       "model_id": "61468cf687184f94b8c5c6de65cce5c4",
       "version_major": 2,
       "version_minor": 0
      },
      "text/plain": [
       "0it [00:00, ?it/s]"
      ]
     },
     "metadata": {},
     "output_type": "display_data"
    },
    {
     "name": "stdout",
     "output_type": "stream",
     "text": [
      "Make prediction for 8697 samples...\n",
      "Make prediction for 1594 samples...\n",
      "Make prediction for 2126 samples...\n",
      "Make prediction for 3846 samples...\n",
      "Make prediction for 771 samples...\n",
      "Make prediction for 300 samples...\n",
      "Make prediction for 60 samples...\n",
      "Training on 18037 samples...\n",
      "Training on 18037 samples...\n"
     ]
    },
    {
     "data": {
      "application/vnd.jupyter.widget-view+json": {
       "model_id": "23fd1c5fad1843e0b7d13b832cad98f0",
       "version_major": 2,
       "version_minor": 0
      },
      "text/plain": [
       "0it [00:00, ?it/s]"
      ]
     },
     "metadata": {},
     "output_type": "display_data"
    },
    {
     "name": "stdout",
     "output_type": "stream",
     "text": [
      "Make prediction for 8697 samples...\n",
      "Make prediction for 1594 samples...\n",
      "Make prediction for 2126 samples...\n",
      "Make prediction for 3846 samples...\n",
      "Make prediction for 771 samples...\n",
      "Make prediction for 300 samples...\n",
      "Make prediction for 60 samples...\n",
      "Training on 18037 samples...\n",
      "Training on 18037 samples...\n"
     ]
    },
    {
     "data": {
      "application/vnd.jupyter.widget-view+json": {
       "model_id": "2a95c42c7add4da0b5021e71bf2a646c",
       "version_major": 2,
       "version_minor": 0
      },
      "text/plain": [
       "0it [00:00, ?it/s]"
      ]
     },
     "metadata": {},
     "output_type": "display_data"
    },
    {
     "name": "stdout",
     "output_type": "stream",
     "text": [
      "Make prediction for 8697 samples...\n",
      "Make prediction for 1594 samples...\n",
      "Make prediction for 2126 samples...\n",
      "Make prediction for 3846 samples...\n",
      "Make prediction for 771 samples...\n",
      "Make prediction for 300 samples...\n",
      "Make prediction for 60 samples...\n",
      "Make prediction for 1593 samples...\n",
      "RMSE mix test improved\n",
      "Training on 18037 samples...\n",
      "Training on 18037 samples...\n"
     ]
    },
    {
     "data": {
      "application/vnd.jupyter.widget-view+json": {
       "model_id": "5a8536ec7267403a8db30fd0af3d0481",
       "version_major": 2,
       "version_minor": 0
      },
      "text/plain": [
       "0it [00:00, ?it/s]"
      ]
     },
     "metadata": {},
     "output_type": "display_data"
    },
    {
     "name": "stdout",
     "output_type": "stream",
     "text": [
      "Make prediction for 8697 samples...\n",
      "Make prediction for 1594 samples...\n",
      "Make prediction for 2126 samples...\n",
      "Make prediction for 3846 samples...\n",
      "Make prediction for 771 samples...\n",
      "Make prediction for 300 samples...\n",
      "Make prediction for 60 samples...\n",
      "Training on 18037 samples...\n",
      "Training on 18037 samples...\n"
     ]
    },
    {
     "data": {
      "application/vnd.jupyter.widget-view+json": {
       "model_id": "f6097b0719e44ff2847d68dda00af47f",
       "version_major": 2,
       "version_minor": 0
      },
      "text/plain": [
       "0it [00:00, ?it/s]"
      ]
     },
     "metadata": {},
     "output_type": "display_data"
    },
    {
     "name": "stdout",
     "output_type": "stream",
     "text": [
      "Make prediction for 8697 samples...\n",
      "Make prediction for 1594 samples...\n",
      "Make prediction for 2126 samples...\n",
      "Make prediction for 3846 samples...\n",
      "Make prediction for 771 samples...\n",
      "Make prediction for 300 samples...\n",
      "Make prediction for 60 samples...\n",
      "Make prediction for 1593 samples...\n",
      "RMSE mix test improved\n",
      "Training on 18037 samples...\n",
      "Training on 18037 samples...\n"
     ]
    },
    {
     "data": {
      "application/vnd.jupyter.widget-view+json": {
       "model_id": "0eb1f45c599649daa610c5ed86290ec5",
       "version_major": 2,
       "version_minor": 0
      },
      "text/plain": [
       "0it [00:00, ?it/s]"
      ]
     },
     "metadata": {},
     "output_type": "display_data"
    },
    {
     "name": "stdout",
     "output_type": "stream",
     "text": [
      "Make prediction for 8697 samples...\n",
      "Make prediction for 1594 samples...\n",
      "Make prediction for 2126 samples...\n",
      "Make prediction for 3846 samples...\n",
      "Make prediction for 771 samples...\n",
      "Make prediction for 300 samples...\n",
      "Make prediction for 60 samples...\n",
      "Training on 18037 samples...\n",
      "Training on 18037 samples...\n"
     ]
    },
    {
     "data": {
      "application/vnd.jupyter.widget-view+json": {
       "model_id": "4e48cde1f57d4acc8b436f3094045d30",
       "version_major": 2,
       "version_minor": 0
      },
      "text/plain": [
       "0it [00:00, ?it/s]"
      ]
     },
     "metadata": {},
     "output_type": "display_data"
    },
    {
     "name": "stdout",
     "output_type": "stream",
     "text": [
      "Make prediction for 8697 samples...\n",
      "Make prediction for 1594 samples...\n",
      "Make prediction for 2126 samples...\n",
      "Make prediction for 3846 samples...\n",
      "Make prediction for 771 samples...\n",
      "Make prediction for 300 samples...\n",
      "Make prediction for 60 samples...\n",
      "Training on 18037 samples...\n",
      "Training on 18037 samples...\n"
     ]
    },
    {
     "data": {
      "application/vnd.jupyter.widget-view+json": {
       "model_id": "d7370e86d51d4a18a64ce3978dff5f46",
       "version_major": 2,
       "version_minor": 0
      },
      "text/plain": [
       "0it [00:00, ?it/s]"
      ]
     },
     "metadata": {},
     "output_type": "display_data"
    },
    {
     "name": "stdout",
     "output_type": "stream",
     "text": [
      "Make prediction for 8697 samples...\n",
      "Make prediction for 1594 samples...\n",
      "Make prediction for 2126 samples...\n",
      "Make prediction for 3846 samples...\n",
      "Make prediction for 771 samples...\n",
      "Make prediction for 300 samples...\n",
      "Make prediction for 60 samples...\n",
      "Training on 18037 samples...\n",
      "Training on 18037 samples...\n"
     ]
    },
    {
     "data": {
      "application/vnd.jupyter.widget-view+json": {
       "model_id": "d9778afcf768429893d8bd75ee760c98",
       "version_major": 2,
       "version_minor": 0
      },
      "text/plain": [
       "0it [00:00, ?it/s]"
      ]
     },
     "metadata": {},
     "output_type": "display_data"
    },
    {
     "name": "stdout",
     "output_type": "stream",
     "text": [
      "Make prediction for 8697 samples...\n",
      "Make prediction for 1594 samples...\n",
      "Make prediction for 2126 samples...\n",
      "Make prediction for 3846 samples...\n",
      "Make prediction for 771 samples...\n",
      "Make prediction for 300 samples...\n",
      "Make prediction for 60 samples...\n",
      "Make prediction for 8708 samples...\n",
      "RMSE all test improved\n",
      "Make prediction for 3858 samples...\n",
      "RMSE blind 1 drug improved\n",
      "Training on 18037 samples...\n",
      "Training on 18037 samples...\n"
     ]
    },
    {
     "data": {
      "application/vnd.jupyter.widget-view+json": {
       "model_id": "3d960e77065340ed9ad9ae996b39135f",
       "version_major": 2,
       "version_minor": 0
      },
      "text/plain": [
       "0it [00:00, ?it/s]"
      ]
     },
     "metadata": {},
     "output_type": "display_data"
    },
    {
     "name": "stdout",
     "output_type": "stream",
     "text": [
      "Make prediction for 8697 samples...\n",
      "Make prediction for 1594 samples...\n",
      "Make prediction for 2126 samples...\n",
      "Make prediction for 3846 samples...\n",
      "Make prediction for 771 samples...\n",
      "Make prediction for 300 samples...\n",
      "Make prediction for 60 samples...\n",
      "Training on 18037 samples...\n",
      "Training on 18037 samples...\n"
     ]
    },
    {
     "data": {
      "application/vnd.jupyter.widget-view+json": {
       "model_id": "7b291233bbb04fa7b486ae6d81e15437",
       "version_major": 2,
       "version_minor": 0
      },
      "text/plain": [
       "0it [00:00, ?it/s]"
      ]
     },
     "metadata": {},
     "output_type": "display_data"
    },
    {
     "name": "stdout",
     "output_type": "stream",
     "text": [
      "Make prediction for 8697 samples...\n",
      "Make prediction for 1594 samples...\n",
      "Make prediction for 2126 samples...\n",
      "Make prediction for 3846 samples...\n",
      "Make prediction for 771 samples...\n",
      "Make prediction for 300 samples...\n",
      "Make prediction for 60 samples...\n",
      "Make prediction for 1593 samples...\n",
      "RMSE mix test improved\n",
      "Training on 18037 samples...\n",
      "Training on 18037 samples...\n"
     ]
    },
    {
     "data": {
      "application/vnd.jupyter.widget-view+json": {
       "model_id": "d811991d61934e4aabd1d0ae09226e49",
       "version_major": 2,
       "version_minor": 0
      },
      "text/plain": [
       "0it [00:00, ?it/s]"
      ]
     },
     "metadata": {},
     "output_type": "display_data"
    },
    {
     "name": "stdout",
     "output_type": "stream",
     "text": [
      "Make prediction for 8697 samples...\n",
      "Make prediction for 1594 samples...\n",
      "Make prediction for 2126 samples...\n",
      "Make prediction for 3846 samples...\n",
      "Make prediction for 771 samples...\n",
      "Make prediction for 300 samples...\n",
      "Make prediction for 60 samples...\n",
      "Training on 18037 samples...\n",
      "Training on 18037 samples...\n"
     ]
    },
    {
     "data": {
      "application/vnd.jupyter.widget-view+json": {
       "model_id": "b3846fce9ae54d0fb747a0d1b86bd045",
       "version_major": 2,
       "version_minor": 0
      },
      "text/plain": [
       "0it [00:00, ?it/s]"
      ]
     },
     "metadata": {},
     "output_type": "display_data"
    },
    {
     "name": "stdout",
     "output_type": "stream",
     "text": [
      "Make prediction for 8697 samples...\n",
      "Make prediction for 1594 samples...\n",
      "Make prediction for 2126 samples...\n",
      "Make prediction for 3846 samples...\n",
      "Make prediction for 771 samples...\n",
      "Make prediction for 300 samples...\n",
      "Make prediction for 60 samples...\n",
      "Make prediction for 1593 samples...\n",
      "RMSE mix test improved\n",
      "Training on 18037 samples...\n",
      "Training on 18037 samples...\n"
     ]
    },
    {
     "data": {
      "application/vnd.jupyter.widget-view+json": {
       "model_id": "0905bcbe818f4de9803c97a473b12bcd",
       "version_major": 2,
       "version_minor": 0
      },
      "text/plain": [
       "0it [00:00, ?it/s]"
      ]
     },
     "metadata": {},
     "output_type": "display_data"
    },
    {
     "name": "stdout",
     "output_type": "stream",
     "text": [
      "Make prediction for 8697 samples...\n",
      "Make prediction for 1594 samples...\n",
      "Make prediction for 2126 samples...\n",
      "Make prediction for 3846 samples...\n",
      "Make prediction for 771 samples...\n",
      "Make prediction for 300 samples...\n",
      "Make prediction for 60 samples...\n",
      "Make prediction for 1593 samples...\n",
      "RMSE mix test improved\n",
      "Training on 18037 samples...\n",
      "Training on 18037 samples...\n"
     ]
    },
    {
     "data": {
      "application/vnd.jupyter.widget-view+json": {
       "model_id": "eb5caf973aa24db0ad2e34308a3cd966",
       "version_major": 2,
       "version_minor": 0
      },
      "text/plain": [
       "0it [00:00, ?it/s]"
      ]
     },
     "metadata": {},
     "output_type": "display_data"
    },
    {
     "name": "stdout",
     "output_type": "stream",
     "text": [
      "Make prediction for 8697 samples...\n",
      "Make prediction for 1594 samples...\n",
      "Make prediction for 2126 samples...\n",
      "Make prediction for 3846 samples...\n",
      "Make prediction for 771 samples...\n",
      "Make prediction for 300 samples...\n",
      "Make prediction for 60 samples...\n",
      "Training on 18037 samples...\n",
      "Training on 18037 samples...\n"
     ]
    },
    {
     "data": {
      "application/vnd.jupyter.widget-view+json": {
       "model_id": "8b32a4ea6e854b66917b338d798aa918",
       "version_major": 2,
       "version_minor": 0
      },
      "text/plain": [
       "0it [00:00, ?it/s]"
      ]
     },
     "metadata": {},
     "output_type": "display_data"
    },
    {
     "name": "stdout",
     "output_type": "stream",
     "text": [
      "Make prediction for 8697 samples...\n",
      "Make prediction for 1594 samples...\n",
      "Make prediction for 2126 samples...\n",
      "Make prediction for 3846 samples...\n",
      "Make prediction for 771 samples...\n",
      "Make prediction for 300 samples...\n",
      "Make prediction for 60 samples...\n",
      "Training on 18037 samples...\n",
      "Training on 18037 samples...\n"
     ]
    },
    {
     "data": {
      "application/vnd.jupyter.widget-view+json": {
       "model_id": "f4fbafb2f48d44ae81282d96c9b28063",
       "version_major": 2,
       "version_minor": 0
      },
      "text/plain": [
       "0it [00:00, ?it/s]"
      ]
     },
     "metadata": {},
     "output_type": "display_data"
    },
    {
     "name": "stdout",
     "output_type": "stream",
     "text": [
      "Make prediction for 8697 samples...\n",
      "Make prediction for 1594 samples...\n",
      "Make prediction for 2126 samples...\n",
      "Make prediction for 3846 samples...\n",
      "Make prediction for 771 samples...\n",
      "Make prediction for 300 samples...\n",
      "Make prediction for 60 samples...\n",
      "Training on 18037 samples...\n",
      "Training on 18037 samples...\n"
     ]
    },
    {
     "data": {
      "application/vnd.jupyter.widget-view+json": {
       "model_id": "9a3c848a6a5947a1a59d2fde844b1eac",
       "version_major": 2,
       "version_minor": 0
      },
      "text/plain": [
       "0it [00:00, ?it/s]"
      ]
     },
     "metadata": {},
     "output_type": "display_data"
    },
    {
     "name": "stdout",
     "output_type": "stream",
     "text": [
      "Make prediction for 8697 samples...\n",
      "Make prediction for 1594 samples...\n",
      "Make prediction for 2126 samples...\n",
      "Make prediction for 3846 samples...\n",
      "Make prediction for 771 samples...\n",
      "Make prediction for 300 samples...\n",
      "Make prediction for 60 samples...\n",
      "Training on 18037 samples...\n",
      "Training on 18037 samples...\n"
     ]
    },
    {
     "data": {
      "application/vnd.jupyter.widget-view+json": {
       "model_id": "f302b4368fe5403195126c68a43d0cb5",
       "version_major": 2,
       "version_minor": 0
      },
      "text/plain": [
       "0it [00:00, ?it/s]"
      ]
     },
     "metadata": {},
     "output_type": "display_data"
    },
    {
     "name": "stdout",
     "output_type": "stream",
     "text": [
      "Make prediction for 8697 samples...\n",
      "Make prediction for 1594 samples...\n",
      "Make prediction for 2126 samples...\n",
      "Make prediction for 3846 samples...\n",
      "Make prediction for 771 samples...\n",
      "Make prediction for 300 samples...\n",
      "Make prediction for 60 samples...\n",
      "Training on 18037 samples...\n",
      "Training on 18037 samples...\n"
     ]
    },
    {
     "data": {
      "application/vnd.jupyter.widget-view+json": {
       "model_id": "b4b4bc411098482488942ca555e0fae1",
       "version_major": 2,
       "version_minor": 0
      },
      "text/plain": [
       "0it [00:00, ?it/s]"
      ]
     },
     "metadata": {},
     "output_type": "display_data"
    },
    {
     "name": "stdout",
     "output_type": "stream",
     "text": [
      "Make prediction for 8697 samples...\n",
      "Make prediction for 1594 samples...\n",
      "Make prediction for 2126 samples...\n",
      "Make prediction for 3846 samples...\n",
      "Make prediction for 771 samples...\n",
      "Make prediction for 300 samples...\n",
      "Make prediction for 60 samples...\n",
      "Training on 18037 samples...\n",
      "Training on 18037 samples...\n"
     ]
    },
    {
     "data": {
      "application/vnd.jupyter.widget-view+json": {
       "model_id": "619db0e480dc433da8193cf48f24e311",
       "version_major": 2,
       "version_minor": 0
      },
      "text/plain": [
       "0it [00:00, ?it/s]"
      ]
     },
     "metadata": {},
     "output_type": "display_data"
    },
    {
     "name": "stdout",
     "output_type": "stream",
     "text": [
      "Make prediction for 8697 samples...\n",
      "Make prediction for 1594 samples...\n",
      "Make prediction for 2126 samples...\n",
      "Make prediction for 3846 samples...\n",
      "Make prediction for 771 samples...\n",
      "Make prediction for 300 samples...\n",
      "Make prediction for 60 samples...\n",
      "Training on 18037 samples...\n",
      "Training on 18037 samples...\n"
     ]
    },
    {
     "data": {
      "application/vnd.jupyter.widget-view+json": {
       "model_id": "0766ffe39c4940bf97d3d0b7c706b2fd",
       "version_major": 2,
       "version_minor": 0
      },
      "text/plain": [
       "0it [00:00, ?it/s]"
      ]
     },
     "metadata": {},
     "output_type": "display_data"
    },
    {
     "name": "stdout",
     "output_type": "stream",
     "text": [
      "Make prediction for 8697 samples...\n",
      "Make prediction for 1594 samples...\n",
      "Make prediction for 2126 samples...\n",
      "Make prediction for 3846 samples...\n",
      "Make prediction for 771 samples...\n",
      "Make prediction for 300 samples...\n",
      "Make prediction for 60 samples...\n",
      "Training on 18037 samples...\n",
      "Training on 18037 samples...\n"
     ]
    },
    {
     "data": {
      "application/vnd.jupyter.widget-view+json": {
       "model_id": "0fd076910b3342b7808a8b04e84c98de",
       "version_major": 2,
       "version_minor": 0
      },
      "text/plain": [
       "0it [00:00, ?it/s]"
      ]
     },
     "metadata": {},
     "output_type": "display_data"
    },
    {
     "name": "stdout",
     "output_type": "stream",
     "text": [
      "Make prediction for 8697 samples...\n",
      "Make prediction for 1594 samples...\n",
      "Make prediction for 2126 samples...\n",
      "Make prediction for 3846 samples...\n",
      "Make prediction for 771 samples...\n",
      "Make prediction for 300 samples...\n",
      "Make prediction for 60 samples...\n",
      "Training on 18037 samples...\n",
      "Training on 18037 samples...\n"
     ]
    },
    {
     "data": {
      "application/vnd.jupyter.widget-view+json": {
       "model_id": "36d7df677bd34f9e8e797361762a3e34",
       "version_major": 2,
       "version_minor": 0
      },
      "text/plain": [
       "0it [00:00, ?it/s]"
      ]
     },
     "metadata": {},
     "output_type": "display_data"
    },
    {
     "name": "stdout",
     "output_type": "stream",
     "text": [
      "Make prediction for 8697 samples...\n",
      "Make prediction for 1594 samples...\n",
      "Make prediction for 2126 samples...\n",
      "Make prediction for 3846 samples...\n",
      "Make prediction for 771 samples...\n",
      "Make prediction for 300 samples...\n",
      "Make prediction for 60 samples...\n",
      "Make prediction for 1593 samples...\n",
      "RMSE mix test improved\n",
      "Training on 18037 samples...\n",
      "Training on 18037 samples...\n"
     ]
    },
    {
     "data": {
      "application/vnd.jupyter.widget-view+json": {
       "model_id": "b609c81cb4a54b21aabb772caf655bb4",
       "version_major": 2,
       "version_minor": 0
      },
      "text/plain": [
       "0it [00:00, ?it/s]"
      ]
     },
     "metadata": {},
     "output_type": "display_data"
    },
    {
     "name": "stdout",
     "output_type": "stream",
     "text": [
      "Make prediction for 8697 samples...\n",
      "Make prediction for 1594 samples...\n",
      "Make prediction for 2126 samples...\n",
      "Make prediction for 3846 samples...\n",
      "Make prediction for 771 samples...\n",
      "Make prediction for 300 samples...\n",
      "Make prediction for 60 samples...\n",
      "Training on 18037 samples...\n",
      "Training on 18037 samples...\n"
     ]
    },
    {
     "data": {
      "application/vnd.jupyter.widget-view+json": {
       "model_id": "6b8f49bdc8bb4b3f89cfa5fe5ba37534",
       "version_major": 2,
       "version_minor": 0
      },
      "text/plain": [
       "0it [00:00, ?it/s]"
      ]
     },
     "metadata": {},
     "output_type": "display_data"
    },
    {
     "name": "stdout",
     "output_type": "stream",
     "text": [
      "Make prediction for 8697 samples...\n",
      "Make prediction for 1594 samples...\n",
      "Make prediction for 2126 samples...\n",
      "Make prediction for 3846 samples...\n",
      "Make prediction for 771 samples...\n",
      "Make prediction for 300 samples...\n",
      "Make prediction for 60 samples...\n",
      "Make prediction for 1593 samples...\n",
      "RMSE mix test improved\n",
      "Training on 18037 samples...\n",
      "Training on 18037 samples...\n"
     ]
    },
    {
     "data": {
      "application/vnd.jupyter.widget-view+json": {
       "model_id": "f617b901f83841dfae9ab9df71248958",
       "version_major": 2,
       "version_minor": 0
      },
      "text/plain": [
       "0it [00:00, ?it/s]"
      ]
     },
     "metadata": {},
     "output_type": "display_data"
    },
    {
     "name": "stdout",
     "output_type": "stream",
     "text": [
      "Make prediction for 8697 samples...\n",
      "Make prediction for 1594 samples...\n",
      "Make prediction for 2126 samples...\n",
      "Make prediction for 3846 samples...\n",
      "Make prediction for 771 samples...\n",
      "Make prediction for 300 samples...\n",
      "Make prediction for 60 samples...\n",
      "Training on 18037 samples...\n",
      "Training on 18037 samples...\n"
     ]
    },
    {
     "data": {
      "application/vnd.jupyter.widget-view+json": {
       "model_id": "26681972fe87468ead698d3e65ba0a87",
       "version_major": 2,
       "version_minor": 0
      },
      "text/plain": [
       "0it [00:00, ?it/s]"
      ]
     },
     "metadata": {},
     "output_type": "display_data"
    },
    {
     "name": "stdout",
     "output_type": "stream",
     "text": [
      "Make prediction for 8697 samples...\n",
      "Make prediction for 1594 samples...\n",
      "Make prediction for 2126 samples...\n",
      "Make prediction for 3846 samples...\n",
      "Make prediction for 771 samples...\n",
      "Make prediction for 300 samples...\n",
      "Make prediction for 60 samples...\n",
      "Training on 18037 samples...\n",
      "Training on 18037 samples...\n"
     ]
    },
    {
     "data": {
      "application/vnd.jupyter.widget-view+json": {
       "model_id": "e8ec755695e94222adddee2f426b2abe",
       "version_major": 2,
       "version_minor": 0
      },
      "text/plain": [
       "0it [00:00, ?it/s]"
      ]
     },
     "metadata": {},
     "output_type": "display_data"
    },
    {
     "name": "stdout",
     "output_type": "stream",
     "text": [
      "Make prediction for 8697 samples...\n",
      "Make prediction for 1594 samples...\n",
      "Make prediction for 2126 samples...\n",
      "Make prediction for 3846 samples...\n",
      "Make prediction for 771 samples...\n",
      "Make prediction for 300 samples...\n",
      "Make prediction for 60 samples...\n",
      "Make prediction for 8708 samples...\n",
      "RMSE all test improved\n",
      "Training on 18037 samples...\n",
      "Training on 18037 samples...\n"
     ]
    },
    {
     "data": {
      "application/vnd.jupyter.widget-view+json": {
       "model_id": "435a83d3bba34c80ad842133fecc61b9",
       "version_major": 2,
       "version_minor": 0
      },
      "text/plain": [
       "0it [00:00, ?it/s]"
      ]
     },
     "metadata": {},
     "output_type": "display_data"
    },
    {
     "name": "stdout",
     "output_type": "stream",
     "text": [
      "Make prediction for 8697 samples...\n",
      "Make prediction for 1594 samples...\n",
      "Make prediction for 2126 samples...\n",
      "Make prediction for 3846 samples...\n",
      "Make prediction for 771 samples...\n",
      "Make prediction for 300 samples...\n",
      "Make prediction for 60 samples...\n",
      "Training on 18037 samples...\n",
      "Training on 18037 samples...\n"
     ]
    },
    {
     "data": {
      "application/vnd.jupyter.widget-view+json": {
       "model_id": "7f74c3cc685546cea3dbd5af376d3b60",
       "version_major": 2,
       "version_minor": 0
      },
      "text/plain": [
       "0it [00:00, ?it/s]"
      ]
     },
     "metadata": {},
     "output_type": "display_data"
    },
    {
     "name": "stdout",
     "output_type": "stream",
     "text": [
      "Make prediction for 8697 samples...\n",
      "Make prediction for 1594 samples...\n",
      "Make prediction for 2126 samples...\n",
      "Make prediction for 3846 samples...\n",
      "Make prediction for 771 samples...\n",
      "Make prediction for 300 samples...\n",
      "Make prediction for 60 samples...\n",
      "Make prediction for 1593 samples...\n",
      "RMSE mix test improved\n",
      "Training on 18037 samples...\n",
      "Training on 18037 samples...\n"
     ]
    },
    {
     "data": {
      "application/vnd.jupyter.widget-view+json": {
       "model_id": "ddc96af99a444c69b56b4903ba581be1",
       "version_major": 2,
       "version_minor": 0
      },
      "text/plain": [
       "0it [00:00, ?it/s]"
      ]
     },
     "metadata": {},
     "output_type": "display_data"
    },
    {
     "name": "stdout",
     "output_type": "stream",
     "text": [
      "Make prediction for 8697 samples...\n",
      "Make prediction for 1594 samples...\n",
      "Make prediction for 2126 samples...\n",
      "Make prediction for 3846 samples...\n",
      "Make prediction for 771 samples...\n",
      "Make prediction for 300 samples...\n",
      "Make prediction for 60 samples...\n",
      "Make prediction for 1593 samples...\n",
      "RMSE mix test improved\n",
      "Training on 18037 samples...\n",
      "Training on 18037 samples...\n"
     ]
    },
    {
     "data": {
      "application/vnd.jupyter.widget-view+json": {
       "model_id": "94c5cd0ef2454d3f96b3bcec470769ce",
       "version_major": 2,
       "version_minor": 0
      },
      "text/plain": [
       "0it [00:00, ?it/s]"
      ]
     },
     "metadata": {},
     "output_type": "display_data"
    },
    {
     "name": "stdout",
     "output_type": "stream",
     "text": [
      "Make prediction for 8697 samples...\n",
      "Make prediction for 1594 samples...\n",
      "Make prediction for 2126 samples...\n",
      "Make prediction for 3846 samples...\n",
      "Make prediction for 771 samples...\n",
      "Make prediction for 300 samples...\n",
      "Make prediction for 60 samples...\n",
      "Make prediction for 8708 samples...\n",
      "RMSE all test improved\n",
      "Make prediction for 1593 samples...\n",
      "RMSE mix test improved\n",
      "Make prediction for 3858 samples...\n",
      "RMSE blind 1 drug improved\n",
      "Training on 18037 samples...\n",
      "Training on 18037 samples...\n"
     ]
    },
    {
     "data": {
      "application/vnd.jupyter.widget-view+json": {
       "model_id": "db5e5d4eaf9c4c88b73c201ea8ac68b9",
       "version_major": 2,
       "version_minor": 0
      },
      "text/plain": [
       "0it [00:00, ?it/s]"
      ]
     },
     "metadata": {},
     "output_type": "display_data"
    },
    {
     "name": "stdout",
     "output_type": "stream",
     "text": [
      "Make prediction for 8697 samples...\n",
      "Make prediction for 1594 samples...\n",
      "Make prediction for 2126 samples...\n",
      "Make prediction for 3846 samples...\n",
      "Make prediction for 771 samples...\n",
      "Make prediction for 300 samples...\n",
      "Make prediction for 60 samples...\n",
      "Make prediction for 1593 samples...\n",
      "RMSE mix test improved\n",
      "Training on 18037 samples...\n",
      "Training on 18037 samples...\n"
     ]
    },
    {
     "data": {
      "application/vnd.jupyter.widget-view+json": {
       "model_id": "64bc452ee5e245a386a0c1e3ea1cac1a",
       "version_major": 2,
       "version_minor": 0
      },
      "text/plain": [
       "0it [00:00, ?it/s]"
      ]
     },
     "metadata": {},
     "output_type": "display_data"
    },
    {
     "name": "stdout",
     "output_type": "stream",
     "text": [
      "Make prediction for 8697 samples...\n",
      "Make prediction for 1594 samples...\n",
      "Make prediction for 2126 samples...\n",
      "Make prediction for 3846 samples...\n",
      "Make prediction for 771 samples...\n",
      "Make prediction for 300 samples...\n",
      "Make prediction for 60 samples...\n",
      "Training on 18037 samples...\n",
      "Training on 18037 samples...\n"
     ]
    },
    {
     "data": {
      "application/vnd.jupyter.widget-view+json": {
       "model_id": "82e299f05a424840b5b168d0fa130c16",
       "version_major": 2,
       "version_minor": 0
      },
      "text/plain": [
       "0it [00:00, ?it/s]"
      ]
     },
     "metadata": {},
     "output_type": "display_data"
    },
    {
     "name": "stdout",
     "output_type": "stream",
     "text": [
      "Make prediction for 8697 samples...\n",
      "Make prediction for 1594 samples...\n",
      "Make prediction for 2126 samples...\n",
      "Make prediction for 3846 samples...\n",
      "Make prediction for 771 samples...\n",
      "Make prediction for 300 samples...\n",
      "Make prediction for 60 samples...\n",
      "Training on 18037 samples...\n",
      "Training on 18037 samples...\n"
     ]
    },
    {
     "data": {
      "application/vnd.jupyter.widget-view+json": {
       "model_id": "6b7efce42b4748ed94a54a53be296858",
       "version_major": 2,
       "version_minor": 0
      },
      "text/plain": [
       "0it [00:00, ?it/s]"
      ]
     },
     "metadata": {},
     "output_type": "display_data"
    },
    {
     "name": "stdout",
     "output_type": "stream",
     "text": [
      "Make prediction for 8697 samples...\n",
      "Make prediction for 1594 samples...\n",
      "Make prediction for 2126 samples...\n",
      "Make prediction for 3846 samples...\n",
      "Make prediction for 771 samples...\n",
      "Make prediction for 300 samples...\n",
      "Make prediction for 60 samples...\n",
      "Training on 18037 samples...\n",
      "Training on 18037 samples...\n"
     ]
    },
    {
     "data": {
      "application/vnd.jupyter.widget-view+json": {
       "model_id": "6961d3627bf34c6b82f7b10793864815",
       "version_major": 2,
       "version_minor": 0
      },
      "text/plain": [
       "0it [00:00, ?it/s]"
      ]
     },
     "metadata": {},
     "output_type": "display_data"
    },
    {
     "name": "stdout",
     "output_type": "stream",
     "text": [
      "Make prediction for 8697 samples...\n",
      "Make prediction for 1594 samples...\n",
      "Make prediction for 2126 samples...\n",
      "Make prediction for 3846 samples...\n",
      "Make prediction for 771 samples...\n",
      "Make prediction for 300 samples...\n",
      "Make prediction for 60 samples...\n",
      "Training on 18037 samples...\n",
      "Training on 18037 samples...\n"
     ]
    },
    {
     "data": {
      "application/vnd.jupyter.widget-view+json": {
       "model_id": "1bf5fbe73b664d66ac27aa0806ebede9",
       "version_major": 2,
       "version_minor": 0
      },
      "text/plain": [
       "0it [00:00, ?it/s]"
      ]
     },
     "metadata": {},
     "output_type": "display_data"
    },
    {
     "name": "stdout",
     "output_type": "stream",
     "text": [
      "Make prediction for 8697 samples...\n",
      "Make prediction for 1594 samples...\n",
      "Make prediction for 2126 samples...\n",
      "Make prediction for 3846 samples...\n",
      "Make prediction for 771 samples...\n",
      "Make prediction for 300 samples...\n",
      "Make prediction for 60 samples...\n",
      "Training on 18037 samples...\n",
      "Training on 18037 samples...\n"
     ]
    },
    {
     "data": {
      "application/vnd.jupyter.widget-view+json": {
       "model_id": "65570a3c96fd4af887946202560ecf5f",
       "version_major": 2,
       "version_minor": 0
      },
      "text/plain": [
       "0it [00:00, ?it/s]"
      ]
     },
     "metadata": {},
     "output_type": "display_data"
    },
    {
     "name": "stdout",
     "output_type": "stream",
     "text": [
      "Make prediction for 8697 samples...\n",
      "Make prediction for 1594 samples...\n",
      "Make prediction for 2126 samples...\n",
      "Make prediction for 3846 samples...\n",
      "Make prediction for 771 samples...\n",
      "Make prediction for 300 samples...\n",
      "Make prediction for 60 samples...\n",
      "Make prediction for 1593 samples...\n",
      "RMSE mix test improved\n",
      "Training on 18037 samples...\n",
      "Training on 18037 samples...\n"
     ]
    },
    {
     "data": {
      "application/vnd.jupyter.widget-view+json": {
       "model_id": "56dfa591e0894d63a58e82532f360a4c",
       "version_major": 2,
       "version_minor": 0
      },
      "text/plain": [
       "0it [00:00, ?it/s]"
      ]
     },
     "metadata": {},
     "output_type": "display_data"
    },
    {
     "name": "stdout",
     "output_type": "stream",
     "text": [
      "Make prediction for 8697 samples...\n",
      "Make prediction for 1594 samples...\n",
      "Make prediction for 2126 samples...\n",
      "Make prediction for 3846 samples...\n",
      "Make prediction for 771 samples...\n",
      "Make prediction for 300 samples...\n",
      "Make prediction for 60 samples...\n",
      "Training on 18037 samples...\n",
      "Training on 18037 samples...\n"
     ]
    },
    {
     "data": {
      "application/vnd.jupyter.widget-view+json": {
       "model_id": "1b2170d4fca24a1b9c4780564629baae",
       "version_major": 2,
       "version_minor": 0
      },
      "text/plain": [
       "0it [00:00, ?it/s]"
      ]
     },
     "metadata": {},
     "output_type": "display_data"
    },
    {
     "name": "stdout",
     "output_type": "stream",
     "text": [
      "Make prediction for 8697 samples...\n",
      "Make prediction for 1594 samples...\n",
      "Make prediction for 2126 samples...\n",
      "Make prediction for 3846 samples...\n",
      "Make prediction for 771 samples...\n",
      "Make prediction for 300 samples...\n",
      "Make prediction for 60 samples...\n",
      "Training on 18037 samples...\n",
      "Training on 18037 samples...\n"
     ]
    },
    {
     "data": {
      "application/vnd.jupyter.widget-view+json": {
       "model_id": "acf0e37a7c9643d3b4d287b4b31485b5",
       "version_major": 2,
       "version_minor": 0
      },
      "text/plain": [
       "0it [00:00, ?it/s]"
      ]
     },
     "metadata": {},
     "output_type": "display_data"
    },
    {
     "name": "stdout",
     "output_type": "stream",
     "text": [
      "Make prediction for 8697 samples...\n",
      "Make prediction for 1594 samples...\n",
      "Make prediction for 2126 samples...\n",
      "Make prediction for 3846 samples...\n",
      "Make prediction for 771 samples...\n",
      "Make prediction for 300 samples...\n",
      "Make prediction for 60 samples...\n",
      "Make prediction for 8708 samples...\n",
      "RMSE all test improved\n",
      "Make prediction for 3858 samples...\n",
      "RMSE blind 1 drug improved\n",
      "Training on 18037 samples...\n",
      "Training on 18037 samples...\n"
     ]
    },
    {
     "data": {
      "application/vnd.jupyter.widget-view+json": {
       "model_id": "eb38ca54bc6941fbba6900ce7e9470f0",
       "version_major": 2,
       "version_minor": 0
      },
      "text/plain": [
       "0it [00:00, ?it/s]"
      ]
     },
     "metadata": {},
     "output_type": "display_data"
    },
    {
     "name": "stdout",
     "output_type": "stream",
     "text": [
      "Make prediction for 8697 samples...\n",
      "Make prediction for 1594 samples...\n",
      "Make prediction for 2126 samples...\n",
      "Make prediction for 3846 samples...\n",
      "Make prediction for 771 samples...\n",
      "Make prediction for 300 samples...\n",
      "Make prediction for 60 samples...\n",
      "Training on 18037 samples...\n",
      "Training on 18037 samples...\n"
     ]
    },
    {
     "data": {
      "application/vnd.jupyter.widget-view+json": {
       "model_id": "70dc1b81d6df4574a49956de2d329d40",
       "version_major": 2,
       "version_minor": 0
      },
      "text/plain": [
       "0it [00:00, ?it/s]"
      ]
     },
     "metadata": {},
     "output_type": "display_data"
    },
    {
     "name": "stdout",
     "output_type": "stream",
     "text": [
      "Make prediction for 8697 samples...\n",
      "Make prediction for 1594 samples...\n",
      "Make prediction for 2126 samples...\n",
      "Make prediction for 3846 samples...\n",
      "Make prediction for 771 samples...\n",
      "Make prediction for 300 samples...\n",
      "Make prediction for 60 samples...\n",
      "Make prediction for 1593 samples...\n",
      "RMSE mix test improved\n",
      "Training on 18037 samples...\n",
      "Training on 18037 samples...\n"
     ]
    },
    {
     "data": {
      "application/vnd.jupyter.widget-view+json": {
       "model_id": "d8ca8589ea414901915f8f2c680c5a27",
       "version_major": 2,
       "version_minor": 0
      },
      "text/plain": [
       "0it [00:00, ?it/s]"
      ]
     },
     "metadata": {},
     "output_type": "display_data"
    },
    {
     "name": "stdout",
     "output_type": "stream",
     "text": [
      "Make prediction for 8697 samples...\n",
      "Make prediction for 1594 samples...\n",
      "Make prediction for 2126 samples...\n",
      "Make prediction for 3846 samples...\n",
      "Make prediction for 771 samples...\n",
      "Make prediction for 300 samples...\n",
      "Make prediction for 60 samples...\n",
      "Training on 18037 samples...\n",
      "Training on 18037 samples...\n"
     ]
    },
    {
     "data": {
      "application/vnd.jupyter.widget-view+json": {
       "model_id": "94da7a993a9e4e9ab9e720f218d7713b",
       "version_major": 2,
       "version_minor": 0
      },
      "text/plain": [
       "0it [00:00, ?it/s]"
      ]
     },
     "metadata": {},
     "output_type": "display_data"
    },
    {
     "name": "stdout",
     "output_type": "stream",
     "text": [
      "Make prediction for 8697 samples...\n",
      "Make prediction for 1594 samples...\n",
      "Make prediction for 2126 samples...\n",
      "Make prediction for 3846 samples...\n",
      "Make prediction for 771 samples...\n",
      "Make prediction for 300 samples...\n",
      "Make prediction for 60 samples...\n",
      "Training on 18037 samples...\n",
      "Training on 18037 samples...\n"
     ]
    },
    {
     "data": {
      "application/vnd.jupyter.widget-view+json": {
       "model_id": "98381738aee54c68aae2b8053aca66c5",
       "version_major": 2,
       "version_minor": 0
      },
      "text/plain": [
       "0it [00:00, ?it/s]"
      ]
     },
     "metadata": {},
     "output_type": "display_data"
    },
    {
     "name": "stdout",
     "output_type": "stream",
     "text": [
      "Make prediction for 8697 samples...\n",
      "Make prediction for 1594 samples...\n",
      "Make prediction for 2126 samples...\n",
      "Make prediction for 3846 samples...\n",
      "Make prediction for 771 samples...\n",
      "Make prediction for 300 samples...\n",
      "Make prediction for 60 samples...\n",
      "Make prediction for 1593 samples...\n",
      "RMSE mix test improved\n",
      "Training on 18037 samples...\n",
      "Training on 18037 samples...\n"
     ]
    },
    {
     "data": {
      "application/vnd.jupyter.widget-view+json": {
       "model_id": "bfe0c3a647b64e43b546c2c6ac27f0e0",
       "version_major": 2,
       "version_minor": 0
      },
      "text/plain": [
       "0it [00:00, ?it/s]"
      ]
     },
     "metadata": {},
     "output_type": "display_data"
    },
    {
     "name": "stdout",
     "output_type": "stream",
     "text": [
      "Make prediction for 8697 samples...\n",
      "Make prediction for 1594 samples...\n",
      "Make prediction for 2126 samples...\n",
      "Make prediction for 3846 samples...\n",
      "Make prediction for 771 samples...\n",
      "Make prediction for 300 samples...\n",
      "Make prediction for 60 samples...\n",
      "Training on 18037 samples...\n",
      "Training on 18037 samples...\n"
     ]
    },
    {
     "data": {
      "application/vnd.jupyter.widget-view+json": {
       "model_id": "5de6076973c44d3ea562f04e90dbe420",
       "version_major": 2,
       "version_minor": 0
      },
      "text/plain": [
       "0it [00:00, ?it/s]"
      ]
     },
     "metadata": {},
     "output_type": "display_data"
    },
    {
     "name": "stdout",
     "output_type": "stream",
     "text": [
      "Make prediction for 8697 samples...\n",
      "Make prediction for 1594 samples...\n",
      "Make prediction for 2126 samples...\n",
      "Make prediction for 3846 samples...\n",
      "Make prediction for 771 samples...\n",
      "Make prediction for 300 samples...\n",
      "Make prediction for 60 samples...\n",
      "Training on 18037 samples...\n",
      "Training on 18037 samples...\n"
     ]
    },
    {
     "data": {
      "application/vnd.jupyter.widget-view+json": {
       "model_id": "955b033d20084684b71bdc2f5d178497",
       "version_major": 2,
       "version_minor": 0
      },
      "text/plain": [
       "0it [00:00, ?it/s]"
      ]
     },
     "metadata": {},
     "output_type": "display_data"
    },
    {
     "name": "stdout",
     "output_type": "stream",
     "text": [
      "Make prediction for 8697 samples...\n",
      "Make prediction for 1594 samples...\n",
      "Make prediction for 2126 samples...\n",
      "Make prediction for 3846 samples...\n",
      "Make prediction for 771 samples...\n",
      "Make prediction for 300 samples...\n",
      "Make prediction for 60 samples...\n",
      "Training on 18037 samples...\n",
      "Training on 18037 samples...\n"
     ]
    },
    {
     "data": {
      "application/vnd.jupyter.widget-view+json": {
       "model_id": "296db97f9b9345098b9447065edcafcb",
       "version_major": 2,
       "version_minor": 0
      },
      "text/plain": [
       "0it [00:00, ?it/s]"
      ]
     },
     "metadata": {},
     "output_type": "display_data"
    },
    {
     "name": "stdout",
     "output_type": "stream",
     "text": [
      "Make prediction for 8697 samples...\n",
      "Make prediction for 1594 samples...\n",
      "Make prediction for 2126 samples...\n",
      "Make prediction for 3846 samples...\n",
      "Make prediction for 771 samples...\n",
      "Make prediction for 300 samples...\n",
      "Make prediction for 60 samples...\n",
      "Make prediction for 1593 samples...\n",
      "RMSE mix test improved\n",
      "Training on 18037 samples...\n",
      "Training on 18037 samples...\n"
     ]
    },
    {
     "data": {
      "application/vnd.jupyter.widget-view+json": {
       "model_id": "78fe3042db804ae98007de7d836fd86c",
       "version_major": 2,
       "version_minor": 0
      },
      "text/plain": [
       "0it [00:00, ?it/s]"
      ]
     },
     "metadata": {},
     "output_type": "display_data"
    },
    {
     "name": "stdout",
     "output_type": "stream",
     "text": [
      "Make prediction for 8697 samples...\n",
      "Make prediction for 1594 samples...\n",
      "Make prediction for 2126 samples...\n",
      "Make prediction for 3846 samples...\n",
      "Make prediction for 771 samples...\n",
      "Make prediction for 300 samples...\n",
      "Make prediction for 60 samples...\n",
      "Training on 18037 samples...\n",
      "Training on 18037 samples...\n"
     ]
    },
    {
     "data": {
      "application/vnd.jupyter.widget-view+json": {
       "model_id": "4698330b9f1c40b38dbc9ea952f7a727",
       "version_major": 2,
       "version_minor": 0
      },
      "text/plain": [
       "0it [00:00, ?it/s]"
      ]
     },
     "metadata": {},
     "output_type": "display_data"
    },
    {
     "name": "stdout",
     "output_type": "stream",
     "text": [
      "Make prediction for 8697 samples...\n",
      "Make prediction for 1594 samples...\n",
      "Make prediction for 2126 samples...\n",
      "Make prediction for 3846 samples...\n",
      "Make prediction for 771 samples...\n",
      "Make prediction for 300 samples...\n",
      "Make prediction for 60 samples...\n",
      "Training on 18037 samples...\n",
      "Training on 18037 samples...\n"
     ]
    },
    {
     "data": {
      "application/vnd.jupyter.widget-view+json": {
       "model_id": "caeb46027dac4707a8e086a24ec6e430",
       "version_major": 2,
       "version_minor": 0
      },
      "text/plain": [
       "0it [00:00, ?it/s]"
      ]
     },
     "metadata": {},
     "output_type": "display_data"
    },
    {
     "name": "stdout",
     "output_type": "stream",
     "text": [
      "Make prediction for 8697 samples...\n",
      "Make prediction for 1594 samples...\n",
      "Make prediction for 2126 samples...\n",
      "Make prediction for 3846 samples...\n",
      "Make prediction for 771 samples...\n",
      "Make prediction for 300 samples...\n",
      "Make prediction for 60 samples...\n",
      "Make prediction for 8708 samples...\n",
      "RMSE all test improved\n",
      "Make prediction for 3858 samples...\n",
      "RMSE blind 1 drug improved\n",
      "Training on 18037 samples...\n",
      "Training on 18037 samples...\n"
     ]
    },
    {
     "data": {
      "application/vnd.jupyter.widget-view+json": {
       "model_id": "274b4fff1d9a43a5996a8c7bed51c93e",
       "version_major": 2,
       "version_minor": 0
      },
      "text/plain": [
       "0it [00:00, ?it/s]"
      ]
     },
     "metadata": {},
     "output_type": "display_data"
    },
    {
     "name": "stdout",
     "output_type": "stream",
     "text": [
      "Make prediction for 8697 samples...\n",
      "Make prediction for 1594 samples...\n",
      "Make prediction for 2126 samples...\n",
      "Make prediction for 3846 samples...\n",
      "Make prediction for 771 samples...\n",
      "Make prediction for 300 samples...\n",
      "Make prediction for 60 samples...\n",
      "Training on 18037 samples...\n",
      "Training on 18037 samples...\n"
     ]
    },
    {
     "data": {
      "application/vnd.jupyter.widget-view+json": {
       "model_id": "c926d818de054bd688e423e711fa7a00",
       "version_major": 2,
       "version_minor": 0
      },
      "text/plain": [
       "0it [00:00, ?it/s]"
      ]
     },
     "metadata": {},
     "output_type": "display_data"
    },
    {
     "name": "stdout",
     "output_type": "stream",
     "text": [
      "Make prediction for 8697 samples...\n",
      "Make prediction for 1594 samples...\n",
      "Make prediction for 2126 samples...\n",
      "Make prediction for 3846 samples...\n",
      "Make prediction for 771 samples...\n",
      "Make prediction for 300 samples...\n",
      "Make prediction for 60 samples...\n",
      "Training on 18037 samples...\n",
      "Training on 18037 samples...\n"
     ]
    },
    {
     "data": {
      "application/vnd.jupyter.widget-view+json": {
       "model_id": "65c8b584e8d84e08a26f48335df6e5e8",
       "version_major": 2,
       "version_minor": 0
      },
      "text/plain": [
       "0it [00:00, ?it/s]"
      ]
     },
     "metadata": {},
     "output_type": "display_data"
    },
    {
     "name": "stdout",
     "output_type": "stream",
     "text": [
      "Make prediction for 8697 samples...\n",
      "Make prediction for 1594 samples...\n",
      "Make prediction for 2126 samples...\n",
      "Make prediction for 3846 samples...\n",
      "Make prediction for 771 samples...\n",
      "Make prediction for 300 samples...\n",
      "Make prediction for 60 samples...\n",
      "Make prediction for 1593 samples...\n",
      "RMSE mix test improved\n",
      "Training on 18037 samples...\n",
      "Training on 18037 samples...\n"
     ]
    },
    {
     "data": {
      "application/vnd.jupyter.widget-view+json": {
       "model_id": "85e7a17ffdaa44eaa735a00c7ccee5b9",
       "version_major": 2,
       "version_minor": 0
      },
      "text/plain": [
       "0it [00:00, ?it/s]"
      ]
     },
     "metadata": {},
     "output_type": "display_data"
    },
    {
     "name": "stdout",
     "output_type": "stream",
     "text": [
      "Make prediction for 8697 samples...\n",
      "Make prediction for 1594 samples...\n",
      "Make prediction for 2126 samples...\n",
      "Make prediction for 3846 samples...\n",
      "Make prediction for 771 samples...\n",
      "Make prediction for 300 samples...\n",
      "Make prediction for 60 samples...\n",
      "Training on 18037 samples...\n",
      "Training on 18037 samples...\n"
     ]
    },
    {
     "data": {
      "application/vnd.jupyter.widget-view+json": {
       "model_id": "6e05e3b7ea6f42a99b78fb82ab6b9d9a",
       "version_major": 2,
       "version_minor": 0
      },
      "text/plain": [
       "0it [00:00, ?it/s]"
      ]
     },
     "metadata": {},
     "output_type": "display_data"
    },
    {
     "name": "stdout",
     "output_type": "stream",
     "text": [
      "Make prediction for 8697 samples...\n",
      "Make prediction for 1594 samples...\n",
      "Make prediction for 2126 samples...\n",
      "Make prediction for 3846 samples...\n",
      "Make prediction for 771 samples...\n",
      "Make prediction for 300 samples...\n",
      "Make prediction for 60 samples...\n",
      "Training on 18037 samples...\n",
      "Training on 18037 samples...\n"
     ]
    },
    {
     "data": {
      "application/vnd.jupyter.widget-view+json": {
       "model_id": "fc2491a55b514ed3859827ebd48356b8",
       "version_major": 2,
       "version_minor": 0
      },
      "text/plain": [
       "0it [00:00, ?it/s]"
      ]
     },
     "metadata": {},
     "output_type": "display_data"
    },
    {
     "name": "stdout",
     "output_type": "stream",
     "text": [
      "Make prediction for 8697 samples...\n",
      "Make prediction for 1594 samples...\n",
      "Make prediction for 2126 samples...\n",
      "Make prediction for 3846 samples...\n",
      "Make prediction for 771 samples...\n",
      "Make prediction for 300 samples...\n",
      "Make prediction for 60 samples...\n",
      "Make prediction for 1593 samples...\n",
      "RMSE mix test improved\n",
      "Training on 18037 samples...\n",
      "Training on 18037 samples...\n"
     ]
    },
    {
     "data": {
      "application/vnd.jupyter.widget-view+json": {
       "model_id": "ee0086bf4eaa4cf49f939737c85a44ed",
       "version_major": 2,
       "version_minor": 0
      },
      "text/plain": [
       "0it [00:00, ?it/s]"
      ]
     },
     "metadata": {},
     "output_type": "display_data"
    },
    {
     "name": "stdout",
     "output_type": "stream",
     "text": [
      "Make prediction for 8697 samples...\n",
      "Make prediction for 1594 samples...\n",
      "Make prediction for 2126 samples...\n",
      "Make prediction for 3846 samples...\n",
      "Make prediction for 771 samples...\n",
      "Make prediction for 300 samples...\n",
      "Make prediction for 60 samples...\n",
      "Make prediction for 1593 samples...\n",
      "RMSE mix test improved\n",
      "Training on 18037 samples...\n",
      "Training on 18037 samples...\n"
     ]
    },
    {
     "data": {
      "application/vnd.jupyter.widget-view+json": {
       "model_id": "9e66d89d05c54c08993045040dd2b076",
       "version_major": 2,
       "version_minor": 0
      },
      "text/plain": [
       "0it [00:00, ?it/s]"
      ]
     },
     "metadata": {},
     "output_type": "display_data"
    },
    {
     "name": "stdout",
     "output_type": "stream",
     "text": [
      "Make prediction for 8697 samples...\n",
      "Make prediction for 1594 samples...\n",
      "Make prediction for 2126 samples...\n",
      "Make prediction for 3846 samples...\n",
      "Make prediction for 771 samples...\n",
      "Make prediction for 300 samples...\n",
      "Make prediction for 60 samples...\n",
      "Training on 18037 samples...\n",
      "Training on 18037 samples...\n"
     ]
    },
    {
     "data": {
      "application/vnd.jupyter.widget-view+json": {
       "model_id": "7969b72941f1423a90320f2bd26427fe",
       "version_major": 2,
       "version_minor": 0
      },
      "text/plain": [
       "0it [00:00, ?it/s]"
      ]
     },
     "metadata": {},
     "output_type": "display_data"
    },
    {
     "name": "stdout",
     "output_type": "stream",
     "text": [
      "Make prediction for 8697 samples...\n",
      "Make prediction for 1594 samples...\n",
      "Make prediction for 2126 samples...\n",
      "Make prediction for 3846 samples...\n",
      "Make prediction for 771 samples...\n",
      "Make prediction for 300 samples...\n",
      "Make prediction for 60 samples...\n",
      "Make prediction for 8708 samples...\n",
      "RMSE all test improved\n",
      "Make prediction for 3858 samples...\n",
      "RMSE blind 1 drug improved\n",
      "Training on 18037 samples...\n",
      "Training on 18037 samples...\n"
     ]
    },
    {
     "data": {
      "application/vnd.jupyter.widget-view+json": {
       "model_id": "4e39367083334b24a9011487c250903e",
       "version_major": 2,
       "version_minor": 0
      },
      "text/plain": [
       "0it [00:00, ?it/s]"
      ]
     },
     "metadata": {},
     "output_type": "display_data"
    },
    {
     "name": "stdout",
     "output_type": "stream",
     "text": [
      "Make prediction for 8697 samples...\n",
      "Make prediction for 1594 samples...\n",
      "Make prediction for 2126 samples...\n",
      "Make prediction for 3846 samples...\n",
      "Make prediction for 771 samples...\n",
      "Make prediction for 300 samples...\n",
      "Make prediction for 60 samples...\n",
      "Training on 18037 samples...\n",
      "Training on 18037 samples...\n"
     ]
    },
    {
     "data": {
      "application/vnd.jupyter.widget-view+json": {
       "model_id": "e1afac8ae56d460da22e760c9f3dc70b",
       "version_major": 2,
       "version_minor": 0
      },
      "text/plain": [
       "0it [00:00, ?it/s]"
      ]
     },
     "metadata": {},
     "output_type": "display_data"
    },
    {
     "name": "stdout",
     "output_type": "stream",
     "text": [
      "Make prediction for 8697 samples...\n",
      "Make prediction for 1594 samples...\n",
      "Make prediction for 2126 samples...\n",
      "Make prediction for 3846 samples...\n",
      "Make prediction for 771 samples...\n",
      "Make prediction for 300 samples...\n",
      "Make prediction for 60 samples...\n",
      "Training on 18037 samples...\n",
      "Training on 18037 samples...\n"
     ]
    },
    {
     "data": {
      "application/vnd.jupyter.widget-view+json": {
       "model_id": "4fcde38bf9d3409db3b4565b6fa3ec0e",
       "version_major": 2,
       "version_minor": 0
      },
      "text/plain": [
       "0it [00:00, ?it/s]"
      ]
     },
     "metadata": {},
     "output_type": "display_data"
    },
    {
     "name": "stdout",
     "output_type": "stream",
     "text": [
      "Make prediction for 8697 samples...\n",
      "Make prediction for 1594 samples...\n",
      "Make prediction for 2126 samples...\n",
      "Make prediction for 3846 samples...\n",
      "Make prediction for 771 samples...\n",
      "Make prediction for 300 samples...\n",
      "Make prediction for 60 samples...\n",
      "Training on 18037 samples...\n",
      "Training on 18037 samples...\n"
     ]
    },
    {
     "data": {
      "application/vnd.jupyter.widget-view+json": {
       "model_id": "4d897abe96364d0da9882bd17a919ae8",
       "version_major": 2,
       "version_minor": 0
      },
      "text/plain": [
       "0it [00:00, ?it/s]"
      ]
     },
     "metadata": {},
     "output_type": "display_data"
    },
    {
     "name": "stdout",
     "output_type": "stream",
     "text": [
      "Make prediction for 8697 samples...\n",
      "Make prediction for 1594 samples...\n",
      "Make prediction for 2126 samples...\n",
      "Make prediction for 3846 samples...\n",
      "Make prediction for 771 samples...\n",
      "Make prediction for 300 samples...\n",
      "Make prediction for 60 samples...\n",
      "Training on 18037 samples...\n",
      "Training on 18037 samples...\n"
     ]
    },
    {
     "data": {
      "application/vnd.jupyter.widget-view+json": {
       "model_id": "b8153aa54dbc4e2ebdf6fc897d4d734a",
       "version_major": 2,
       "version_minor": 0
      },
      "text/plain": [
       "0it [00:00, ?it/s]"
      ]
     },
     "metadata": {},
     "output_type": "display_data"
    },
    {
     "name": "stdout",
     "output_type": "stream",
     "text": [
      "Make prediction for 8697 samples...\n",
      "Make prediction for 1594 samples...\n",
      "Make prediction for 2126 samples...\n",
      "Make prediction for 3846 samples...\n",
      "Make prediction for 771 samples...\n",
      "Make prediction for 300 samples...\n",
      "Make prediction for 60 samples...\n",
      "Training on 18037 samples...\n",
      "Training on 18037 samples...\n"
     ]
    },
    {
     "data": {
      "application/vnd.jupyter.widget-view+json": {
       "model_id": "5892821d66494ba5bd42b5c0455c3825",
       "version_major": 2,
       "version_minor": 0
      },
      "text/plain": [
       "0it [00:00, ?it/s]"
      ]
     },
     "metadata": {},
     "output_type": "display_data"
    },
    {
     "name": "stdout",
     "output_type": "stream",
     "text": [
      "Make prediction for 8697 samples...\n",
      "Make prediction for 1594 samples...\n",
      "Make prediction for 2126 samples...\n",
      "Make prediction for 3846 samples...\n",
      "Make prediction for 771 samples...\n",
      "Make prediction for 300 samples...\n",
      "Make prediction for 60 samples...\n",
      "Training on 18037 samples...\n",
      "Training on 18037 samples...\n"
     ]
    },
    {
     "data": {
      "application/vnd.jupyter.widget-view+json": {
       "model_id": "1df8b5c6adaf46e4a803d9d78c7846ff",
       "version_major": 2,
       "version_minor": 0
      },
      "text/plain": [
       "0it [00:00, ?it/s]"
      ]
     },
     "metadata": {},
     "output_type": "display_data"
    },
    {
     "name": "stdout",
     "output_type": "stream",
     "text": [
      "Make prediction for 8697 samples...\n",
      "Make prediction for 1594 samples...\n",
      "Make prediction for 2126 samples...\n",
      "Make prediction for 3846 samples...\n",
      "Make prediction for 771 samples...\n",
      "Make prediction for 300 samples...\n",
      "Make prediction for 60 samples...\n",
      "Training on 18037 samples...\n",
      "Training on 18037 samples...\n"
     ]
    },
    {
     "data": {
      "application/vnd.jupyter.widget-view+json": {
       "model_id": "f016948f2dce46e4a5c4701a3d03bc12",
       "version_major": 2,
       "version_minor": 0
      },
      "text/plain": [
       "0it [00:00, ?it/s]"
      ]
     },
     "metadata": {},
     "output_type": "display_data"
    },
    {
     "name": "stdout",
     "output_type": "stream",
     "text": [
      "Make prediction for 8697 samples...\n",
      "Make prediction for 1594 samples...\n",
      "Make prediction for 2126 samples...\n",
      "Make prediction for 3846 samples...\n",
      "Make prediction for 771 samples...\n",
      "Make prediction for 300 samples...\n",
      "Make prediction for 60 samples...\n",
      "Training on 18037 samples...\n",
      "Training on 18037 samples...\n"
     ]
    },
    {
     "data": {
      "application/vnd.jupyter.widget-view+json": {
       "model_id": "5382f55ba11149aebf08efa2d0e71106",
       "version_major": 2,
       "version_minor": 0
      },
      "text/plain": [
       "0it [00:00, ?it/s]"
      ]
     },
     "metadata": {},
     "output_type": "display_data"
    },
    {
     "name": "stdout",
     "output_type": "stream",
     "text": [
      "Make prediction for 8697 samples...\n",
      "Make prediction for 1594 samples...\n",
      "Make prediction for 2126 samples...\n",
      "Make prediction for 3846 samples...\n",
      "Make prediction for 771 samples...\n",
      "Make prediction for 300 samples...\n",
      "Make prediction for 60 samples...\n",
      "Training on 18037 samples...\n",
      "Training on 18037 samples...\n"
     ]
    },
    {
     "data": {
      "application/vnd.jupyter.widget-view+json": {
       "model_id": "51a40ea7a4c94c82836f3398095e4356",
       "version_major": 2,
       "version_minor": 0
      },
      "text/plain": [
       "0it [00:00, ?it/s]"
      ]
     },
     "metadata": {},
     "output_type": "display_data"
    },
    {
     "name": "stdout",
     "output_type": "stream",
     "text": [
      "Make prediction for 8697 samples...\n",
      "Make prediction for 1594 samples...\n",
      "Make prediction for 2126 samples...\n",
      "Make prediction for 3846 samples...\n",
      "Make prediction for 771 samples...\n",
      "Make prediction for 300 samples...\n",
      "Make prediction for 60 samples...\n",
      "Make prediction for 1593 samples...\n",
      "RMSE mix test improved\n",
      "Training on 18037 samples...\n",
      "Training on 18037 samples...\n"
     ]
    },
    {
     "data": {
      "application/vnd.jupyter.widget-view+json": {
       "model_id": "cd9d29db6a2e4cf4987bbfeaffb0177d",
       "version_major": 2,
       "version_minor": 0
      },
      "text/plain": [
       "0it [00:00, ?it/s]"
      ]
     },
     "metadata": {},
     "output_type": "display_data"
    },
    {
     "name": "stdout",
     "output_type": "stream",
     "text": [
      "Make prediction for 8697 samples...\n",
      "Make prediction for 1594 samples...\n",
      "Make prediction for 2126 samples...\n",
      "Make prediction for 3846 samples...\n",
      "Make prediction for 771 samples...\n",
      "Make prediction for 300 samples...\n",
      "Make prediction for 60 samples...\n",
      "Training on 18037 samples...\n",
      "Training on 18037 samples...\n"
     ]
    },
    {
     "data": {
      "application/vnd.jupyter.widget-view+json": {
       "model_id": "cdb1e4de60294af482f8caebd867f03c",
       "version_major": 2,
       "version_minor": 0
      },
      "text/plain": [
       "0it [00:00, ?it/s]"
      ]
     },
     "metadata": {},
     "output_type": "display_data"
    },
    {
     "name": "stdout",
     "output_type": "stream",
     "text": [
      "Make prediction for 8697 samples...\n",
      "Make prediction for 1594 samples...\n",
      "Make prediction for 2126 samples...\n",
      "Make prediction for 3846 samples...\n",
      "Make prediction for 771 samples...\n",
      "Make prediction for 300 samples...\n",
      "Make prediction for 60 samples...\n",
      "Training on 18037 samples...\n",
      "Training on 18037 samples...\n"
     ]
    },
    {
     "data": {
      "application/vnd.jupyter.widget-view+json": {
       "model_id": "0b01e8c8516d4125aff2045d743ce449",
       "version_major": 2,
       "version_minor": 0
      },
      "text/plain": [
       "0it [00:00, ?it/s]"
      ]
     },
     "metadata": {},
     "output_type": "display_data"
    },
    {
     "name": "stdout",
     "output_type": "stream",
     "text": [
      "Make prediction for 8697 samples...\n",
      "Make prediction for 1594 samples...\n",
      "Make prediction for 2126 samples...\n",
      "Make prediction for 3846 samples...\n",
      "Make prediction for 771 samples...\n",
      "Make prediction for 300 samples...\n",
      "Make prediction for 60 samples...\n",
      "Training on 18037 samples...\n",
      "Training on 18037 samples...\n"
     ]
    },
    {
     "data": {
      "application/vnd.jupyter.widget-view+json": {
       "model_id": "32dad2072a70475789c72991cf1daccf",
       "version_major": 2,
       "version_minor": 0
      },
      "text/plain": [
       "0it [00:00, ?it/s]"
      ]
     },
     "metadata": {},
     "output_type": "display_data"
    },
    {
     "name": "stdout",
     "output_type": "stream",
     "text": [
      "Make prediction for 8697 samples...\n",
      "Make prediction for 1594 samples...\n",
      "Make prediction for 2126 samples...\n",
      "Make prediction for 3846 samples...\n",
      "Make prediction for 771 samples...\n",
      "Make prediction for 300 samples...\n",
      "Make prediction for 60 samples...\n",
      "Make prediction for 1593 samples...\n",
      "RMSE mix test improved\n",
      "Training on 18037 samples...\n",
      "Training on 18037 samples...\n"
     ]
    },
    {
     "data": {
      "application/vnd.jupyter.widget-view+json": {
       "model_id": "81bd19bd12234debb567343136365e33",
       "version_major": 2,
       "version_minor": 0
      },
      "text/plain": [
       "0it [00:00, ?it/s]"
      ]
     },
     "metadata": {},
     "output_type": "display_data"
    },
    {
     "name": "stdout",
     "output_type": "stream",
     "text": [
      "Make prediction for 8697 samples...\n",
      "Make prediction for 1594 samples...\n",
      "Make prediction for 2126 samples...\n",
      "Make prediction for 3846 samples...\n",
      "Make prediction for 771 samples...\n",
      "Make prediction for 300 samples...\n",
      "Make prediction for 60 samples...\n",
      "Training on 18037 samples...\n",
      "Training on 18037 samples...\n"
     ]
    },
    {
     "data": {
      "application/vnd.jupyter.widget-view+json": {
       "model_id": "db0d51de753643adbb8ab69af2d61aa5",
       "version_major": 2,
       "version_minor": 0
      },
      "text/plain": [
       "0it [00:00, ?it/s]"
      ]
     },
     "metadata": {},
     "output_type": "display_data"
    },
    {
     "name": "stdout",
     "output_type": "stream",
     "text": [
      "Make prediction for 8697 samples...\n",
      "Make prediction for 1594 samples...\n",
      "Make prediction for 2126 samples...\n",
      "Make prediction for 3846 samples...\n",
      "Make prediction for 771 samples...\n",
      "Make prediction for 300 samples...\n",
      "Make prediction for 60 samples...\n",
      "Training on 18037 samples...\n",
      "Training on 18037 samples...\n"
     ]
    },
    {
     "data": {
      "application/vnd.jupyter.widget-view+json": {
       "model_id": "9bfbdaf2e8704deb94f6a24bb43635fe",
       "version_major": 2,
       "version_minor": 0
      },
      "text/plain": [
       "0it [00:00, ?it/s]"
      ]
     },
     "metadata": {},
     "output_type": "display_data"
    },
    {
     "name": "stdout",
     "output_type": "stream",
     "text": [
      "Make prediction for 8697 samples...\n",
      "Make prediction for 1594 samples...\n",
      "Make prediction for 2126 samples...\n",
      "Make prediction for 3846 samples...\n",
      "Make prediction for 771 samples...\n",
      "Make prediction for 300 samples...\n",
      "Make prediction for 60 samples...\n",
      "Training on 18037 samples...\n",
      "Training on 18037 samples...\n"
     ]
    },
    {
     "data": {
      "application/vnd.jupyter.widget-view+json": {
       "model_id": "72a4d18b8f864f3fbc90e16255fa5d75",
       "version_major": 2,
       "version_minor": 0
      },
      "text/plain": [
       "0it [00:00, ?it/s]"
      ]
     },
     "metadata": {},
     "output_type": "display_data"
    },
    {
     "name": "stdout",
     "output_type": "stream",
     "text": [
      "Make prediction for 8697 samples...\n",
      "Make prediction for 1594 samples...\n",
      "Make prediction for 2126 samples...\n",
      "Make prediction for 3846 samples...\n",
      "Make prediction for 771 samples...\n",
      "Make prediction for 300 samples...\n",
      "Make prediction for 60 samples...\n",
      "Make prediction for 1593 samples...\n",
      "RMSE mix test improved\n",
      "Training on 18037 samples...\n",
      "Training on 18037 samples...\n"
     ]
    },
    {
     "data": {
      "application/vnd.jupyter.widget-view+json": {
       "model_id": "3f20c72448fe4284a89d5208b301bfc9",
       "version_major": 2,
       "version_minor": 0
      },
      "text/plain": [
       "0it [00:00, ?it/s]"
      ]
     },
     "metadata": {},
     "output_type": "display_data"
    },
    {
     "name": "stdout",
     "output_type": "stream",
     "text": [
      "Make prediction for 8697 samples...\n",
      "Make prediction for 1594 samples...\n",
      "Make prediction for 2126 samples...\n",
      "Make prediction for 3846 samples...\n",
      "Make prediction for 771 samples...\n",
      "Make prediction for 300 samples...\n",
      "Make prediction for 60 samples...\n",
      "Training on 18037 samples...\n",
      "Training on 18037 samples...\n"
     ]
    },
    {
     "data": {
      "application/vnd.jupyter.widget-view+json": {
       "model_id": "cd11018246fb4e5f88b361de7a93b48e",
       "version_major": 2,
       "version_minor": 0
      },
      "text/plain": [
       "0it [00:00, ?it/s]"
      ]
     },
     "metadata": {},
     "output_type": "display_data"
    },
    {
     "name": "stdout",
     "output_type": "stream",
     "text": [
      "Make prediction for 8697 samples...\n",
      "Make prediction for 1594 samples...\n",
      "Make prediction for 2126 samples...\n",
      "Make prediction for 3846 samples...\n",
      "Make prediction for 771 samples...\n",
      "Make prediction for 300 samples...\n",
      "Make prediction for 60 samples...\n",
      "Training on 18037 samples...\n",
      "Training on 18037 samples...\n"
     ]
    },
    {
     "data": {
      "application/vnd.jupyter.widget-view+json": {
       "model_id": "4258e36554734c4fae778befb9440bea",
       "version_major": 2,
       "version_minor": 0
      },
      "text/plain": [
       "0it [00:00, ?it/s]"
      ]
     },
     "metadata": {},
     "output_type": "display_data"
    },
    {
     "name": "stdout",
     "output_type": "stream",
     "text": [
      "Make prediction for 8697 samples...\n",
      "Make prediction for 1594 samples...\n",
      "Make prediction for 2126 samples...\n",
      "Make prediction for 3846 samples...\n",
      "Make prediction for 771 samples...\n",
      "Make prediction for 300 samples...\n",
      "Make prediction for 60 samples...\n",
      "Training on 18037 samples...\n",
      "Training on 18037 samples...\n"
     ]
    },
    {
     "data": {
      "application/vnd.jupyter.widget-view+json": {
       "model_id": "4de4ddd172204f9cb9b948190bd3ad0e",
       "version_major": 2,
       "version_minor": 0
      },
      "text/plain": [
       "0it [00:00, ?it/s]"
      ]
     },
     "metadata": {},
     "output_type": "display_data"
    },
    {
     "name": "stdout",
     "output_type": "stream",
     "text": [
      "Make prediction for 8697 samples...\n",
      "Make prediction for 1594 samples...\n",
      "Make prediction for 2126 samples...\n",
      "Make prediction for 3846 samples...\n",
      "Make prediction for 771 samples...\n",
      "Make prediction for 300 samples...\n",
      "Make prediction for 60 samples...\n",
      "Training on 18037 samples...\n",
      "Training on 18037 samples...\n"
     ]
    },
    {
     "data": {
      "application/vnd.jupyter.widget-view+json": {
       "model_id": "50caf4c186fc4647be1f36fb54b1017b",
       "version_major": 2,
       "version_minor": 0
      },
      "text/plain": [
       "0it [00:00, ?it/s]"
      ]
     },
     "metadata": {},
     "output_type": "display_data"
    },
    {
     "name": "stdout",
     "output_type": "stream",
     "text": [
      "Make prediction for 8697 samples...\n",
      "Make prediction for 1594 samples...\n",
      "Make prediction for 2126 samples...\n",
      "Make prediction for 3846 samples...\n",
      "Make prediction for 771 samples...\n",
      "Make prediction for 300 samples...\n",
      "Make prediction for 60 samples...\n",
      "Training on 18037 samples...\n",
      "Training on 18037 samples...\n"
     ]
    },
    {
     "data": {
      "application/vnd.jupyter.widget-view+json": {
       "model_id": "cac728bcf1564da3b1e966b34ecc3b67",
       "version_major": 2,
       "version_minor": 0
      },
      "text/plain": [
       "0it [00:00, ?it/s]"
      ]
     },
     "metadata": {},
     "output_type": "display_data"
    },
    {
     "ename": "KeyboardInterrupt",
     "evalue": "",
     "output_type": "error",
     "traceback": [
      "\u001b[0;31m---------------------------------------------------------------------------\u001b[0m",
      "\u001b[0;31mKeyboardInterrupt\u001b[0m                         Traceback (most recent call last)",
      "\u001b[0;32m<ipython-input-19-4396e0fdaffa>\u001b[0m in \u001b[0;36m<module>\u001b[0;34m\u001b[0m\n\u001b[1;32m      5\u001b[0m     \u001b[0mprint\u001b[0m\u001b[0;34m(\u001b[0m\u001b[0;34m'Training on {} samples...'\u001b[0m\u001b[0;34m.\u001b[0m\u001b[0mformat\u001b[0m\u001b[0;34m(\u001b[0m\u001b[0mlen\u001b[0m\u001b[0;34m(\u001b[0m\u001b[0mtrain_loader\u001b[0m\u001b[0;34m.\u001b[0m\u001b[0mdataset\u001b[0m\u001b[0;34m)\u001b[0m\u001b[0;34m)\u001b[0m\u001b[0;34m)\u001b[0m\u001b[0;34m\u001b[0m\u001b[0;34m\u001b[0m\u001b[0m\n\u001b[1;32m      6\u001b[0m     \u001b[0mavg_loss\u001b[0m \u001b[0;34m=\u001b[0m \u001b[0;34m[\u001b[0m\u001b[0;34m]\u001b[0m\u001b[0;34m\u001b[0m\u001b[0;34m\u001b[0m\u001b[0m\n\u001b[0;32m----> 7\u001b[0;31m     \u001b[0mtrain_loss\u001b[0m \u001b[0;34m=\u001b[0m \u001b[0mtrain\u001b[0m\u001b[0;34m(\u001b[0m\u001b[0mmodel\u001b[0m\u001b[0;34m,\u001b[0m \u001b[0mdevice\u001b[0m\u001b[0;34m,\u001b[0m \u001b[0mtrain_loader\u001b[0m\u001b[0;34m,\u001b[0m \u001b[0moptimizer\u001b[0m\u001b[0;34m,\u001b[0m \u001b[0mepoch\u001b[0m\u001b[0;34m+\u001b[0m\u001b[0;36m1\u001b[0m\u001b[0;34m,\u001b[0m \u001b[0mlog_interval\u001b[0m\u001b[0;34m)\u001b[0m\u001b[0;34m\u001b[0m\u001b[0;34m\u001b[0m\u001b[0m\n\u001b[0m\u001b[1;32m      8\u001b[0m     \u001b[0;31m#VAL:\u001b[0m\u001b[0;34m\u001b[0m\u001b[0;34m\u001b[0m\u001b[0;34m\u001b[0m\u001b[0m\n\u001b[1;32m      9\u001b[0m     \u001b[0mG\u001b[0m\u001b[0;34m,\u001b[0m\u001b[0mP\u001b[0m \u001b[0;34m=\u001b[0m \u001b[0mpredicting\u001b[0m\u001b[0;34m(\u001b[0m\u001b[0mmodel\u001b[0m\u001b[0;34m,\u001b[0m \u001b[0mdevice\u001b[0m\u001b[0;34m,\u001b[0m \u001b[0mval_loader\u001b[0m\u001b[0;34m)\u001b[0m\u001b[0;34m\u001b[0m\u001b[0;34m\u001b[0m\u001b[0m\n",
      "\u001b[0;32m<ipython-input-6-e96154a2cb4a>\u001b[0m in \u001b[0;36mtrain\u001b[0;34m(model, device, train_loader, optimizer, epoch, log_interval)\u001b[0m\n\u001b[1;32m      8\u001b[0m     \u001b[0mavg_loss\u001b[0m \u001b[0;34m=\u001b[0m \u001b[0;34m[\u001b[0m\u001b[0;34m]\u001b[0m\u001b[0;34m\u001b[0m\u001b[0;34m\u001b[0m\u001b[0m\n\u001b[1;32m      9\u001b[0m     \u001b[0mloop\u001b[0m \u001b[0;34m=\u001b[0m \u001b[0mtqdm\u001b[0m\u001b[0;34m(\u001b[0m\u001b[0menumerate\u001b[0m\u001b[0;34m(\u001b[0m\u001b[0mtrain_loader\u001b[0m\u001b[0;34m)\u001b[0m\u001b[0;34m)\u001b[0m\u001b[0;34m\u001b[0m\u001b[0;34m\u001b[0m\u001b[0m\n\u001b[0;32m---> 10\u001b[0;31m     \u001b[0;32mfor\u001b[0m \u001b[0mbatch_idx\u001b[0m\u001b[0;34m,\u001b[0m \u001b[0mdata\u001b[0m \u001b[0;32min\u001b[0m \u001b[0mloop\u001b[0m\u001b[0;34m:\u001b[0m\u001b[0;34m\u001b[0m\u001b[0;34m\u001b[0m\u001b[0m\n\u001b[0m\u001b[1;32m     11\u001b[0m         \u001b[0mdata\u001b[0m \u001b[0;34m=\u001b[0m \u001b[0mdata\u001b[0m\u001b[0;34m.\u001b[0m\u001b[0mto\u001b[0m\u001b[0;34m(\u001b[0m\u001b[0mdevice\u001b[0m\u001b[0;34m)\u001b[0m\u001b[0;34m\u001b[0m\u001b[0;34m\u001b[0m\u001b[0m\n\u001b[1;32m     12\u001b[0m         \u001b[0moptimizer\u001b[0m\u001b[0;34m.\u001b[0m\u001b[0mzero_grad\u001b[0m\u001b[0;34m(\u001b[0m\u001b[0;34m)\u001b[0m\u001b[0;34m\u001b[0m\u001b[0;34m\u001b[0m\u001b[0m\n",
      "\u001b[0;32m/client/user1/anaconda3/envs/hoavd/lib/python3.9/site-packages/tqdm/notebook.py\u001b[0m in \u001b[0;36m__iter__\u001b[0;34m(self)\u001b[0m\n\u001b[1;32m    252\u001b[0m     \u001b[0;32mdef\u001b[0m \u001b[0m__iter__\u001b[0m\u001b[0;34m(\u001b[0m\u001b[0mself\u001b[0m\u001b[0;34m)\u001b[0m\u001b[0;34m:\u001b[0m\u001b[0;34m\u001b[0m\u001b[0;34m\u001b[0m\u001b[0m\n\u001b[1;32m    253\u001b[0m         \u001b[0;32mtry\u001b[0m\u001b[0;34m:\u001b[0m\u001b[0;34m\u001b[0m\u001b[0;34m\u001b[0m\u001b[0m\n\u001b[0;32m--> 254\u001b[0;31m             \u001b[0;32mfor\u001b[0m \u001b[0mobj\u001b[0m \u001b[0;32min\u001b[0m \u001b[0msuper\u001b[0m\u001b[0;34m(\u001b[0m\u001b[0mtqdm_notebook\u001b[0m\u001b[0;34m,\u001b[0m \u001b[0mself\u001b[0m\u001b[0;34m)\u001b[0m\u001b[0;34m.\u001b[0m\u001b[0m__iter__\u001b[0m\u001b[0;34m(\u001b[0m\u001b[0;34m)\u001b[0m\u001b[0;34m:\u001b[0m\u001b[0;34m\u001b[0m\u001b[0;34m\u001b[0m\u001b[0m\n\u001b[0m\u001b[1;32m    255\u001b[0m                 \u001b[0;31m# return super(tqdm...) will not catch exception\u001b[0m\u001b[0;34m\u001b[0m\u001b[0;34m\u001b[0m\u001b[0;34m\u001b[0m\u001b[0m\n\u001b[1;32m    256\u001b[0m                 \u001b[0;32myield\u001b[0m \u001b[0mobj\u001b[0m\u001b[0;34m\u001b[0m\u001b[0;34m\u001b[0m\u001b[0m\n",
      "\u001b[0;32m/client/user1/anaconda3/envs/hoavd/lib/python3.9/site-packages/tqdm/std.py\u001b[0m in \u001b[0;36m__iter__\u001b[0;34m(self)\u001b[0m\n\u001b[1;32m   1176\u001b[0m \u001b[0;34m\u001b[0m\u001b[0m\n\u001b[1;32m   1177\u001b[0m         \u001b[0;32mtry\u001b[0m\u001b[0;34m:\u001b[0m\u001b[0;34m\u001b[0m\u001b[0;34m\u001b[0m\u001b[0m\n\u001b[0;32m-> 1178\u001b[0;31m             \u001b[0;32mfor\u001b[0m \u001b[0mobj\u001b[0m \u001b[0;32min\u001b[0m \u001b[0miterable\u001b[0m\u001b[0;34m:\u001b[0m\u001b[0;34m\u001b[0m\u001b[0;34m\u001b[0m\u001b[0m\n\u001b[0m\u001b[1;32m   1179\u001b[0m                 \u001b[0;32myield\u001b[0m \u001b[0mobj\u001b[0m\u001b[0;34m\u001b[0m\u001b[0;34m\u001b[0m\u001b[0m\n\u001b[1;32m   1180\u001b[0m                 \u001b[0;31m# Update and possibly print the progressbar.\u001b[0m\u001b[0;34m\u001b[0m\u001b[0;34m\u001b[0m\u001b[0;34m\u001b[0m\u001b[0m\n",
      "\u001b[0;32m/client/user1/anaconda3/envs/hoavd/lib/python3.9/site-packages/torch/utils/data/dataloader.py\u001b[0m in \u001b[0;36m__next__\u001b[0;34m(self)\u001b[0m\n\u001b[1;32m    515\u001b[0m             \u001b[0;32mif\u001b[0m \u001b[0mself\u001b[0m\u001b[0;34m.\u001b[0m\u001b[0m_sampler_iter\u001b[0m \u001b[0;32mis\u001b[0m \u001b[0;32mNone\u001b[0m\u001b[0;34m:\u001b[0m\u001b[0;34m\u001b[0m\u001b[0;34m\u001b[0m\u001b[0m\n\u001b[1;32m    516\u001b[0m                 \u001b[0mself\u001b[0m\u001b[0;34m.\u001b[0m\u001b[0m_reset\u001b[0m\u001b[0;34m(\u001b[0m\u001b[0;34m)\u001b[0m\u001b[0;34m\u001b[0m\u001b[0;34m\u001b[0m\u001b[0m\n\u001b[0;32m--> 517\u001b[0;31m             \u001b[0mdata\u001b[0m \u001b[0;34m=\u001b[0m \u001b[0mself\u001b[0m\u001b[0;34m.\u001b[0m\u001b[0m_next_data\u001b[0m\u001b[0;34m(\u001b[0m\u001b[0;34m)\u001b[0m\u001b[0;34m\u001b[0m\u001b[0;34m\u001b[0m\u001b[0m\n\u001b[0m\u001b[1;32m    518\u001b[0m             \u001b[0mself\u001b[0m\u001b[0;34m.\u001b[0m\u001b[0m_num_yielded\u001b[0m \u001b[0;34m+=\u001b[0m \u001b[0;36m1\u001b[0m\u001b[0;34m\u001b[0m\u001b[0;34m\u001b[0m\u001b[0m\n\u001b[1;32m    519\u001b[0m             \u001b[0;32mif\u001b[0m \u001b[0mself\u001b[0m\u001b[0;34m.\u001b[0m\u001b[0m_dataset_kind\u001b[0m \u001b[0;34m==\u001b[0m \u001b[0m_DatasetKind\u001b[0m\u001b[0;34m.\u001b[0m\u001b[0mIterable\u001b[0m \u001b[0;32mand\u001b[0m\u001b[0;31m \u001b[0m\u001b[0;31m\\\u001b[0m\u001b[0;34m\u001b[0m\u001b[0;34m\u001b[0m\u001b[0m\n",
      "\u001b[0;32m/client/user1/anaconda3/envs/hoavd/lib/python3.9/site-packages/torch/utils/data/dataloader.py\u001b[0m in \u001b[0;36m_next_data\u001b[0;34m(self)\u001b[0m\n\u001b[1;32m    555\u001b[0m     \u001b[0;32mdef\u001b[0m \u001b[0m_next_data\u001b[0m\u001b[0;34m(\u001b[0m\u001b[0mself\u001b[0m\u001b[0;34m)\u001b[0m\u001b[0;34m:\u001b[0m\u001b[0;34m\u001b[0m\u001b[0;34m\u001b[0m\u001b[0m\n\u001b[1;32m    556\u001b[0m         \u001b[0mindex\u001b[0m \u001b[0;34m=\u001b[0m \u001b[0mself\u001b[0m\u001b[0;34m.\u001b[0m\u001b[0m_next_index\u001b[0m\u001b[0;34m(\u001b[0m\u001b[0;34m)\u001b[0m  \u001b[0;31m# may raise StopIteration\u001b[0m\u001b[0;34m\u001b[0m\u001b[0;34m\u001b[0m\u001b[0m\n\u001b[0;32m--> 557\u001b[0;31m         \u001b[0mdata\u001b[0m \u001b[0;34m=\u001b[0m \u001b[0mself\u001b[0m\u001b[0;34m.\u001b[0m\u001b[0m_dataset_fetcher\u001b[0m\u001b[0;34m.\u001b[0m\u001b[0mfetch\u001b[0m\u001b[0;34m(\u001b[0m\u001b[0mindex\u001b[0m\u001b[0;34m)\u001b[0m  \u001b[0;31m# may raise StopIteration\u001b[0m\u001b[0;34m\u001b[0m\u001b[0;34m\u001b[0m\u001b[0m\n\u001b[0m\u001b[1;32m    558\u001b[0m         \u001b[0;32mif\u001b[0m \u001b[0mself\u001b[0m\u001b[0;34m.\u001b[0m\u001b[0m_pin_memory\u001b[0m\u001b[0;34m:\u001b[0m\u001b[0;34m\u001b[0m\u001b[0;34m\u001b[0m\u001b[0m\n\u001b[1;32m    559\u001b[0m             \u001b[0mdata\u001b[0m \u001b[0;34m=\u001b[0m \u001b[0m_utils\u001b[0m\u001b[0;34m.\u001b[0m\u001b[0mpin_memory\u001b[0m\u001b[0;34m.\u001b[0m\u001b[0mpin_memory\u001b[0m\u001b[0;34m(\u001b[0m\u001b[0mdata\u001b[0m\u001b[0;34m)\u001b[0m\u001b[0;34m\u001b[0m\u001b[0;34m\u001b[0m\u001b[0m\n",
      "\u001b[0;32m/client/user1/anaconda3/envs/hoavd/lib/python3.9/site-packages/torch/utils/data/_utils/fetch.py\u001b[0m in \u001b[0;36mfetch\u001b[0;34m(self, possibly_batched_index)\u001b[0m\n\u001b[1;32m     45\u001b[0m         \u001b[0;32melse\u001b[0m\u001b[0;34m:\u001b[0m\u001b[0;34m\u001b[0m\u001b[0;34m\u001b[0m\u001b[0m\n\u001b[1;32m     46\u001b[0m             \u001b[0mdata\u001b[0m \u001b[0;34m=\u001b[0m \u001b[0mself\u001b[0m\u001b[0;34m.\u001b[0m\u001b[0mdataset\u001b[0m\u001b[0;34m[\u001b[0m\u001b[0mpossibly_batched_index\u001b[0m\u001b[0;34m]\u001b[0m\u001b[0;34m\u001b[0m\u001b[0;34m\u001b[0m\u001b[0m\n\u001b[0;32m---> 47\u001b[0;31m         \u001b[0;32mreturn\u001b[0m \u001b[0mself\u001b[0m\u001b[0;34m.\u001b[0m\u001b[0mcollate_fn\u001b[0m\u001b[0;34m(\u001b[0m\u001b[0mdata\u001b[0m\u001b[0;34m)\u001b[0m\u001b[0;34m\u001b[0m\u001b[0;34m\u001b[0m\u001b[0m\n\u001b[0m",
      "\u001b[0;32m/client/user1/anaconda3/envs/hoavd/lib/python3.9/site-packages/torch_geometric/data/dataloader.py\u001b[0m in \u001b[0;36m__call__\u001b[0;34m(self, batch)\u001b[0m\n\u001b[1;32m     34\u001b[0m \u001b[0;34m\u001b[0m\u001b[0m\n\u001b[1;32m     35\u001b[0m     \u001b[0;32mdef\u001b[0m \u001b[0m__call__\u001b[0m\u001b[0;34m(\u001b[0m\u001b[0mself\u001b[0m\u001b[0;34m,\u001b[0m \u001b[0mbatch\u001b[0m\u001b[0;34m)\u001b[0m\u001b[0;34m:\u001b[0m\u001b[0;34m\u001b[0m\u001b[0;34m\u001b[0m\u001b[0m\n\u001b[0;32m---> 36\u001b[0;31m         \u001b[0;32mreturn\u001b[0m \u001b[0mself\u001b[0m\u001b[0;34m.\u001b[0m\u001b[0mcollate\u001b[0m\u001b[0;34m(\u001b[0m\u001b[0mbatch\u001b[0m\u001b[0;34m)\u001b[0m\u001b[0;34m\u001b[0m\u001b[0;34m\u001b[0m\u001b[0m\n\u001b[0m\u001b[1;32m     37\u001b[0m \u001b[0;34m\u001b[0m\u001b[0m\n\u001b[1;32m     38\u001b[0m \u001b[0;34m\u001b[0m\u001b[0m\n",
      "\u001b[0;32m/client/user1/anaconda3/envs/hoavd/lib/python3.9/site-packages/torch_geometric/data/dataloader.py\u001b[0m in \u001b[0;36mcollate\u001b[0;34m(self, batch)\u001b[0m\n\u001b[1;32m     14\u001b[0m         \u001b[0melem\u001b[0m \u001b[0;34m=\u001b[0m \u001b[0mbatch\u001b[0m\u001b[0;34m[\u001b[0m\u001b[0;36m0\u001b[0m\u001b[0;34m]\u001b[0m\u001b[0;34m\u001b[0m\u001b[0;34m\u001b[0m\u001b[0m\n\u001b[1;32m     15\u001b[0m         \u001b[0;32mif\u001b[0m \u001b[0misinstance\u001b[0m\u001b[0;34m(\u001b[0m\u001b[0melem\u001b[0m\u001b[0;34m,\u001b[0m \u001b[0mData\u001b[0m\u001b[0;34m)\u001b[0m\u001b[0;34m:\u001b[0m\u001b[0;34m\u001b[0m\u001b[0;34m\u001b[0m\u001b[0m\n\u001b[0;32m---> 16\u001b[0;31m             return Batch.from_data_list(batch, self.follow_batch,\n\u001b[0m\u001b[1;32m     17\u001b[0m                                         self.exclude_keys)\n\u001b[1;32m     18\u001b[0m         \u001b[0;32melif\u001b[0m \u001b[0misinstance\u001b[0m\u001b[0;34m(\u001b[0m\u001b[0melem\u001b[0m\u001b[0;34m,\u001b[0m \u001b[0mtorch\u001b[0m\u001b[0;34m.\u001b[0m\u001b[0mTensor\u001b[0m\u001b[0;34m)\u001b[0m\u001b[0;34m:\u001b[0m\u001b[0;34m\u001b[0m\u001b[0;34m\u001b[0m\u001b[0m\n",
      "\u001b[0;32m/client/user1/anaconda3/envs/hoavd/lib/python3.9/site-packages/torch_geometric/data/batch.py\u001b[0m in \u001b[0;36mfrom_data_list\u001b[0;34m(cls, data_list, follow_batch, exclude_keys)\u001b[0m\n\u001b[1;32m    149\u001b[0m             \u001b[0mcat_dim\u001b[0m \u001b[0;34m=\u001b[0m \u001b[0;36m0\u001b[0m \u001b[0;32mif\u001b[0m \u001b[0mcat_dim\u001b[0m \u001b[0;32mis\u001b[0m \u001b[0;32mNone\u001b[0m \u001b[0;32melse\u001b[0m \u001b[0mcat_dim\u001b[0m\u001b[0;34m\u001b[0m\u001b[0;34m\u001b[0m\u001b[0m\n\u001b[1;32m    150\u001b[0m             \u001b[0;32mif\u001b[0m \u001b[0misinstance\u001b[0m\u001b[0;34m(\u001b[0m\u001b[0mitem\u001b[0m\u001b[0;34m,\u001b[0m \u001b[0mTensor\u001b[0m\u001b[0;34m)\u001b[0m\u001b[0;34m:\u001b[0m\u001b[0;34m\u001b[0m\u001b[0;34m\u001b[0m\u001b[0m\n\u001b[0;32m--> 151\u001b[0;31m                 \u001b[0mbatch\u001b[0m\u001b[0;34m[\u001b[0m\u001b[0mkey\u001b[0m\u001b[0;34m]\u001b[0m \u001b[0;34m=\u001b[0m \u001b[0mtorch\u001b[0m\u001b[0;34m.\u001b[0m\u001b[0mcat\u001b[0m\u001b[0;34m(\u001b[0m\u001b[0mitems\u001b[0m\u001b[0;34m,\u001b[0m \u001b[0mcat_dim\u001b[0m\u001b[0;34m)\u001b[0m\u001b[0;34m\u001b[0m\u001b[0;34m\u001b[0m\u001b[0m\n\u001b[0m\u001b[1;32m    152\u001b[0m             \u001b[0;32melif\u001b[0m \u001b[0misinstance\u001b[0m\u001b[0;34m(\u001b[0m\u001b[0mitem\u001b[0m\u001b[0;34m,\u001b[0m \u001b[0mSparseTensor\u001b[0m\u001b[0;34m)\u001b[0m\u001b[0;34m:\u001b[0m\u001b[0;34m\u001b[0m\u001b[0;34m\u001b[0m\u001b[0m\n\u001b[1;32m    153\u001b[0m                 \u001b[0mbatch\u001b[0m\u001b[0;34m[\u001b[0m\u001b[0mkey\u001b[0m\u001b[0;34m]\u001b[0m \u001b[0;34m=\u001b[0m \u001b[0mcat\u001b[0m\u001b[0;34m(\u001b[0m\u001b[0mitems\u001b[0m\u001b[0;34m,\u001b[0m \u001b[0mcat_dim\u001b[0m\u001b[0;34m)\u001b[0m\u001b[0;34m\u001b[0m\u001b[0;34m\u001b[0m\u001b[0m\n",
      "\u001b[0;31mKeyboardInterrupt\u001b[0m: "
     ]
    }
   ],
   "source": [
    "from IPython.display import clear_output \n",
    "model.train()\n",
    "loss_fn = nn.MSELoss()\n",
    "for epoch in range(num_epoch):\n",
    "    print('Training on {} samples...'.format(len(train_loader.dataset)))\n",
    "    avg_loss = []    \n",
    "    train_loss = train(model, device, train_loader, optimizer, epoch+1, log_interval)\n",
    "    #VAL:\n",
    "    G,P = predicting(model, device, val_loader)\n",
    "    G_mix_dc, P_mix_dc = predicting(model, device, val_mix_dc_loader)\n",
    "    G_blind_cell, P_blind_cell = predicting(model, device, val_blind_cell_loader)\n",
    "    G_blind_1_drug, P_blind_1_drug = predicting(model, device, val_blind_1_drug_loader)\n",
    "    G_blind_1_drug_cell, P_blind_1_drug_cell = predicting(model, device, val_blind_1_drug_cell_loader)\n",
    "    G_blind_2_drug, P_blind_2_drug = predicting(model, device, val_blind_2_drug_loader)\n",
    "    G_blind_all, P_blind_all = predicting(model, device, val_blind_all_loader)\n",
    "    \n",
    "\n",
    "    ret = return_ret(G, P)\n",
    "    ret_mix_dc = return_ret(G_mix_dc, P_mix_dc)\n",
    "    ret_blind_cell = return_ret(G_blind_cell, P_blind_cell)\n",
    "    ret_blind_1_drug = return_ret(G_blind_1_drug, P_blind_1_drug)\n",
    "    ret_blind_1_drug_cell = return_ret(G_blind_1_drug_cell, P_blind_1_drug_cell)\n",
    "    ret_blind_2_drug = return_ret(G_blind_2_drug, P_blind_2_drug)\n",
    "    ret_blind_all = return_ret(G_blind_all, P_blind_all)\n",
    "\n",
    "    \n",
    "\n",
    "\n",
    "    train_losses.append(train_loss)\n",
    "    val_losses.append(ret[1])\n",
    "    val_pearsons.append(ret[2])\n",
    "\n",
    "    val_mix_dc_losses.append(ret_mix_dc[1])\n",
    "    val_blind_cell_losses.append(ret_blind_cell[1])\n",
    "    val_blind_1_drug_losses.append(ret_blind_1_drug[1])\n",
    "    val_blind_1_drug_cell_losses.append(ret_blind_1_drug_cell[1])\n",
    "    val_blind_2_drug_losses.append(ret_blind_2_drug[1])\n",
    "    val_blind_all_losses.append(ret_blind_all[1])\n",
    "    \n",
    "\n",
    "    val_mix_dc_pearsons.append(ret_mix_dc[2])\n",
    "    val_blind_cell_pearsons.append(ret_blind_cell[2])\n",
    "    val_blind_1_drug_pearsons.append(ret_blind_1_drug[2])\n",
    "    val_blind_1_drug_cell_pearsons.append(ret_blind_1_drug_cell[2])\n",
    "    val_blind_2_drug_pearsons.append(ret_blind_2_drug[2])\n",
    "    val_blind_all_pearsons.append(ret_blind_all[2])\n",
    "    \n",
    "    if ret[1]<best_val_losses:\n",
    "        best_val_losses = ret[1]\n",
    "        G_test,P_test = predicting(model, device, test_loader)\n",
    "        ret_test_save = return_ret(G_test, P_test)\n",
    "        print(\"RMSE all test improved\")\n",
    "    if ret_mix_dc[1]<best_val_mix_dc_losses:\n",
    "        best_val_mix_dc_losses = ret_mix_dc[1]\n",
    "        G_mix_dc_test, P_mix_dc_test = predicting(model, device, test_mix_dc_loader)\n",
    "        ret_test_mix_dc_save = return_ret(G_mix_dc_test, P_mix_dc_test)\n",
    "        print(\"RMSE mix test improved\")\n",
    "    if ret_blind_cell[1]<best_val_blind_cell_losses:\n",
    "        best_val_blind_cell_losses = ret_blind_cell[1]\n",
    "        G_blind_cell_test, P_blind_cell_test = predicting(model, device, test_blind_cell_loader)\n",
    "        ret_test_blind_cell_save = return_ret(G_blind_cell_test, P_blind_cell_test)\n",
    "        print(\"RMSE blind cell test improved\")\n",
    "    if ret_blind_1_drug[1]<best_val_blind_1_drug_losses:\n",
    "        best_val_blind_1_drug_losses = ret_blind_1_drug[1]\n",
    "        G_blind_1_drug_test, P_blind_1_drug_test = predicting(model, device, test_blind_1_drug_loader)\n",
    "        ret_test_blind_1_drug_save = return_ret(G_blind_1_drug_test, P_blind_1_drug_test)\n",
    "        print(\"RMSE blind 1 drug improved\")\n",
    "    if ret_blind_1_drug_cell[1]<best_val_blind_1_drug_cell_losses:\n",
    "        best_val_blind_1_drug_cell_losses = ret_blind_1_drug_cell[1]\n",
    "        G_blind_1_drug_cell_test, P_blind_1_drug_cell_test = predicting(model, device, test_blind_1_drug_cell_loader)\n",
    "        ret_test_blind_1_drug_cell_save = return_ret(G_blind_1_drug_cell_test, P_blind_1_drug_cell_test)\n",
    "        print(\"RMSE blind 1 drug cell improved\")\n",
    "    if ret_blind_2_drug[1]<best_val_blind_2_drug_losses:\n",
    "        best_val_blind_2_drug_losses = ret_blind_2_drug[1]\n",
    "        G_blind_2_drug_test, P_blind_2_drug_test = predicting(model, device, test_blind_2_drug_loader)\n",
    "        ret_test_blind_2_drug_save = return_ret(G_blind_2_drug_test, P_blind_2_drug_test)\n",
    "        print(\"RMSE blind 2 drug improved\")\n",
    "    if ret_blind_all[1]<best_val_blind_all_losses:\n",
    "        best_val_blind_all_losses = ret_blind_all[1]\n",
    "        G_blind_all_test, P_blind_all_test = predicting(model, device, test_blind_all_loader)\n",
    "        ret_test_blind_all_save = return_ret(G_blind_all_test, P_blind_all_test)\n",
    "        print(\"RMSE blind all improved\")\n",
    "        \n",
    "    torch.save(model.state_dict(), model_file_name)\n",
    "    with open(result_file_name,'w') as f:\n",
    "        f.write('ret_test: '+','.join(map(str,ret_test_save)) +\"\\n\")\n",
    "        f.write('ret_mix_dc: '+','.join(map(str,ret_test_mix_dc_save)) +\"\\n\")\n",
    "        f.write('ret_blind_cell: '+','.join(map(str,ret_test_blind_cell_save)) +\"\\n\")\n",
    "        f.write('ret_blind_1_drug: '+','.join(map(str,ret_test_blind_1_drug_save)) +\"\\n\")\n",
    "        f.write('ret_blind_1_drug_cell: '+','.join(map(str,ret_test_blind_1_drug_cell_save)) +\"\\n\")\n",
    "        f.write('ret_blind_2_drug: '+','.join(map(str,ret_test_blind_2_drug_save)) +\"\\n\")\n",
    "        f.write('ret_blind_all: '+','.join(map(str,ret_test_blind_all_save)) +\"\\n\")\n",
    "        \n",
    "    draw_loss(train_losses, val_losses, loss_fig_name)\n",
    "    draw_pearson(val_pearsons, pearson_fig_name)\n",
    "\n",
    "    draw_loss(train_losses, val_mix_dc_losses, loss_fig_name_mix_dc)\n",
    "    draw_pearson(val_mix_dc_pearsons, pearson_fig_name_mix_dc)\n",
    "\n",
    "    draw_loss(train_losses, val_blind_cell_losses, loss_fig_name_blind_cell)\n",
    "    draw_pearson(val_blind_cell_pearsons, pearson_fig_name_blind_cell)\n",
    "\n",
    "    draw_loss(train_losses, val_blind_1_drug_losses, loss_fig_name_blind_1_drug)\n",
    "    draw_pearson(val_blind_1_drug_pearsons, pearson_fig_name_blind_1_drug)\n",
    "    \n",
    "    draw_loss(train_losses, val_blind_1_drug_cell_losses, loss_fig_name_blind_1_drug_cell)\n",
    "    draw_pearson(val_blind_1_drug_cell_pearsons, pearson_fig_name_blind_1_drug_cell)\n",
    "    \n",
    "    draw_loss(train_losses, val_blind_2_drug_losses, loss_fig_name_blind_2_drug)\n",
    "    draw_pearson(val_blind_2_drug_pearsons, pearson_fig_name_blind_2_drug)\n",
    "    \n",
    "    draw_loss(train_losses, val_blind_all_losses, loss_fig_name_blind_all)\n",
    "    draw_pearson(val_blind_all_pearsons, pearson_fig_name_blind_all)\n",
    "\n",
    "    torch.save(model.state_dict(), current_file_model)\n",
    "    log = [\n",
    "          train_losses, val_losses,\\\n",
    "          val_mix_dc_losses, val_blind_cell_losses,\\\n",
    "          val_blind_1_drug_losses, val_blind_1_drug_cell_losses,\\\n",
    "          val_blind_2_drug_losses, val_blind_all_losses,\\\n",
    "          val_mix_dc_pearsons, val_blind_cell_pearsons,\\\n",
    "          val_blind_1_drug_pearsons, val_blind_1_drug_cell_pearsons,\\\n",
    "          val_blind_2_drug_pearsons, val_blind_all_pearsons\n",
    "          ]\n",
    "\n",
    "    with open(save_path+ \"/log.pickle\", \"wb\") as f:\n",
    "      pickle.dump(log, f)"
   ]
  },
  {
   "cell_type": "code",
   "execution_count": null,
   "metadata": {},
   "outputs": [],
   "source": []
  }
 ],
 "metadata": {
  "accelerator": "TPU",
  "colab": {
   "collapsed_sections": [],
   "machine_shape": "hm",
   "name": "gin.ipynb",
   "provenance": [],
   "toc_visible": true
  },
  "kernelspec": {
   "display_name": "hoavd",
   "language": "python",
   "name": "hoavd"
  },
  "language_info": {
   "codemirror_mode": {
    "name": "ipython",
    "version": 3
   },
   "file_extension": ".py",
   "mimetype": "text/x-python",
   "name": "python",
   "nbconvert_exporter": "python",
   "pygments_lexer": "ipython3",
   "version": "3.9.4"
  }
 },
 "nbformat": 4,
 "nbformat_minor": 4
}
