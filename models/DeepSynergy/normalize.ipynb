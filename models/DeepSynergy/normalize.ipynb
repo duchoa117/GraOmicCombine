{
 "cells": [
  {
   "cell_type": "markdown",
   "metadata": {},
   "source": [
    "## Normalization Script\n",
    "\n",
    "Author: Kristina Preuer\n",
    "\n",
    "This script shows how the data was split and how the features were normalized. The data is then saved in a pickle file. Which will be loaded during the cross validation procedure."
   ]
  },
  {
   "cell_type": "code",
   "execution_count": 1,
   "metadata": {},
   "outputs": [],
   "source": [
    "import numpy as np\n",
    "import pandas as pd\n",
    "import pickle \n",
    "import gzip"
   ]
  },
  {
   "cell_type": "markdown",
   "metadata": {},
   "source": [
    "##### Define the parameters for data generation: folds for testing and validation and normalization strategy"
   ]
  },
  {
   "cell_type": "code",
   "execution_count": 2,
   "metadata": {},
   "outputs": [],
   "source": [
    "# in this example tanh normalization is used\n",
    "# fold 0 is used for testing and fold 1 for validation (hyperparamter selection)\n",
    "norm = 'tanh'"
   ]
  },
  {
   "cell_type": "markdown",
   "metadata": {},
   "source": [
    "#### Define nomalization function\n",
    "It normalizes the input data X. If X is used for training the mean and the standard deviation is calculated during normalization. If X is used for validation or testing, the previously calculated mean and standard deviation of the training data should be used. If \"tanh_norm\" is used as normalization strategy, then the mean and standard deviation are calculated twice. The features with a standard deviation of 0 are filtered out. "
   ]
  },
  {
   "cell_type": "code",
   "execution_count": 3,
   "metadata": {},
   "outputs": [],
   "source": [
    "def normalize(X, means1=None, std1=None, means2=None, std2=None, feat_filt=None, norm='tanh_norm'):\n",
    "    if std1 is None:\n",
    "        std1 = np.nanstd(X, axis=0)\n",
    "    if feat_filt is None:\n",
    "        feat_filt = std1!=0\n",
    "    X = X[:,feat_filt]\n",
    "    X = np.ascontiguousarray(X)\n",
    "    if means1 is None:\n",
    "        means1 = np.mean(X, axis=0)\n",
    "    X = (X-means1)/std1[feat_filt]\n",
    "    if norm == 'norm':\n",
    "        return(X, means1, std1, feat_filt)\n",
    "    elif norm == 'tanh':\n",
    "        return(np.tanh(X), means1, std1, feat_filt)\n",
    "    elif norm == 'tanh_norm':\n",
    "        X = np.tanh(X)\n",
    "        if means2 is None:\n",
    "            means2 = np.mean(X, axis=0)\n",
    "        if std2 is None:\n",
    "            std2 = np.std(X, axis=0)\n",
    "        X = (X-means2)/std2\n",
    "        X[:,std2==0]=0\n",
    "        return(X, means1, std1, means2, std2, feat_filt)        "
   ]
  },
  {
   "cell_type": "markdown",
   "metadata": {},
   "source": [
    "#### Data"
   ]
  },
  {
   "cell_type": "code",
   "execution_count": 4,
   "metadata": {},
   "outputs": [],
   "source": [
    "data_name = \"all_test\"\n",
    "with open(f\"cv_example/{data_name}.pkl\", \"rb\") as f:\n",
    "    file = pickle.load(f)\n",
    "# train_dc, y_train, test_dc, y_test, val_dc, y_val = file\n",
    "train_dc, y_train, test_dc, y_test, val_dc, y_val, mix_val, y_mix_val,\\\n",
    "mix_test, y_mix_test, blind_cell_val, y_blind_cell_val,\\\n",
    "blind_cell_test, y_blind_cell_test, blind_1_drug_val, y_blind_1_drug_val,\\\n",
    "blind_1_drug_test, y_blind_1_drug_test, blind_1_drug_cell_val, y_blind_1_drug_cell_val,\\\n",
    "blind_1_drug_cell_test, y_blind_1_drug_cell_test, blind_2_drug_val, y_blind_2_drug_val,\\\n",
    "blind_2_drug_test, y_blind_2_drug_test, blind_all_val, y_blind_all_val,\\\n",
    "blind_all_test, y_blind_all_test = file"
   ]
  },
  {
   "cell_type": "markdown",
   "metadata": {},
   "source": [
    "#### Normalize training and validation data for hyperparameter selection"
   ]
  },
  {
   "cell_type": "code",
   "execution_count": 5,
   "metadata": {},
   "outputs": [],
   "source": [
    "if norm == \"tanh_norm\":\n",
    "    train_dc, mean, std, mean2, std2, feat_filt = normalize(X_tr, norm=norm)\n",
    "    test_dc, mean, std, mean2, std2, feat_filt = normalize(test_dc, mean, std, mean2, std2, \n",
    "                                                          feat_filt=feat_filt, norm=norm)\n",
    "    val_dc, mean, std, mean2, std2, feat_filt = normalize(val_dc, mean, std, mean2, std2, \n",
    "                                                          feat_filt=feat_filt, norm=norm)\n",
    "    mix_val, mean, std, mean2, std2, feat_filt = normalize(mix_val, mean, std, mean2, std2, \n",
    "                                                          feat_filt=feat_filt, norm=norm)\n",
    "    mix_test, mean, std, mean2, std2, feat_filt = normalize(mix_test, mean, std, mean2, std2, \n",
    "                                                          feat_filt=feat_filt, norm=norm)\n",
    "    blind_cell_val, mean, std, mean2, std2, feat_filt = normalize(blind_cell_val, mean, std, mean2, std2, \n",
    "                                                          feat_filt=feat_filt, norm=norm)\n",
    "    blind_cell_test, mean, std, mean2, std2, feat_filt = normalize(blind_cell_test, mean, std, mean2, std2, \n",
    "                                                          feat_filt=feat_filt, norm=norm)\n",
    "    blind_1_drug_val, mean, std, mean2, std2, feat_filt = normalize(blind_1_drug_val, mean, std, mean2, std2, \n",
    "                                                          feat_filt=feat_filt, norm=norm)\n",
    "    blind_1_drug_test, mean, std, mean2, std2, feat_filt = normalize(blind_1_drug_test, mean, std, mean2, std2, \n",
    "                                                          feat_filt=feat_filt, norm=norm)\n",
    "    blind_1_drug_cell_val, mean, std, mean2, std2, feat_filt = normalize(blind_1_drug_cell_val, mean, std, mean2, std2, \n",
    "                                                          feat_filt=feat_filt, norm=norm)\n",
    "    blind_1_drug_cell_test, mean, std, mean2, std2, feat_filt = normalize(blind_1_drug_cell_test, mean, std, mean2, std2, \n",
    "                                                          feat_filt=feat_filt, norm=norm)\n",
    "    blind_2_drug_val, mean, std, mean2, std2, feat_filt = normalize(blind_2_drug_val, mean, std, mean2, std2, \n",
    "                                                          feat_filt=feat_filt, norm=norm)\n",
    "    blind_2_drug_test, mean, std, mean2, std2, feat_filt = normalize(blind_2_drug_test, mean, std, mean2, std2, \n",
    "                                                          feat_filt=feat_filt, norm=norm)\n",
    "    blind_all_val, mean, std, mean2, std2, feat_filt = normalize(blind_all_val, mean, std, mean2, std2, \n",
    "                                                          feat_filt=feat_filt, norm=norm)\n",
    "    blind_all_test, mean, std, mean2, std2, feat_filt = normalize(blind_all_test, mean, std, mean2, std2, \n",
    "                                                          feat_filt=feat_filt, norm=norm)\n",
    "else:\n",
    "    train_dc, mean, std, feat_filt = normalize(train_dc, norm=norm)\n",
    "    test_dc, mean, std, feat_filt = normalize(test_dc, mean, std, feat_filt=feat_filt, norm=norm)\n",
    "    val_dc, mean, std, feat_filt = normalize(val_dc, mean, std, feat_filt=feat_filt, norm=norm)    \n",
    "    mix_val, mean, std, feat_filt = normalize(mix_val, mean, std, feat_filt=feat_filt, norm=norm)    \n",
    "    mix_test, mean, std, feat_filt = normalize(mix_test, mean, std, feat_filt=feat_filt, norm=norm)    \n",
    "    blind_cell_val, mean, std, feat_filt = normalize(blind_cell_val, mean, std, feat_filt=feat_filt, norm=norm)    \n",
    "    blind_cell_test, mean, std, feat_filt = normalize(blind_cell_test, mean, std, feat_filt=feat_filt, norm=norm)    \n",
    "    blind_1_drug_val, mean, std, feat_filt = normalize(blind_1_drug_val, mean, std, feat_filt=feat_filt, norm=norm)    \n",
    "    blind_1_drug_test, mean, std, feat_filt = normalize(blind_1_drug_test, mean, std, feat_filt=feat_filt, norm=norm)    \n",
    "    blind_1_drug_cell_val, mean, std, feat_filt = normalize(blind_1_drug_cell_val, mean, std, feat_filt=feat_filt, norm=norm)    \n",
    "    blind_1_drug_cell_test, mean, std, feat_filt = normalize(blind_1_drug_cell_test, mean, std, feat_filt=feat_filt, norm=norm)    \n",
    "    blind_2_drug_val, mean, std, feat_filt = normalize(blind_2_drug_val, mean, std, feat_filt=feat_filt, norm=norm)    \n",
    "    blind_2_drug_test, mean, std, feat_filt = normalize(blind_2_drug_test, mean, std, feat_filt=feat_filt, norm=norm)    \n",
    "    blind_all_val, mean, std, feat_filt = normalize(blind_all_val, mean, std, feat_filt=feat_filt, norm=norm)    \n",
    "    blind_all_test, mean, std, feat_filt = normalize(blind_all_test, mean, std, feat_filt=feat_filt, norm=norm)        "
   ]
  },
  {
   "cell_type": "markdown",
   "metadata": {},
   "source": [
    "#### Normalize training and test data for methods comparison"
   ]
  },
  {
   "cell_type": "markdown",
   "metadata": {},
   "source": [
    "#### Save data as pickle file"
   ]
  },
  {
   "cell_type": "code",
   "execution_count": 8,
   "metadata": {},
   "outputs": [],
   "source": [
    "data_for_deepsy = (train_dc, y_train, test_dc, y_test, val_dc, y_val, mix_val, y_mix_val,\\\n",
    "mix_test, y_mix_test, blind_cell_val, y_blind_cell_val,\\\n",
    "blind_cell_test, y_blind_cell_test, blind_1_drug_val, y_blind_1_drug_val,\\\n",
    "blind_1_drug_test, y_blind_1_drug_test, blind_1_drug_cell_val, y_blind_1_drug_cell_val,\\\n",
    "blind_1_drug_cell_test, y_blind_1_drug_cell_test, blind_2_drug_val, y_blind_2_drug_val,\\\n",
    "blind_2_drug_test, y_blind_2_drug_test, blind_all_val, y_blind_all_val,\\\n",
    "blind_all_test, y_blind_all_test)\n",
    "# data_for_deepsy = (train_dc, y_train, test_dc, y_test, val_dc, y_val) \n",
    "with open(f\"cv_example/{data_name}.pkl\", \"wb\") as f:\n",
    "    pickle.dump(data_for_deepsy, f)"
   ]
  },
  {
   "cell_type": "code",
   "execution_count": 9,
   "metadata": {},
   "outputs": [
    {
     "data": {
      "text/plain": [
       "'all_test'"
      ]
     },
     "execution_count": 9,
     "metadata": {},
     "output_type": "execute_result"
    }
   ],
   "source": [
    "data_name"
   ]
  },
  {
   "cell_type": "code",
   "execution_count": 7,
   "metadata": {},
   "outputs": [
    {
     "data": {
      "text/plain": [
       "30"
      ]
     },
     "execution_count": 7,
     "metadata": {},
     "output_type": "execute_result"
    }
   ],
   "source": [
    "len(data_for_deepsy)"
   ]
  },
  {
   "cell_type": "code",
   "execution_count": null,
   "metadata": {},
   "outputs": [],
   "source": []
  },
  {
   "cell_type": "code",
   "execution_count": null,
   "metadata": {},
   "outputs": [],
   "source": []
  }
 ],
 "metadata": {
  "kernelspec": {
   "display_name": "hoavd",
   "language": "python",
   "name": "hoavd"
  },
  "language_info": {
   "codemirror_mode": {
    "name": "ipython",
    "version": 3
   },
   "file_extension": ".py",
   "mimetype": "text/x-python",
   "name": "python",
   "nbconvert_exporter": "python",
   "pygments_lexer": "ipython3",
   "version": "3.9.4"
  }
 },
 "nbformat": 4,
 "nbformat_minor": 4
}
